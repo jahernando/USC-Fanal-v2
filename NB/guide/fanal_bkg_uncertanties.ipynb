{
 "cells": [
  {
   "cell_type": "markdown",
   "metadata": {},
   "source": [
    "# Fanal, a neutrino-less beta decay experiment \n",
    "\n",
    "## An open exercise\n",
    "\n",
    "### Background uncertainty estimation \n",
    "\n",
    "\n",
    "#### USC, Master de Física, Física de Partículas II\n",
    "\n",
    "\n",
    "J. A. Hernando-Morata\n",
    "\n",
    "February 2021 - February 2022"
   ]
  },
  {
   "cell_type": "code",
   "execution_count": 6,
   "metadata": {},
   "outputs": [
    {
     "name": "stdout",
     "output_type": "stream",
     "text": [
      "The autoreload extension is already loaded. To reload it, use:\n",
      "  %reload_ext autoreload\n"
     ]
    }
   ],
   "source": [
    "%matplotlib inline\n",
    "%load_ext autoreload\n",
    "%autoreload 2"
   ]
  },
  {
   "cell_type": "markdown",
   "metadata": {},
   "source": [
    "#### Importing modules"
   ]
  },
  {
   "cell_type": "code",
   "execution_count": 7,
   "metadata": {},
   "outputs": [],
   "source": [
    "import numpy  as np\n",
    "import tables as tb\n",
    "import pandas as pd\n",
    "import matplotlib.pyplot as plt\n",
    "\n",
    "import scipy.stats     as stats  # statistics and Many PDFs \n",
    "#import scipy.optimize  as optimize # Minimice funtions\n",
    "\n",
    "import warnings\n",
    "warnings.filterwarnings('ignore')"
   ]
  },
  {
   "cell_type": "code",
   "execution_count": 8,
   "metadata": {},
   "outputs": [
    {
     "name": "stdout",
     "output_type": "stream",
     "text": [
      "add path to PYTHONPATH :  /Users/hernando/work/docencia/master/Fisica_Particulas/USC-Fanal-v2\n"
     ]
    }
   ],
   "source": [
    "# REMEMBER TO ADD Your Fanal FOLDER TO PYTHONPATH\n",
    "import os\n",
    "import sys\n",
    "import importlib\n",
    "dirpath = os.getcwd()[:-9]\n",
    "print('add path to PYTHONPATH : ', dirpath)\n",
    "sys.path.insert(0, os.path.abspath(dirpath))"
   ]
  },
  {
   "cell_type": "code",
   "execution_count": 9,
   "metadata": {},
   "outputs": [],
   "source": [
    "import core.pltext  as pltext   # extensions for plotting histograms\n",
    "import core.hfit    as hfit     # extension to fit histograms\n",
    "import core.efit    as efit     # Fit Utilites - Includes Extend Likelihood Fit with composite PDFs\n",
    "import core.utils   as ut       # generic utilities\n",
    "import ana.fanal    as fn       # analysis functions specific to fanal\n",
    "import ana.pltfanal as pltfn    # plotting fanal functions\n",
    "import     collpars as collpars # collaboration specific parameters\n",
    "pltext.style()"
   ]
  },
  {
   "cell_type": "markdown",
   "metadata": {},
   "source": [
    "## Indications\n",
    "\n",
    "### Objective\n",
    "\n",
    "   * **Estimate the uncerntainty on the background contamination**, the number of Bi and Tl events, using blind-data.\n",
    "\n",
    "### Tasks\n",
    "\n",
    "   * Do a **likelihood profile scan** to estimate the uncertainties in the number Bi and Tl events\n",
    "\n",
    "### Exercises:\n",
    "\n",
    "  * Generate m-large simulation experiments with the estimated number of Bi and Tl events and get the distribution of the number of events of Bi, Tl in RoI.\n",
    "  \n",
    "  * Verify that the uncertainty with the MC experiments is equal or similar to the one obtained with the LikeLihood scan.\n"
   ]
  },
  {
   "cell_type": "markdown",
   "metadata": {},
   "source": [
    "## Main Parameters"
   ]
  },
  {
   "cell_type": "code",
   "execution_count": 10,
   "metadata": {},
   "outputs": [
    {
     "name": "stdout",
     "output_type": "stream",
     "text": [
      "Collaboration             : new_alpha\n",
      "number of tracks range    : (1,   1.10)\n",
      "Blob-2 energy range       : ( 0.400,  1.200) MeV\n",
      "Energy range              : ( 2.400,  2.700) MeV\n",
      "Energy RoI range          : ( 2.430,  2.480) MeV\n"
     ]
    }
   ],
   "source": [
    "coll          = collpars.collaboration\n",
    "ntracks_range = collpars.ntracks_range\n",
    "eblob2_range  = collpars.eblob2_range\n",
    "erange        = collpars.erange\n",
    "eroi          = collpars.eroi\n",
    "\n",
    "print('Collaboration             : {:s}'.format(coll))\n",
    "print('number of tracks range    : ({:d}, {:6.2f})'.format(*ntracks_range))\n",
    "print('Blob-2 energy range       : ({:6.3f}, {:6.3f}) MeV'.format(*eblob2_range))\n",
    "print('Energy range              : ({:6.3f}, {:6.3f}) MeV'.format(*erange))\n",
    "print('Energy RoI range          : ({:6.3f}, {:6.3f}) MeV'.format(*eroi))"
   ]
  },
  {
   "cell_type": "code",
   "execution_count": 11,
   "metadata": {},
   "outputs": [
    {
     "name": "stdout",
     "output_type": "stream",
     "text": [
      "Number of bkg events in blind data : Bi = 117.14, Tl = 791.90.\n"
     ]
    }
   ],
   "source": [
    "# number of  blind events\n",
    "nevts_Bi_blind = collpars.nevts_Bi_blind\n",
    "nevts_Tl_blind = collpars.nevts_Tl_blind\n",
    "nevts_blind    = [nevts_Bi_blind, nevts_Tl_blind]\n",
    "print('Number of bkg events in blind data : Bi = {:6.2f}, Tl = {:6.2f}.'.format(*nevts_blind))"
   ]
  },
  {
   "cell_type": "markdown",
   "metadata": {},
   "source": [
    "## Access the data"
   ]
  },
  {
   "cell_type": "code",
   "execution_count": 12,
   "metadata": {},
   "outputs": [
    {
     "name": "stdout",
     "output_type": "stream",
     "text": [
      "Data path and filename :  /Users/hernando/work/docencia/master/Fisica_Particulas/USC-Fanal-v2/data/fanal_new_alpha.h5\n"
     ]
    }
   ],
   "source": [
    "#dirpath = '/Users/hernando/docencia/master/Fisica_Particulas/USC-Fanal/data/'\n",
    "filename = '/data/fanal_' + coll + '.h5'\n",
    "print('Data path and filename : ', dirpath + filename)\n",
    "\n",
    "mcbi       = pd.read_hdf(dirpath + filename, key = 'mc/bi214')   # MC Bi\n",
    "mctl       = pd.read_hdf(dirpath + filename, key = 'mc/tl208')   # MC Tl\n",
    "data_blind = pd.read_hdf(dirpath + filename, key = 'data/blind') # blind data\n",
    "\n",
    "mcs      = [mcbi, mctl]\n",
    "tsamples = ['Bi', 'Tl']\n",
    "ssamples = [r'$^{214}$Bi', r'$^{208}$Tl']"
   ]
  },
  {
   "cell_type": "markdown",
   "metadata": {},
   "source": [
    "### Re-do the fit\n"
   ]
  },
  {
   "cell_type": "code",
   "execution_count": 13,
   "metadata": {},
   "outputs": [
    {
     "name": "stdout",
     "output_type": "stream",
     "text": [
      "Initial   number of events : 117.14,  791.90, \n",
      "Estimated number of events : 117.13,  791.86, \n"
     ]
    },
    {
     "data": {
      "image/png": "[encoded data removed]",
      "text/plain": [
       "<Figure size 720x576 with 2 Axes>"
      ]
     },
     "metadata": {
      "needs_background": "light"
     },
     "output_type": "display_data"
    }
   ],
   "source": [
    "# get the blind mc samples\n",
    "mcs_blind  = [mc[fn.selection_blind(mc)] for mc in mcs]\n",
    "\n",
    "nevts_blind = (collpars.nevts_Bi_blind, collpars.nevts_Tl_blind)\n",
    "\n",
    "varname   = 'E'\n",
    "refnames  = (varname,) \n",
    "refranges = (erange,)\n",
    "\n",
    "fit        = fn.prepare_fit_ell(mcs_blind, nevts_blind, refnames, refranges)\n",
    "\n",
    "result, enes, ell, _ = fit(data_blind)\n",
    "nevts_est = result.x\n",
    "\n",
    "print('Initial   number of events :', *['{:6.2f}, '.format(ni) for ni in nevts_blind])\n",
    "print('Estimated number of events :', *['{:6.2f}, '.format(ni) for ni in nevts_est])\n",
    "# it also plots the histogram, the fit function, and the pdfs samples\n",
    "pltfn.plot_fit_ell(enes, nevts_est, ell)"
   ]
  },
  {
   "cell_type": "markdown",
   "metadata": {},
   "source": [
    "## Do a Profile Likelihood Scan\n",
    "\n",
    "We compute the uncertainties usign the log Likelihood scan\n",
    "\n",
    "The uncertainties on $\\mu$, in the gaussian domain, when there are two parameters $\\mu, \\nu$, are defined as the $\\mu$ values where:\n",
    "\n",
    "$$\n",
    "t_\\mu(x) = \n",
    "-2 \\, \\mathrm{log} \\frac{\\mathcal{L}(x | \\mu, \\hat{\\nu}(\\mu))}{\\mathcal{L}(x | \\hat{\\mu}, \\hat{\\nu})} = \\Delta - 2 \\mathrm{log} \\mathcal{L} = 1\n",
    "$$\n"
   ]
  },
  {
   "cell_type": "markdown",
   "metadata": {},
   "source": [
    "  * Do a likelihood profile scan\n",
    "\n",
    "  * Compute the 68% CI region"
   ]
  },
  {
   "cell_type": "code",
   "execution_count": 14,
   "metadata": {},
   "outputs": [
    {
     "data": {
      "image/png": "[encoded data removed]",
      "text/plain": [
       "<Figure size 864x360 with 2 Axes>"
      ]
     },
     "metadata": {
      "needs_background": "light"
     },
     "output_type": "display_data"
    }
   ],
   "source": [
    "nis, tmus = fn.tmu_scan(enes, nevts_est, ell, sizes = (3., 3.))\n",
    "pltfn.plot_tmu_scan(nis, tmus, titles = ssamples)"
   ]
  },
  {
   "cell_type": "code",
   "execution_count": 15,
   "metadata": {},
   "outputs": [
    {
     "name": "stdout",
     "output_type": "stream",
     "text": [
      "Number of Bi events CI at   68 % CL = (103.21, 132.37)\n",
      "Number of Tl events CI at   68 % CL = (762.57, 821.14)\n"
     ]
    }
   ],
   "source": [
    "cl    = 0.68\n",
    "mucis = [efit.tmu_conf_int(ni, tmu, cl) for ni, tmu in zip(nis, tmus)]\n",
    "for i, ci in enumerate(mucis):\n",
    "    print('Number of {:s} events CI at {:4.0f} % CL = ({:5.2f}, {:5.2f})'.format(tsamples[i], 100*cl, *ci))"
   ]
  },
  {
   "cell_type": "code",
   "execution_count": 16,
   "metadata": {},
   "outputs": [
    {
     "name": "stdout",
     "output_type": "stream",
     "text": [
      "Number of Bi events CI at   68 % CL = 117.13  -13.91 +15.24\n",
      "Number of Tl events CI at   68 % CL = 791.86  -29.29 +29.29\n"
     ]
    }
   ],
   "source": [
    "for i, ci in enumerate(mucis):\n",
    "    print('Number of {:s} events CI at {:4.0f} % CL = {:5.2f}  {:5.2f} +{:5.2f}'.format(tsamples[i], 100*cl, \n",
    "                                                                                        result.x[i],\n",
    "                                                                                        *(ci - result.x[i])))"
   ]
  },
  {
   "cell_type": "markdown",
   "metadata": {},
   "source": [
    "## Computing the uncertainties in the number of Bkg\n",
    "\n",
    " * Compute the uncertainties in the total number of background events.\n",
    " \n",
    " * Compute the uncertainties in the number of background events in the RoI, *eroi*, and Energy, *erange*, regions.\n"
   ]
  },
  {
   "cell_type": "code",
   "execution_count": 17,
   "metadata": {},
   "outputs": [
    {
     "name": "stdout",
     "output_type": "stream",
     "text": [
      "Uncertainty in number of Blind Bi events  = 14.577 \n",
      "Uncertainty in number of Blind Tl events  = 29.288 \n",
      "Uncertainty in number          Bi events  = 18.570 \n",
      "Uncertainty in number          Tl events  = 41.426 \n"
     ]
    }
   ],
   "source": [
    "unevts_blind = np.array([np.max(ci) - np.mean(ci) for ci in mucis])\n",
    "effs_blind   = np.array((collpars.eff_Bi_blind, collpars.eff_Tl_blind))\n",
    "unevts       = unevts_blind/effs_blind\n",
    "\n",
    "for i, u in enumerate(unevts_blind):\n",
    "    print('Uncertainty in number of Blind {:s} events  = {:6.3f} '.format(tsamples[i], u))\n",
    "for i, u in enumerate(unevts):\n",
    "    print('Uncertainty in number          {:s} events  = {:6.3f} '.format(tsamples[i], u))"
   ]
  },
  {
   "cell_type": "code",
   "execution_count": 18,
   "metadata": {},
   "outputs": [
    {
     "name": "stdout",
     "output_type": "stream",
     "text": [
      "Uncertainty in number of Bi events in erange =  0.334 \n",
      "Uncertainty in number of Tl events in erange =  0.302 \n",
      "Uncertainty in number of Bi events in RoI    =  0.288 \n",
      "Uncertainty in number of Tl events in RoI    =  0.008 \n"
     ]
    }
   ],
   "source": [
    "effs_E     = np.array((collpars.eff_Bi_E  , collpars.eff_Tl_E))\n",
    "effs_roi   = np.array((collpars.eff_Bi_RoI, collpars.eff_Tl_RoI))\n",
    "\n",
    "unevts_E   = unevts * effs_E\n",
    "unevts_roi = unevts * effs_roi\n",
    "\n",
    "for i, u in enumerate(unevts_E):\n",
    "    print('Uncertainty in number of {:s} events in erange = {:6.3f} '.format(tsamples[i], u))\n",
    "for i, u in enumerate(unevts_roi):\n",
    "    print('Uncertainty in number of {:s} events in RoI    = {:6.3f} '.format(tsamples[i], u))"
   ]
  },
  {
   "cell_type": "markdown",
   "metadata": {},
   "source": [
    "## Write Out"
   ]
  },
  {
   "cell_type": "code",
   "execution_count": 19,
   "metadata": {},
   "outputs": [],
   "source": [
    "write = True\n",
    "\n",
    "if (write):\n",
    "    of = open('collpars.py', 'a')\n",
    "    for i, sample in enumerate(tsamples):\n",
    "        of.write('unevts_'+sample+'       = {:6.3f}'.format(unevts[i])+'\\n')\n",
    "        of.write('unevts_'+sample+'_blind = {:6.3f}'.format(unevts_blind[i])+'\\n')\n",
    "        of.write('unevts_'+sample+'_E     = {:6.3f}'.format(unevts_E[i])  +'\\n')\n",
    "        of.write('unevts_'+sample+'_RoI   = {:6.3f}'.format(unevts_roi[i])  +'\\n')\n",
    "    of.close()"
   ]
  },
  {
   "cell_type": "code",
   "execution_count": null,
   "metadata": {},
   "outputs": [],
   "source": []
  }
 ],
 "metadata": {
  "kernelspec": {
   "display_name": "Python 3",
   "language": "python",
   "name": "python3"
  },
  "language_info": {
   "codemirror_mode": {
    "name": "ipython",
    "version": 3
   },
   "file_extension": ".py",
   "mimetype": "text/x-python",
   "name": "python",
   "nbconvert_exporter": "python",
   "pygments_lexer": "ipython3",
   "version": "3.7.11"
  },
  "vscode": {
   "interpreter": {
    "hash": "43bf40b08b0c659beee69adf0e375d89f2700363cec8d5fb661c131f1f6d870f"
   }
  }
 },
 "nbformat": 4,
 "nbformat_minor": 2
}
