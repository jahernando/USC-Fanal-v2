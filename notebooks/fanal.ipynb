{
 "cells": [
  {
   "attachments": {},
   "cell_type": "markdown",
   "metadata": {},
   "source": [
    "# Fanal, a neutrino-less beta double decay search"
   ]
  },
  {
   "attachments": {},
   "cell_type": "markdown",
   "metadata": {},
   "source": [
    "## Objectives\n",
    "\n",
    "\n",
    "  * Do a search for double-beta neutrino-less decays, $\\beta\\beta0\\nu$, in $^{136}\\mathrm{Xe}$ using mock detector data. \n",
    "\n",
    "  * Learn the different steps in a typical \"rare decay\" seach analysis in a High Energy Physics, HEP, collaboration.\n",
    " "
   ]
  },
  {
   "attachments": {},
   "cell_type": "markdown",
   "metadata": {},
   "source": [
    "## Dynamic\n",
    "\n",
    "  * Students groups in collaborations\n",
    "\n",
    "  * Each collaboration:\n",
    "\n",
    "    *  select an student as spokeperson\n",
    "\n",
    "    *  selects its name from: *alpha, beta, gamma, epsilon, delta*, and accesses its detector mock data\n",
    "\n",
    "    *  performs a $\\beta\\beta0\\nu$ search following these notebooks as a guidelines\n",
    "\n",
    "    *  presents its resuls in a oral contribution and writes an article.\n"
   ]
  },
  {
   "attachments": {},
   "cell_type": "markdown",
   "metadata": {},
   "source": [
    "## Physics\n",
    "\n",
    "One of the most relevant questions still open in Particle Physics is if **the neutrino is its own anti-particle**, if it is *Majorana*. \n",
    "\n",
    "The only **viable experiment** to determine if the neutrino is Majorana is to observe a $\\beta\\beta0\\nu$ decay, an hypothetical decay where a nucleus simultaneously decays into two electrons with no emision of neutrinos.\n",
    "\n",
    "This decay can only happen in **few isotopes**, i.e $^{136}\\mathrm{Xe}$."
   ]
  },
  {
   "attachments": {},
   "cell_type": "markdown",
   "metadata": {},
   "source": [
    "The **signal** of the decay is quite clear:\n",
    "\n",
    " * The **energy of the two electrons** is equal to the $Q_{\\beta\\beta}$ of the decay, for $^{136}\\mathrm{Xe}$, $Q_{\\beta\\beta} = 2458$ keV.\n",
    " \n",
    " * The presence of two electrons, compared with the main backgrounds, which are single electrons.  "
   ]
  },
  {
   "attachments": {},
   "cell_type": "markdown",
   "metadata": {},
   "source": [
    "The main **background** are single electron from photo-electric or comptom scattering of the gammas produced from the radioisotopes of the natural chains, $\\mathrm{U}, \\mathrm{Th}$.\n",
    "\n",
    "In the case of $^{136}\\mathrm{Xe}$ the **main backgrounds** are:\n",
    "\n",
    " * The 2.447 MeV energy of the $^{214}\\mathrm{Bi}$ photopeak.\n",
    "\n",
    " * The tail of the 2.615 MeV $^{108}\\mathrm{Tl}$ gamma interactions."
   ]
  },
  {
   "cell_type": "markdown",
   "metadata": {},
   "source": [
    "**The NEXT experiment** is a 100 kg High Pressure Xenon TPC, where signal events signature is a track of aproximatelly 10 cm composed of 2 electrons, which both extremes show a Bragg region, a larger deposition of energy, or \"blob\", while the background, a single electron, only show a brag region, a blob, in on the extremes. \n",
    "\n",
    "NEXT has also an excellent energy resolution of 1% FWHM at $Q_{\\beta\\beta}$.\n",
    "\n",
    "In addition NEXT is constructed with very high radio-pure materials, and have a Cu shielding.\n",
    "\n",
    "NEXT is expected to operate 5 years at [*Laboratorio Subterráneo de Canfranc*](https://lsc-canfranc.es/)"
   ]
  },
  {
   "cell_type": "markdown",
   "metadata": {},
   "source": [
    "Example of a two electron track from a pair conversion (top) and a single electron track from a Compton (bottom) obtained with the NEXT prototype, NEXT-White\n",
    "\n",
    "\n",
    "| |\n",
    "|:--:|\n",
    "|<img src=\"../NEXT_White_events.png\" width=500 align=\"center\">|\n",
    "| |\n"
   ]
  },
  {
   "attachments": {},
   "cell_type": "markdown",
   "metadata": {},
   "source": [
    "\n",
    "The **main parameters** of a neutrino-less $\\beta\\beta0\\nu$ esperiments are:\n",
    "\n",
    " * A large **exposure** in kg y (the total number of isotopes is proportial to the mass, kg) multipled by the time running time (years)\n",
    "\n",
    " * An excellent **energy resolution** (related with the $Q_{\\beta\\beta}$ reconstructed peak)\n",
    "\n",
    " * A low **number of background events** (the number of bkg events expected for a given exposured in the energy Region of Interest, RoI, defined around the $Q_{\\beta\\beta}$ for a given exposure)"
   ]
  },
  {
   "attachments": {},
   "cell_type": "markdown",
   "metadata": {},
   "source": [
    "## The analysis\n",
    "\n",
    "In HEP usually the search for rare decays is done as a **blind analysis**.\n",
    "\n",
    "The analysis must be defined using simulated and studied with calibration or *blind* data (data where the possible signal events have been removed) before accessing the full data set.\n",
    "\n",
    "Blind analyses are designed in order to avoid human biases!"
   ]
  },
  {
   "attachments": {},
   "cell_type": "markdown",
   "metadata": {},
   "source": [
    "#### The data\n",
    "\n",
    "Each collaboration has access to the following data:\n",
    "\n",
    " * **simulated data** of $^{214}\\mathrm{Bi}$, $^{108}\\mathrm{Tl}$ and $\\beta\\beta0\\nu$ of $^{136}\\mathrm{Xe}$. These data will be used to define a signal selection, the RoI and to estimate the energy resolution in the $Q_{\\beta\\beta}$ region\n",
    "\n",
    " * **blind data**, which contain no signal events. This data will be used to estimate the total number of $^{214}\\mathrm{Bi}$, $^{108}\\mathrm{Tl}$ and the number of bkg events expected after the signal selection in the RoI.\n",
    "\n",
    " * the **full data**, to estimate the number of signal events and the half-life of $^{136}\\mathrm{Xe}$, $\\mathcal{T}_{1/2}^{\\beta\\beta0\\nu}(^{136}\\mathrm{Xe})$."
   ]
  },
  {
   "attachments": {},
   "cell_type": "markdown",
   "metadata": {},
   "source": [
    "### The analysis steps\n",
    "\n",
    "1) Using *simulated data*, MC, to **define the signal selection** and **the RoI**. Compute the signal **selection efficiencies** in the differents MC samples $^{214}\\mathrm{Bi}$, $^{108}\\mathrm{Tl}$ and $\\beta\\beta0\\nu$, [NB](./guide/fanal_selection.ipynb).\n",
    "\n",
    "2) Using *simulated data* to estimate **the energy resolution** for the $^{214}\\mathrm{Bi}$, $^{108}\\mathrm{Tl}$ and $\\beta\\beta0\\nu$, [NB](./guide/fanal_energy_resolution.ipynb).\n",
    "\n",
    "3) Using *blinb data* to estimate **the number of background events** $^{214}\\mathrm{Bi}$, $^{108}\\mathrm{Tl}$ and the number of bkg events in the RoI, [NB](./guide/fanal_bkg.ipynb). Estimate also the uncertainty in the number of bkg events, [NB](./guide/fanal_bkg_uncertanties.ipynb)."
   ]
  },
  {
   "attachments": {},
   "cell_type": "markdown",
   "metadata": {},
   "source": [
    "\n",
    "4) Estimate **the sensitivity of the experiment** as a **counting experiment**. If in the RoI we observe $n$ events, what is the limits or the cover interval at certain, 95%, C.L that we set on the $\\mathcal{T}_{1/2}^{\\beta\\beta0\\nu}(^{136}\\mathrm{Xe})$? Has the experiment performed a discovery? [NB](./guide/fanal_signal_countexp.ipynb)\n",
    "\n",
    "5) Using *simulated data*, define a **fit method** to extract from the data in an enlarged energy region the number of bkg events and signal, [NB](./guide/fanal_signal.ipynb). "
   ]
  },
  {
   "attachments": {},
   "cell_type": "markdown",
   "metadata": {},
   "source": [
    "\n",
    "5) Access the *full data*, [NB](./guide/fanal_data_access.ipynb)  . Consider **two analysis**:\n",
    "\n",
    "   i)  **counting experiment**: how many signal events are in your RoI?\n",
    "\n",
    "   ii) **do a fit and extract the number of signal events**\n",
    "\n",
    "6) **Estimate the limit or the cover interval** at 95 %CL of the $\\mathcal{T}_{1/2}^{\\beta\\beta0\\nu}(^{136}\\mathrm{Xe})$. \n",
    "\n",
    "7) **Publish the results**, prepare an oral presentation for a conference and an article to publish"
   ]
  },
  {
   "cell_type": "markdown",
   "metadata": {},
   "source": [
    "## Exposures"
   ]
  },
  {
   "cell_type": "markdown",
   "metadata": {},
   "source": [
    "Collaborations:\n",
    "    \n",
    "   * alpha: Exposure 500 kg y.\n",
    "    \n",
    "   * beta: Exposure 1000 kg y.\n",
    "    \n",
    "   * gamma: Exposure 1000 kg y.\n",
    "    \n",
    "   * delta: Exposure 3000 kg y.\n",
    "   \n",
    "   * epsilon: Exposure 3000 kg y."
   ]
  },
  {
   "cell_type": "markdown",
   "metadata": {},
   "source": [
    "## References\n",
    "\n",
    "\n",
    "  [1] [NEXT IFIC web page](https://next.ific.uv.es/next/), [NEXT DIPC web page]()\n",
    "  \n",
    "  [2] The NEXT Collaboration (J. Martín-Albo et al.), Sensitivity of NEXT-100 to neutrinoless double beta decay, [JHEP 1605 (2016) 159.](https://link.springer.com/article/10.1007/JHEP05(2016)159)"
   ]
  }
 ],
 "metadata": {
  "kernelspec": {
   "display_name": "Python 3 (ipykernel)",
   "language": "python",
   "name": "python3"
  },
  "language_info": {
   "codemirror_mode": {
    "name": "ipython",
    "version": 3
   },
   "file_extension": ".py",
   "mimetype": "text/x-python",
   "name": "python",
   "nbconvert_exporter": "python",
   "pygments_lexer": "ipython3",
   "version": "3.7.11"
  },
  "vscode": {
   "interpreter": {
    "hash": "43bf40b08b0c659beee69adf0e375d89f2700363cec8d5fb661c131f1f6d870f"
   }
  }
 },
 "nbformat": 4,
 "nbformat_minor": 2
}
