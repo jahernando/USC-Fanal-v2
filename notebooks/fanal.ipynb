{
 "cells": [
  {
   "attachments": {},
   "cell_type": "markdown",
   "metadata": {},
   "source": [
    "# Fanal, a neutrino-less beta decay search \n",
    "\n",
    "\n",
    "\n",
    "USC, Master de Física, Física de Partícula II\n",
    "\n",
    "J. A. Hernando-Morata, \n",
    "\n",
    "February 2023"
   ]
  },
  {
   "attachments": {},
   "cell_type": "markdown",
   "metadata": {},
   "source": [
    "## Objectives\n",
    "\n",
    "\n",
    "  * Do a search for double-beta neutrino-less decays, $\\beta\\beta0\\nu$, in $^{136}\\mathrm{Xe}$, using mock detector data. \n",
    "\n",
    "  * Learn the different steps in a typical \"rare decay\" analysis of a HEP experimental collaboration\n",
    " "
   ]
  },
  {
   "attachments": {},
   "cell_type": "markdown",
   "metadata": {},
   "source": [
    "## Dynamic\n",
    "\n",
    "  * Students groups in collaborations and select an student as the *spokeperson* \n",
    "\n",
    "  * Each collaboration:\n",
    "\n",
    "    *  selects its name from: *alpha, beta, gamma, epsilon, delta*, and accesses its \"detector\" data\n",
    "\n",
    "    *  performs a $\\beta\\beta0\\nu$ search following these notebooks as a guidelines\n",
    "\n",
    "    *  presents its resuls in a oral contribution and writes an article.\n"
   ]
  },
  {
   "attachments": {},
   "cell_type": "markdown",
   "metadata": {},
   "source": [
    "## Physics\n",
    "\n",
    "One of the most relevant questions still open in Particle Physics is if **the neutrino is its own anti-particle**. \n",
    "\n",
    "The only **viable experiment** to search for a $\\beta\\beta0\\nu$ decay, where a nucleous simultaneously decays into two electrons with no emision of neutrinos.\n",
    "\n",
    "This hypothetical decay can only happen in **few isotopes**, i.e $^{136}\\mathrm{Xe}$."
   ]
  },
  {
   "attachments": {},
   "cell_type": "markdown",
   "metadata": {},
   "source": [
    "The **signal** of the decay is quite clear:\n",
    "\n",
    " * The **energy of the two electrons** is equal to the $Q$ of the decay, for $^{136}\\mathrm{Xe}$, $Q = 2458$ keV.\n",
    " \n",
    " * The presence of two electrons, compared with the main backgrounds, which are single electrons.  "
   ]
  },
  {
   "attachments": {},
   "cell_type": "markdown",
   "metadata": {},
   "source": [
    "The main **background** are single electron from photoelectric of comptom of the radioisotopes of the natural chains of $\\mathrm{U}, \\mathrm{Th}$\n",
    "\n",
    "In the case of $^{136}\\mathrm{Xe}$ the **main backgrounds** are:\n",
    "\n",
    " * The 2.447 MeV energy of the $^{214}\\mathrm{Bi}$ photopeak.\n",
    "\n",
    " * The tail of the 2.615 MEV $^{108}\\mathrm{Tl}$ photopeak."
   ]
  },
  {
   "attachments": {},
   "cell_type": "markdown",
   "metadata": {},
   "source": [
    "\n",
    "The **main parameters** of a neutrino-less $\\beta\\beta0\\nu$ esperiments are:\n",
    "\n",
    " * A large **exposure** in kg y (the total number of isotopes, proportial to the mass, kg) multiples by the time (years)\n",
    "\n",
    " * An excellent **energy resolution** (to reduce the width of the $Q$ peak associated to the energy of the $\\beta\\beta0\\nu$ events)\n",
    "\n",
    " * A low **number of background events** (the number of bkg events expecte for a given exposure in the energy Region of Interest, RoI, defined around the $Q_{\\beta\\beta}$)"
   ]
  },
  {
   "attachments": {},
   "cell_type": "markdown",
   "metadata": {},
   "source": [
    "## The analysis\n",
    "\n",
    "In HEP usually the search for rare decays are **blind analyses**, which implies that the full analysis must be defined using simulated, calibration or *blind* data (data where the possible signal events have been removed)\n",
    "\n",
    "Blind analyses are designed in order to avoid humas biases!"
   ]
  },
  {
   "attachments": {},
   "cell_type": "markdown",
   "metadata": {},
   "source": [
    "#### The data\n",
    "\n",
    "Each collaboration has access to the following data:\n",
    "\n",
    " * **simulated data** of $^{214}\\mathrm{Bi}$, $^{108Tl}$ and $\\beta\\beta0\\nu$ of $^{136}\\mathrm{Xe}$. These data will be used to define a signal selection, the RoI and to estimate the energy resolution in the $Q_{\\beta\\beta}$ region\n",
    "\n",
    " * **blind data**, which contain signal events. This data will be used to estimate the total number of $^{214}\\mathrm{Bi}$, $^{108}\\mathrm{Tl}$ and the number of bkg events expected after the signal selection in the RoI.\n",
    "\n",
    " * the **full data** where estimate the number of signal events and the half-life of $^{136}\\mathrm{Xe}$, $\\mathcal{T}_{1/2}^{\\beta\\beta0\\nu}(^{136}\\mathrm{Xe})$."
   ]
  },
  {
   "attachments": {},
   "cell_type": "markdown",
   "metadata": {},
   "source": [
    "### The analysis steps\n",
    "\n",
    "1) Using simulated data **define the signal selection** and **define the RoI**. Compute the signal **selection efficiencies** in the differents samples $^{214}\\mathrm{Bi}$, $^{108}\\mathrm{Tl}$ and $\\beta\\beta0\\nu$, [NB](./guide/fanal_def.ipynb).\n",
    "\n",
    "2) Using simulated data estimate **the energy resolution** for the $^{214}\\mathrm{Bi}$, $^{108}\\mathrm{Tl}$ and $\\beta\\beta0\\nu$, [NB](./guide/fanal_def.ipynb).\n",
    "\n",
    "3) Using blinb data estimate **the number of background events** $^{214}\\mathrm{Bi}$, $^{108}\\mathrm{Tl}$ and the number of bkg events in the RoI, [NB](./guide/fanal_bkg.ipynb). Estimate also the uncertainty in the number of bkg events, [NB](./guide/fanal_bkg_uncertanties.ipynb)."
   ]
  },
  {
   "attachments": {},
   "cell_type": "markdown",
   "metadata": {},
   "source": [
    "\n",
    "4) Estimate **the sensitivity of the experiment** as a **counting experiment**. If in the RoI we observe $n$ events, what is the limits or cover interval at 90% C.L that we set on the $\\mathcal{T}_{1/2}^{\\beta\\beta0\\nu}(^{136}\\mathrm{Xe})$? Has the experiment perform a discovery? [NB](./guide/fanal_signal_countexp.ipynb)\n",
    "\n",
    "5) Using simulated data, define a **fit method** to extract from the data in an enlarged energy region the number of bkg events and signal, [NB](./guide/fanal_signal.ipynb). Generate simulated experiments, with the expected number of bkg events and varying the $\\mathcal{T}_{1/2}^{\\beta\\beta0\\nu}(^{136}\\mathrm{Xe})$, to validate the fit method, [NB](./guide/fanal_signal_simul.ipynb).\n"
   ]
  },
  {
   "attachments": {},
   "cell_type": "markdown",
   "metadata": {},
   "source": [
    "\n",
    "5) Access the full data, [NB](./guide/fanal_data_access.ipynb)  . Consider **two analysis**:\n",
    "\n",
    "   i)  **counting experiment**: how many signal events are in your RoI?\n",
    "\n",
    "   ii) **do a fit and extract the number of signal events**\n",
    "\n",
    "6) **Estimate the limit or the cover interval** at 90 %CL of the $\\mathcal{T}_{1/2}^{\\beta\\beta0\\nu}(^{136}\\mathrm{Xe})$. \n",
    "\n",
    "7) **Publish the results**, prepare an oral presentation for a conference and an article to publish"
   ]
  },
  {
   "attachments": {},
   "cell_type": "markdown",
   "metadata": {},
   "source": [
    "## Exposures"
   ]
  },
  {
   "attachments": {},
   "cell_type": "markdown",
   "metadata": {},
   "source": [
    "Collaborations:\n",
    "    \n",
    "   * alpha: Exposure 500 kg y.\n",
    "    \n",
    "   * beta: Exposure 1000 kg y.\n",
    "    \n",
    "   * gamma: Exposure 1000 kg y.\n",
    "    \n",
    "   * delta: Exposure 3000 kg y.\n",
    "   \n",
    "   * epsilon: Exposure 3000 kg y."
   ]
  },
  {
   "cell_type": "markdown",
   "metadata": {},
   "source": [
    "## References\n",
    "\n",
    "\n",
    "  [1] [NEXT web page](https://next.ific.uv.es/next/)\n",
    "  \n",
    "  [2] The NEXT Collaboration (J. Martín-Albo et al.), Sensitivity of NEXT-100 to neutrinoless double beta decay, [JHEP 1605 (2016) 159.](https://link.springer.com/article/10.1007/JHEP05(2016)159)"
   ]
  }
 ],
 "metadata": {
  "kernelspec": {
   "display_name": "Python 3 (ipykernel)",
   "language": "python",
   "name": "python3"
  },
  "language_info": {
   "codemirror_mode": {
    "name": "ipython",
    "version": 3
   },
   "file_extension": ".py",
   "mimetype": "text/x-python",
   "name": "python",
   "nbconvert_exporter": "python",
   "pygments_lexer": "ipython3",
   "version": "3.7.11 (default, Jul 27 2021, 07:03:16) \n[Clang 10.0.0 ]"
  },
  "vscode": {
   "interpreter": {
    "hash": "43bf40b08b0c659beee69adf0e375d89f2700363cec8d5fb661c131f1f6d870f"
   }
  }
 },
 "nbformat": 4,
 "nbformat_minor": 2
}
