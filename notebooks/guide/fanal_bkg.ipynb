{
 "cells": [
  {
   "attachments": {},
   "cell_type": "markdown",
   "metadata": {},
   "source": [
    "# Expected number of background events \n"
   ]
  },
  {
   "attachments": {},
   "cell_type": "markdown",
   "metadata": {},
   "source": [
    "## Objectives\n",
    "\n",
    "* Estimate the total number of background events \n",
    "\n",
    "* number of selected background events in the energy enlarged window and in the RoI"
   ]
  },
  {
   "attachments": {},
   "cell_type": "markdown",
   "metadata": {},
   "source": [
    "## Analysis\n",
    "\n",
    "We will use a *blind* data sample, data where the signal events have been removed by an selection, which we called *blind* selection.\n",
    "\n",
    "The blind selection removes from the full data the signal events while maintains most of the bkg events.\n",
    "\n",
    "We will compute the efficiency of the *blid* selection on simulated background samples, that is: $\\epsilon^k_b$ with $k = \\mathrm{Bi}, \\mathrm{Tl}$\n",
    "\n",
    "We sill estimate the number of background events in the *blind*, $n_b^k$ with $k = \\mathrm{Bi}, \\mathrm{Tl}$."
   ]
  },
  {
   "attachments": {},
   "cell_type": "markdown",
   "metadata": {},
   "source": [
    "We estimate the number of background events in the RoI, given the selection efficiency in the RoI $\\epsilon^k_{RoI}$\n",
    "\n",
    "$$ \n",
    "n^k_{RoI} = \\frac{\\epsilon^k_{RoI}}{\\epsilon^k_{b}} n^k_b\n",
    "$$\n",
    "\n",
    "We estimate also the number of background events in the enlarged energy window, $\\epsilon^k_E$\n",
    "\n",
    "$$ \n",
    "n^k_{E} = \\frac{\\epsilon^k_{E}}{\\epsilon^k_{b}} n^k_b\n",
    "$$\n",
    "\n",
    "with $k = \\mathrm{Bi}, \\mathrm{Tl}$"
   ]
  },
  {
   "attachments": {},
   "cell_type": "markdown",
   "metadata": {},
   "source": [
    "Remember the selection in the RoI region has the following cuts:\n",
    "\n",
    "        * sel_ntracks, sel_eblob2, sel_eroi\n",
    "\n",
    "While the selection in the enlarged energy window:\n",
    "\n",
    "        * sel_ntracks, sel_eblob2, sel_erange"
   ]
  },
  {
   "attachments": {},
   "cell_type": "markdown",
   "metadata": {},
   "source": [
    "## Estimation of the bkg events in the blind sample\n",
    "\n",
    "We estimate the number of bkg events $n^\\mathrm{Bi}_b, \\, n^{\\mathrm{Tl}}_b$ as those values that minimized the -2 log extended maximum likelihood.\n",
    "\n",
    "We estimate first the pdf of the energy, $E$, of each bkg sample, $g_k(E), \\;\\; k = \\mathrm{Bi}, \\mathrm{Tl}$\n",
    "\n",
    "We combine the pdfs int an extended likelihood, $\\mathcal{L}({\\bf E} |{\\bf n}_n)$, where ${\\bf n}_b = (n^{\\mathrm{Bi}}_b, n^{\\mathrm{Tl}}_b)$, and ${\\bf E}$ are the energies of the $m$ events in the blind sample, $E_i, \\;\\, i= 1, \\dots, m$.\n",
    "\n",
    "$$\n",
    "\\mathcal{L}({\\bf E} | {\\bf n}_b) =  g(m | n_b) \\, \\Pi_{i=1}^m \\sum_k \\frac{n^k_b}{n_b}  \\, g_k(E_i)\n",
    "$$\n",
    "\n",
    "Where $g(m | n_b)$ is the value of the poisson of the $m$ events in the blind sample given a mean of $n_b$ blind events.\n",
    "\n",
    "Finally, we estimate the parameters, $n^\\mathrm{Bi}_b, \\, n^{\\mathrm{Tl}}_b$, minimizing\n",
    "\n",
    "$$\n",
    "- 2 \\log \\mathcal{L}({\\bf E} | {\\bf n}_b).\n",
    "$$"
   ]
  },
  {
   "attachments": {},
   "cell_type": "markdown",
   "metadata": {},
   "source": [
    "## Analysis\n",
    "\n",
    "### Import modules"
   ]
  },
  {
   "cell_type": "code",
   "execution_count": 13,
   "metadata": {},
   "outputs": [
    {
     "name": "stdout",
     "output_type": "stream",
     "text": [
      "The autoreload extension is already loaded. To reload it, use:\n",
      "  %reload_ext autoreload\n"
     ]
    }
   ],
   "source": [
    "%matplotlib inline\n",
    "%load_ext autoreload\n",
    "%autoreload 2"
   ]
  },
  {
   "cell_type": "code",
   "execution_count": 14,
   "metadata": {},
   "outputs": [],
   "source": [
    "import numpy  as np\n",
    "import tables as tb\n",
    "import pandas as pd\n",
    "import matplotlib.pyplot as plt\n",
    "\n",
    "import scipy.stats     as stats  # statistics and Many PDFs \n",
    "#import scipy.optimize  as optimize # Minimice funtions\n",
    "\n",
    "import warnings\n",
    "warnings.filterwarnings('ignore')"
   ]
  },
  {
   "cell_type": "code",
   "execution_count": 15,
   "metadata": {},
   "outputs": [
    {
     "name": "stdout",
     "output_type": "stream",
     "text": [
      "add path to PYTHONPATH :  /Users/hernando/work/docencia/master/Fisica_Particulas/USC-Fanal-v2/\n"
     ]
    }
   ],
   "source": [
    "# REMEMBER TO ADD Your Fanal FOLDER TO PYTHONPATH\n",
    "import os\n",
    "import sys\n",
    "rootpath = os.getcwd()[:-15]\n",
    "print('add path to PYTHONPATH : ', rootpath)\n",
    "sys.path.insert(0, os.path.abspath(rootpath))"
   ]
  },
  {
   "cell_type": "code",
   "execution_count": 16,
   "metadata": {},
   "outputs": [],
   "source": [
    "import core.pltext  as pltext   # extensions for plotting histograms\n",
    "import core.hfit    as hfit     # extension to fit histograms\n",
    "import core.efit    as efit     # Fit Utilites - Includes Extend Likelihood Fit with composite PDFs\n",
    "import core.utils   as ut       # generic utilities\n",
    "import ana.fanal    as fn       # analysis functions specific to fanal\n",
    "import ana.pltfanal as pltfn    # plotting for fanal\n",
    "\n",
    "import collpars    as collpars # collaboration specific parameters\n",
    "pltext.style()"
   ]
  },
  {
   "attachments": {},
   "cell_type": "markdown",
   "metadata": {},
   "source": [
    "### Parameters"
   ]
  },
  {
   "cell_type": "code",
   "execution_count": 17,
   "metadata": {},
   "outputs": [
    {
     "name": "stdout",
     "output_type": "stream",
     "text": [
      "Collaboration         : new_beta\n",
      "Energy range          : ( 2.400,  2.700) MeV\n",
      "RoI    range          : ( 2.430,  2.480) MeV\n",
      "Bi eff in E range     : 1.8000 %\n",
      "Tl eff in E range     : 0.7300 %\n",
      "Bi eff in RoI         : 1.5500 %\n",
      "Tl eff in RoI         : 0.0194 %\n"
     ]
    }
   ],
   "source": [
    "coll          = collpars.collaboration\n",
    "sel_erange    = collpars.sel_erange\n",
    "sel_eroi      = collpars.sel_eroi\n",
    "eff_Bi_E      = collpars.eff_Bi_E\n",
    "eff_Tl_E      = collpars.eff_Tl_E\n",
    "eff_Bi_RoI    = collpars.eff_Bi_RoI\n",
    "eff_Tl_RoI    = collpars.eff_Tl_RoI\n",
    "\n",
    "print('Collaboration         : {:s}'.format(coll))\n",
    "print('Energy range          : ({:6.3f}, {:6.3f}) MeV'.format(*sel_erange))\n",
    "print('RoI    range          : ({:6.3f}, {:6.3f}) MeV'.format(*sel_eroi))\n",
    "print('Bi eff in E range     : {:6.4f} %'.format(100.*eff_Bi_E))\n",
    "print('Tl eff in E range     : {:6.4f} %'.format(100.*eff_Tl_E))\n",
    "print('Bi eff in RoI         : {:6.4f} %'.format(100.*eff_Bi_RoI))\n",
    "print('Tl eff in RoI         : {:6.4f} %'.format(100.*eff_Tl_RoI))"
   ]
  },
  {
   "attachments": {},
   "cell_type": "markdown",
   "metadata": {},
   "source": [
    "### Data"
   ]
  },
  {
   "cell_type": "code",
   "execution_count": 18,
   "metadata": {},
   "outputs": [
    {
     "ename": "NameError",
     "evalue": "name 'coll' is not defined",
     "output_type": "error",
     "traceback": [
      "\u001b[0;31m---------------------------------------------------------------------------\u001b[0m",
      "\u001b[0;31mNameError\u001b[0m                                 Traceback (most recent call last)",
      "\u001b[0;32m/var/folders/56/_pmdccc97ljb_l3v3s6gkrxm0000gn/T/ipykernel_12699/3906720340.py\u001b[0m in \u001b[0;36m<module>\u001b[0;34m\u001b[0m\n\u001b[1;32m      1\u001b[0m \u001b[0;31m#dirpath = '/Users/hernando/docencia/master/Fisica_Particulas/USC-Fanal/data/'\u001b[0m\u001b[0;34m\u001b[0m\u001b[0;34m\u001b[0m\u001b[0;34m\u001b[0m\u001b[0m\n\u001b[0;32m----> 2\u001b[0;31m \u001b[0mfilename\u001b[0m \u001b[0;34m=\u001b[0m \u001b[0;34m'/data/fanal_'\u001b[0m \u001b[0;34m+\u001b[0m \u001b[0mcoll\u001b[0m \u001b[0;34m+\u001b[0m \u001b[0;34m'.h5'\u001b[0m\u001b[0;34m\u001b[0m\u001b[0;34m\u001b[0m\u001b[0m\n\u001b[0m\u001b[1;32m      3\u001b[0m \u001b[0mprint\u001b[0m\u001b[0;34m(\u001b[0m\u001b[0;34m'Data path and filename : '\u001b[0m\u001b[0;34m,\u001b[0m \u001b[0mrootpath\u001b[0m \u001b[0;34m+\u001b[0m \u001b[0mfilename\u001b[0m\u001b[0;34m)\u001b[0m\u001b[0;34m\u001b[0m\u001b[0;34m\u001b[0m\u001b[0m\n\u001b[1;32m      4\u001b[0m \u001b[0;34m\u001b[0m\u001b[0m\n\u001b[1;32m      5\u001b[0m \u001b[0mmcbi\u001b[0m       \u001b[0;34m=\u001b[0m \u001b[0mpd\u001b[0m\u001b[0;34m.\u001b[0m\u001b[0mread_hdf\u001b[0m\u001b[0;34m(\u001b[0m\u001b[0mrootpath\u001b[0m \u001b[0;34m+\u001b[0m \u001b[0mfilename\u001b[0m\u001b[0;34m,\u001b[0m \u001b[0mkey\u001b[0m \u001b[0;34m=\u001b[0m \u001b[0;34m'mc/bi214'\u001b[0m\u001b[0;34m)\u001b[0m   \u001b[0;31m# MC Bi\u001b[0m\u001b[0;34m\u001b[0m\u001b[0;34m\u001b[0m\u001b[0m\n",
      "\u001b[0;31mNameError\u001b[0m: name 'coll' is not defined"
     ]
    }
   ],
   "source": [
    "#dirpath = '/Users/hernando/docencia/master/Fisica_Particulas/USC-Fanal/data/'\n",
    "filename = '/data/fanal_' + coll + '.h5'\n",
    "print('Data path and filename : ', rootpath + filename)\n",
    "\n",
    "mcbi       = pd.read_hdf(rootpath + filename, key = 'mc/bi214')   # MC Bi\n",
    "mctl       = pd.read_hdf(rootpath + filename, key = 'mc/tl208')   # MC Tl\n",
    "data_blind = pd.read_hdf(rootpath + filename, key = 'data/blind') # blind data\n",
    "\n",
    "mc_samples         = [mcbi, mctl]\n",
    "sample_names       = ['Bi', 'Tl']\n",
    "sample_names_latex = [r'$^{214}$Bi', r'$^{208}$Tl']"
   ]
  },
  {
   "attachments": {},
   "cell_type": "markdown",
   "metadata": {},
   "source": [
    "### Estimate blind selection efficiency in MC"
   ]
  },
  {
   "cell_type": "code",
   "execution_count": null,
   "metadata": {},
   "outputs": [
    {
     "name": "stdout",
     "output_type": "stream",
     "text": [
      "Bi blind eff : 78.5375 %\n",
      "Tl blind edd : 70.7461 %\n"
     ]
    }
   ],
   "source": [
    "# apply the blind selection to the mc samples to obtaine blind mc samples\n",
    "\n",
    "def efficiency(mask):\n",
    "    return float(sum(mask)/len(mask))\n",
    "\n",
    "mask_bi = fn.selection_blind(mcbi)\n",
    "mask_tl = fn.selection_blind(mctl)\n",
    "\n",
    "eff_Bi_blind = efficiency(mask_bi)\n",
    "eff_Tl_blind = efficiency(mask_tl)\n",
    "\n",
    "mc_blind_samples =  (mcbi[mask_bi], mctl[mask_tl])\n",
    "\n",
    "print('Bi blind eff : {:6.4f} %'.format(100.*eff_Bi_blind))\n",
    "print('Tl blind edd : {:6.4f} %'.format(100.*eff_Tl_blind))"
   ]
  },
  {
   "attachments": {},
   "cell_type": "markdown",
   "metadata": {},
   "source": [
    "## Energy distribution of the blind data and mc samples"
   ]
  },
  {
   "cell_type": "code",
   "execution_count": null,
   "metadata": {},
   "outputs": [
    {
     "data": {
      "image/png": "[encoded data removed]",
      "text/plain": [
       "<Figure size 864x360 with 2 Axes>"
      ]
     },
     "metadata": {
      "needs_background": "light"
     },
     "output_type": "display_data"
    }
   ],
   "source": [
    "def plot_energy(df, label = '', bins = 100):\n",
    "    pltext.hist(df.E, bins, range = sel_erange, label = label, density = True, lw = 2)\n",
    "    plt.xlabel('Energy (MeV)'); \n",
    "\n",
    "subplot = pltext.canvas(2)\n",
    "subplot(1)\n",
    "plot_energy(data_blind)\n",
    "plt.title('blind data');\n",
    "\n",
    "subplot(2)\n",
    "for i, df in enumerate(mc_blind_samples):\n",
    "    plot_energy(df, label = sample_names_latex[i])\n",
    "plt.legend(); plt.title('MC blind samples');"
   ]
  },
  {
   "cell_type": "markdown",
   "metadata": {},
   "source": [
    "## Estimate the number of background events in the blind-data"
   ]
  },
  {
   "cell_type": "markdown",
   "metadata": {},
   "source": [
    "Estimate the number of events of Bi and Tl:  \n",
    "  \n",
    "  * Obtain the pdfs distribution for a reference variable, i.e. energy, for each blind sample.\n",
    "\n",
    "  * Generate a combined pdf where the parameters are the number of events of each sample.\n",
    "\n",
    "  * Estimate the number of blind Tl and Bi events fitting the energy distribution to the combined pdf.\n",
    "\n",
    "  * Compute the total number of Tl and Bi using the efficiencies of the blind selection in the MC samples.\n",
    "  \n",
    "Note:\n",
    "\n",
    "  * There is an appendix in the NB to show the code step by step"
   ]
  },
  {
   "cell_type": "code",
   "execution_count": null,
   "metadata": {},
   "outputs": [
    {
     "data": {
      "image/png": "[encoded data removed]",
      "text/plain": [
       "<Figure size 720x576 with 2 Axes>"
      ]
     },
     "metadata": {
      "needs_background": "light"
     },
     "output_type": "display_data"
    }
   ],
   "source": [
    "nguess = (1000., 1000.)\n",
    "\n",
    "varname   = 'E'\n",
    "refnames  = (varname,) \n",
    "refranges = (sel_erange,)\n",
    "\n",
    "fit        = fn.prepare_fit_ell(mc_blind_samples, nguess, refnames, refranges)\n",
    "\n",
    "result, enes, ell, _ = fit(data_blind)\n",
    "nevts_blind          = result.x\n",
    "\n",
    "pltfn.plot_fit_ell(enes, nevts_blind, ell, parnames = sample_names_latex);"
   ]
  },
  {
   "attachments": {},
   "cell_type": "markdown",
   "metadata": {},
   "source": [
    "### Compute the total number of background events"
   ]
  },
  {
   "cell_type": "code",
   "execution_count": null,
   "metadata": {},
   "outputs": [
    {
     "name": "stdout",
     "output_type": "stream",
     "text": [
      " number of blind events Bi : 1102.825\n",
      " number of blind events Tl : 14615.988\n"
     ]
    }
   ],
   "source": [
    "n_Bi_blind = nevts_blind[0]\n",
    "n_Tl_blind = nevts_blind[1]\n",
    "\n",
    "print(' number of blind events Bi : {:6.3f}'.format(n_Bi_blind))\n",
    "print(' number of blind events Tl : {:6.3f}'.format(n_Tl_blind))"
   ]
  },
  {
   "attachments": {},
   "cell_type": "markdown",
   "metadata": {},
   "source": [
    "### Number of background events in RoI and E ragne"
   ]
  },
  {
   "cell_type": "code",
   "execution_count": null,
   "metadata": {},
   "outputs": [
    {
     "name": "stdout",
     "output_type": "stream",
     "text": [
      " number of events total Bi      : 1404.203\n",
      " number of events total Tl      : 20659.771\n",
      " number of events in E range Bi : 25.276\n",
      " number of events in E range Tl : 150.816\n",
      " number of events in RoI Bi     : 21.765\n",
      " number of events in RoI Tl     :  4.008\n"
     ]
    }
   ],
   "source": [
    "n_Bi_total = n_Bi_blind / eff_Bi_blind\n",
    "n_Tl_total = n_Tl_blind / eff_Tl_blind\n",
    "\n",
    "n_Bi_E = n_Bi_total * eff_Bi_E\n",
    "n_Tl_E = n_Tl_total * eff_Tl_E\n",
    "\n",
    "n_Bi_RoI = n_Bi_total * eff_Bi_RoI\n",
    "n_Tl_RoI = n_Tl_total * eff_Tl_RoI\n",
    "\n",
    "print(' number of events total Bi      : {:6.3f}'.format(n_Bi_total))\n",
    "print(' number of events total Tl      : {:6.3f}'.format(n_Tl_total))\n",
    "\n",
    "print(' number of events in E range Bi : {:6.3f}'.format(n_Bi_E))\n",
    "print(' number of events in E range Tl : {:6.3f}'.format(n_Tl_E))\n",
    "\n",
    "print(' number of events in RoI Bi     : {:6.3f}'.format(n_Bi_RoI))\n",
    "print(' number of events in RoI Tl     : {:6.3f}'.format(n_Tl_RoI))"
   ]
  },
  {
   "cell_type": "markdown",
   "metadata": {},
   "source": [
    "## Write out"
   ]
  },
  {
   "cell_type": "code",
   "execution_count": null,
   "metadata": {},
   "outputs": [],
   "source": [
    "exposures  = {'new_alpha': 500, 'new_beta': 1000, 'new_gamma': 1000,\n",
    "              'new_delta': 3000, 'new_epsilon': 3000}\n",
    "acc_bb     = 0.79\n",
    "\n",
    "exposure   = exposures[collaboration]\n",
    "\n",
    "write = True\n",
    "if (write):\n",
    "    of = open('collpars.py', 'a')\n",
    "    of.write('exposure        = {:6.2f}'.format(exposure)+' # kg y \\n')\n",
    "    of.write('acc_bb          = {:6.3f}'.format(acc_bb)+'\\n')\n",
    "\n",
    "    of.write('eff_Bi_blind    = {:6.3f}'.format(eff_Bi_blind)+'\\n')\n",
    "    of.write('eff_Tl_blind    = {:6.3f}'.format(eff_Tl_blind)+'\\n')\n",
    "\n",
    "    of.write('n_Bi_total      = {:6.3f}'.format(n_Bi_total)+'\\n')\n",
    "    of.write('n_Bi_blind      = {:6.3f}'.format(n_Bi_blind)+'\\n')\n",
    "    of.write('n_Bi_E          = {:6.3f}'.format(n_Bi_E)+'\\n')\n",
    "    of.write('n_Bi_RoI        = {:6.3f}'.format(n_Bi_RoI)+'\\n')\n",
    "\n",
    "    of.write('n_Tl_total      = {:6.3f}'.format(n_Tl_total)+'\\n')\n",
    "    of.write('n_Tl_blind      = {:6.3f}'.format(n_Tl_blind)+'\\n')\n",
    "    of.write('n_Tl_E          = {:6.3f}'.format(n_Tl_E)+'\\n')\n",
    "    of.write('n_Tl_RoI        = {:6.3f}'.format(n_Tl_RoI)+'\\n')\n",
    "    of.close()"
   ]
  }
 ],
 "metadata": {
  "kernelspec": {
   "display_name": "Python 3 (ipykernel)",
   "language": "python",
   "name": "python3"
  },
  "language_info": {
   "codemirror_mode": {
    "name": "ipython",
    "version": 3
   },
   "file_extension": ".py",
   "mimetype": "text/x-python",
   "name": "python",
   "nbconvert_exporter": "python",
   "pygments_lexer": "ipython3",
   "version": "3.7.11"
  },
  "vscode": {
   "interpreter": {
    "hash": "43bf40b08b0c659beee69adf0e375d89f2700363cec8d5fb661c131f1f6d870f"
   }
  }
 },
 "nbformat": 4,
 "nbformat_minor": 2
}
