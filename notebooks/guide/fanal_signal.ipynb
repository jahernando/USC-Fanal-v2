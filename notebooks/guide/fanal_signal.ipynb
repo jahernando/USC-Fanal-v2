{
 "cells": [
  {
   "attachments": {},
   "cell_type": "markdown",
   "metadata": {},
   "source": [
    "# Estimate the number of signal events"
   ]
  },
  {
   "attachments": {},
   "cell_type": "markdown",
   "metadata": {},
   "source": [
    "## Objective\n",
    "\n",
    "Estimate the number of signal events using the extended maximum likelihood fit and simulated experiments"
   ]
  },
  {
   "attachments": {},
   "cell_type": "markdown",
   "metadata": {},
   "source": [
    "## Physics\n",
    "\n",
    "We are going to estimate the number of signal events using a extended maximum likelihood fit. \n",
    "\n",
    "Similar to how we computed the number of bkg events in a blind sample, we fit the energy distribution in the energy enlarged window to the template distributions of the signal and the backgrounds. We obtain the pdf, $g_k(E), \\;\\; k = \\mathrm{Bi}, \\mathrm{Tl}, \\mathrm{Bi}$ simulated data)\n",
    "\n",
    "We test the fitting methods generating an experiment with a number of background events compatibles with out detector and assuming a given number of signal events.\n",
    "\n",
    "We can vary the number of signal events to test the performance of the fit."
   ]
  },
  {
   "attachments": {},
   "cell_type": "markdown",
   "metadata": {},
   "source": [
    "## Analysis"
   ]
  },
  {
   "cell_type": "markdown",
   "metadata": {},
   "source": [
    "#### Importing modules"
   ]
  },
  {
   "cell_type": "code",
   "execution_count": 36,
   "metadata": {},
   "outputs": [
    {
     "name": "stdout",
     "output_type": "stream",
     "text": [
      "The autoreload extension is already loaded. To reload it, use:\n",
      "  %reload_ext autoreload\n"
     ]
    }
   ],
   "source": [
    "%matplotlib inline\n",
    "%load_ext autoreload\n",
    "%autoreload 2"
   ]
  },
  {
   "cell_type": "code",
   "execution_count": 37,
   "metadata": {},
   "outputs": [],
   "source": [
    "import numpy  as np\n",
    "import tables as tb\n",
    "import pandas as pd\n",
    "import matplotlib.pyplot as plt\n",
    "\n",
    "import scipy.constants as constants\n",
    "import scipy.stats     as stats\n",
    "import scipy.optimize  as optimize\n",
    "\n",
    "import warnings\n",
    "warnings.filterwarnings('ignore')"
   ]
  },
  {
   "cell_type": "code",
   "execution_count": 38,
   "metadata": {},
   "outputs": [
    {
     "name": "stdout",
     "output_type": "stream",
     "text": [
      "add path to PYTHONPATH :  /Users/hernando/work/docencia/master/Fisica_Particulas/USC-Fanal-v2/\n"
     ]
    }
   ],
   "source": [
    "# REMEMBER TO ADD Your Fanal FOLDER TO PYTHONPATH\n",
    "import os\n",
    "import sys\n",
    "rootpath = os.getcwd()[:-15]\n",
    "print('add path to PYTHONPATH : ', rootpath)\n",
    "sys.path.insert(0, os.path.abspath(rootpath))"
   ]
  },
  {
   "cell_type": "code",
   "execution_count": 39,
   "metadata": {},
   "outputs": [],
   "source": [
    "import core.pltext  as pltext   # extensions for plotting histograms\n",
    "import core.hfit    as hfit     # extension to fit histograms\n",
    "import core.efit    as efit     # Fit Utilites - Includes Extend Likelihood Fit with composite PDFs\n",
    "import core.utils   as ut       # generic utilities\n",
    "import ana.fanal    as fn       # analysis functions specific to fanal\n",
    "import ana.pltfanal as pltfn    # plotting for fanal\n",
    "import     collpars as collpars # collaboration specific parameters\n",
    "pltext.style()"
   ]
  },
  {
   "attachments": {},
   "cell_type": "markdown",
   "metadata": {},
   "source": [
    "### Main parameters"
   ]
  },
  {
   "cell_type": "code",
   "execution_count": 40,
   "metadata": {},
   "outputs": [
    {
     "name": "stdout",
     "output_type": "stream",
     "text": [
      "Collaboration             : new_beta\n",
      "number of tracks range    :      1\n",
      "Blob-2 energy range       :  0.400  MeV\n",
      "Energy range              : ( 2.400,  2.700) MeV\n",
      "Energy RoI range          : ( 2.430,  2.480) MeV\n"
     ]
    }
   ],
   "source": [
    "coll          = collpars.collaboration\n",
    "sel_ntracks   = collpars.sel_ntracks\n",
    "sel_eblob2    = collpars.sel_eblob2\n",
    "sel_erange    = collpars.sel_erange\n",
    "sel_eroi      = collpars.sel_eroi\n",
    "\n",
    "print('Collaboration             : {:s}'.format(coll))\n",
    "print('number of tracks range    : {:6d}'.format(sel_ntracks))\n",
    "print('Blob-2 energy range       : {:6.3f}  MeV'.format(sel_eblob2))\n",
    "print('Energy range              : ({:6.3f}, {:6.3f}) MeV'.format(*sel_erange))\n",
    "print('Energy RoI range          : ({:6.3f}, {:6.3f}) MeV'.format(*sel_eroi))"
   ]
  },
  {
   "cell_type": "code",
   "execution_count": 41,
   "metadata": {},
   "outputs": [
    {
     "name": "stdout",
     "output_type": "stream",
     "text": [
      "ana varnames  :  ['num_tracks', 'blob2_E', 'E']\n",
      "ana varranges :  [(1, 1.1), (0.4, 2.7), (2.4, 2.7)]\n",
      "ref varnames  :  ['num_tracks', 'E']\n",
      "ref varranges :  [(1, 1.1), (2.4, 2.7)]\n"
     ]
    }
   ],
   "source": [
    "# list of the analisys selection variables names and ranges\n",
    "ntracks_range = (sel_ntracks, sel_ntracks + 0.1)\n",
    "eblob2_range  = (sel_eblob2, sel_erange[1]) # MeV\n",
    "\n",
    "varnames  = ['num_tracks', 'blob2_E', 'E']\n",
    "varranges = [ntracks_range, eblob2_range, sel_erange]\n",
    "print('ana varnames  : ', varnames)\n",
    "print('ana varranges : ', varranges)\n",
    "\n",
    "# list of the reference selction variable names and rages to get pdfs for the MC\n",
    "refnames  = ['num_tracks', 'E']\n",
    "refranges = [ntracks_range, sel_erange]\n",
    "print('ref varnames  : ', refnames)\n",
    "print('ref varranges : ', refranges)\n"
   ]
  },
  {
   "cell_type": "code",
   "execution_count": 42,
   "metadata": {},
   "outputs": [
    {
     "name": "stdout",
     "output_type": "stream",
     "text": [
      "Number of bkg events in full data : Bi = 1404.20, Tl = 20659.77.\n"
     ]
    }
   ],
   "source": [
    "# number of  blind events\n",
    "n_Bi_total = collpars.n_Bi_total\n",
    "n_Tl_total = collpars.n_Tl_total\n",
    "\n",
    "eff_Bi_E   = collpars.eff_Bi_E\n",
    "eff_Tl_E   = collpars.eff_Tl_E\n",
    "eff_bb_E   = collpars.eff_bb_E\n",
    "print('Number of bkg events in full data : Bi = {:6.2f}, Tl = {:6.2f}.'.format(n_Bi_total, n_Tl_total))"
   ]
  },
  {
   "attachments": {},
   "cell_type": "markdown",
   "metadata": {},
   "source": [
    "### the data"
   ]
  },
  {
   "cell_type": "code",
   "execution_count": 43,
   "metadata": {},
   "outputs": [
    {
     "name": "stdout",
     "output_type": "stream",
     "text": [
      "Data path and filename :  /Users/hernando/work/docencia/master/Fisica_Particulas/USC-Fanal-v2//data/fanal_new_beta.h5\n",
      "MC Sample Bi, number of simulated events = 60184\n",
      "MC Sample Tl, number of simulated events = 687297\n",
      "MC Sample bb, number of simulated events = 47636\n"
     ]
    }
   ],
   "source": [
    "# set the path to the data directory and filenames\n",
    "dirpath = rootpath+'/data/'\n",
    "filename = 'fanal_' + coll + '.h5'\n",
    "print('Data path and filename : ', dirpath + filename)\n",
    "\n",
    "# access the simulated data (DataFrames) for the different samples (Bi, Tl, bb) located in the data file\n",
    "mcbi = pd.read_hdf(dirpath + filename, key = 'mc/bi214')\n",
    "mctl = pd.read_hdf(dirpath + filename, key = 'mc/tl208')\n",
    "mcbb = pd.read_hdf(dirpath + filename, key = 'mc/bb0nu')\n",
    "\n",
    "# set the names of the samples\n",
    "# set the names of the samples\n",
    "mc_samples         = [mcbi, mctl, mcbb] # list of the mc DFs\n",
    "sample_names       = ['Bi', 'Tl', 'bb']\n",
    "sample_names_latex = [ r'$^{214}$Bi', r'$^{208}$Tl', r'$\\beta\\beta0\\nu$',] # str names of the mc samples\n",
    "\n",
    "for i, mc in enumerate(mc_samples):\n",
    "    print('MC Sample {:s}, number of simulated events = {:d}'.format(sample_names[i], len(mc)))"
   ]
  },
  {
   "attachments": {},
   "cell_type": "markdown",
   "metadata": {},
   "source": [
    "## Check the method to extract $n^{\\beta\\beta}_E$\n",
    "\n",
    "  * We generate a MC experiments with number of events compatible with estimated number of bkg events and a hipothetical number of signal events.\n",
    "  \n",
    "  * We fit the energy distribution of the selected events to the samples pdfs: Bi, Tl, bb\n",
    "  \n",
    "  * We do a profile scan to estimate the confidence interval and p0-value for this example"
   ]
  },
  {
   "attachments": {},
   "cell_type": "markdown",
   "metadata": {},
   "source": [
    "**Exercise**\n",
    "\n",
    "  * Generate other experiments with different number of signal events to study the performance of the fit"
   ]
  },
  {
   "cell_type": "code",
   "execution_count": 44,
   "metadata": {},
   "outputs": [],
   "source": [
    "def nevts_total(factor = 1.):\n",
    "    \"\"\" returns the total number of events (Bi, Tl, bb), \n",
    "    The expected number of bb events in the RoI is a **factor = 1.** of the number of the expected Bi events in RoI\n",
    "    \"\"\"\n",
    "    n_Bi_RoI    = collpars.n_Bi_RoI\n",
    "    eff_bb_RoI  = collpars.eff_bb_RoI\n",
    "    n_Bi_total  = collpars.n_Bi_total\n",
    "    n_Tl_total  = collpars.n_Tl_total\n",
    "    n_bb_total  = factor * n_Bi_RoI/eff_bb_RoI\n",
    "    nevts       = (n_Bi_total, n_Tl_total, n_bb_total)\n",
    "    return np.array(nevts)\n",
    "\n",
    "def nevts_in_E(n_total):\n",
    "    \"\"\" returns the number of expected events in the enlarged energy windows: (Bi, Tl, bb) \n",
    "    given a total number of events (Bi, Tl, bb)\n",
    "    \"\"\"\n",
    "    eff_Bi_E      = collpars.eff_Bi_E\n",
    "    eff_Tl_E      = collpars.eff_Tl_E\n",
    "    eff_bb_RoI    = collpars.eff_bb_RoI\n",
    "    nBi, nTl, nbb = n_total\n",
    "    nevts         = (nBi * eff_Bi_E, nTl * eff_Tl_E, nbb * eff_bb_E)\n",
    "    return np.array(nevts)"
   ]
  },
  {
   "attachments": {},
   "cell_type": "markdown",
   "metadata": {},
   "source": [
    "#### Simulate & Fit the data of an experiment\n",
    "\n",
    "The simulated experiment expect the same number of bkg events that our experiment and a certain number of signal events"
   ]
  },
  {
   "cell_type": "code",
   "execution_count": 45,
   "metadata": {},
   "outputs": [
    {
     "data": {
      "image/png": "[encoded data removed]",
      "text/plain": [
       "<Figure size 720x576 with 2 Axes>"
      ]
     },
     "metadata": {
      "needs_background": "light"
     },
     "output_type": "display_data"
    }
   ],
   "source": [
    "# set the number of events\n",
    "factor      = 1.\n",
    "n_total     = nevts_total(factor)\n",
    "n_E         = nevts_in_E(n_total)\n",
    "\n",
    "# define the fit\n",
    "fit         = fn.prepare_fit_ell(mc_samples, n_total, varnames, varranges, refnames, refranges)\n",
    "\n",
    "# generate an experiment using the mc samples and a given number of events of each sample\n",
    "mcdata      = fn.generate_mc_experiment(mc_samples, n_total)\n",
    "\n",
    "result, values, \\\n",
    "ell, n_est  = fit(mcdata)\n",
    "ne_est = result.x if result.success else n_E\n",
    "\n",
    "pltfn.plot_fit_ell(values, n_est, ell, parnames = sample_names_latex)"
   ]
  },
  {
   "cell_type": "code",
   "execution_count": 46,
   "metadata": {},
   "outputs": [
    {
     "name": "stdout",
     "output_type": "stream",
     "text": [
      "Number of Bi total events = 1404.203\n",
      "Number of Tl total events = 20659.771\n",
      "Number of bb total events = 41.936\n",
      "Number of Bi expected events in E window = 25.276\n",
      "Number of Tl expected events in E window = 150.816\n",
      "Number of bb expected events in E window = 21.765\n",
      "Number of Bi estimated events in E window = 25.268\n",
      "Number of Tl estimated events in E window = 150.748\n",
      "Number of bb estimated events in E window = 21.768\n"
     ]
    }
   ],
   "source": [
    "for i, ni in enumerate(n_total):\n",
    "    print('Number of {:s} total events = {:6.3f}'.format(sample_names[i], ni))\n",
    "\n",
    "for i, ni in enumerate(n_E):\n",
    "    print('Number of {:s} expected events in E window = {:6.3f}'.format(sample_names[i], ni))\n",
    "\n",
    "for i, ni in enumerate(n_est):\n",
    "    print('Number of {:s} estimated events in E window = {:6.3f}'.format(sample_names[i], ni))"
   ]
  },
  {
   "attachments": {},
   "cell_type": "markdown",
   "metadata": {},
   "source": [
    "## Parameter uncertanties estimation\n",
    "\n",
    "\n",
    "We perform a likelihood scan to estimate the parameter uncerstainties\n",
    "\n",
    "We estimate the 60% C.L intervals"
   ]
  },
  {
   "cell_type": "code",
   "execution_count": 47,
   "metadata": {},
   "outputs": [
    {
     "data": {
      "image/png": "[encoded data removed]",
      "text/plain": [
       "<Figure size 1296x360 with 3 Axes>"
      ]
     },
     "metadata": {
      "needs_background": "light"
     },
     "output_type": "display_data"
    }
   ],
   "source": [
    "nis, tmus = fn.tmu_scan(values, result.x, ell, sizes = (2., 2., 2.))\n",
    "pltfn.plot_tmu_scan(nis, tmus, titles = sample_names_latex)"
   ]
  },
  {
   "cell_type": "code",
   "execution_count": 48,
   "metadata": {},
   "outputs": [
    {
     "name": "stdout",
     "output_type": "stream",
     "text": [
      "Number of Bi events CI at   68 % CL = (16.19, 28.86)\n",
      "Number of Tl events CI at   68 % CL = (144.60, 169.10)\n",
      "Number of bb events CI at   68 % CL = (21.75, 34.17)\n"
     ]
    }
   ],
   "source": [
    "cl    = 0.68\n",
    "mucis = [efit.tmu_conf_int(ni, tmu, cl) for ni, tmu in zip(nis, tmus)]\n",
    "for i, ci in enumerate(mucis):\n",
    "    print('Number of {:s} events CI at {:4.0f} % CL = ({:5.2f}, {:5.2f})'.format(sample_names[i], 100*cl, *ci))"
   ]
  },
  {
   "cell_type": "code",
   "execution_count": 49,
   "metadata": {},
   "outputs": [
    {
     "name": "stdout",
     "output_type": "stream",
     "text": [
      "Number of Bi events CI at   68 % CL = 22.14  -5.95 + 6.72\n",
      "Number of Tl events CI at   68 % CL = 156.34  -11.74 +12.76\n",
      "Number of bb events CI at   68 % CL = 27.53  -5.78 + 6.64\n"
     ]
    }
   ],
   "source": [
    "for i, ci in enumerate(mucis):\n",
    "    print('Number of {:s} events CI at {:4.0f} % CL = {:5.2f}  {:5.2f} +{:5.2f}'.format(sample_names[i], 100*cl, \n",
    "                                                                                        result.x[i],\n",
    "                                                                                        *(ci - result.x[i])))"
   ]
  },
  {
   "attachments": {},
   "cell_type": "markdown",
   "metadata": {},
   "source": [
    "### Compute the p-value in the case of no-signal\n",
    "\n",
    "We compute the p-value of the null hypothesis (that there is no signal)"
   ]
  },
  {
   "cell_type": "code",
   "execution_count": 52,
   "metadata": {},
   "outputs": [
    {
     "name": "stdout",
     "output_type": "stream",
     "text": [
      "null hypothesis p-value 4.15e-06, 4.46 sigmas\n"
     ]
    }
   ],
   "source": [
    "q0 = efit.tmu(values, ell, result.x, 2)\n",
    "z0 = np.sqrt(q0)\n",
    "p0 = 1 - stats.norm.cdf(z0)\n",
    "#p0 = stats.chi2.sf(q0, 1)/2.\n",
    "print('null hypothesis p-value {:1.2e}, {:4.2f} sigmas'.format(p0, z0))"
   ]
  },
  {
   "attachments": {},
   "cell_type": "markdown",
   "metadata": {},
   "source": [
    "### Estimate the half-time of the simulated experiment\n",
    "\n",
    "We estimate the value of the half-time, $\\mathcal{T}_{1/2}^{\\beta\\beta0\\nu}$.\n",
    "\n",
    "We use as inputs:\n",
    "\n",
    " * the estimated number of signal events in the enlarged energy windows (from the fit)   \n",
    " * the total efficiency of selecting signal events\n",
    " * the exposure (kg y)"
   ]
  },
  {
   "attachments": {},
   "cell_type": "markdown",
   "metadata": {},
   "source": [
    "\n",
    "\n",
    "The formula relating is:\n",
    "\n",
    "$$\n",
    "\\mathcal{T}_{1/2}^{\\beta\\beta2\\nu} = \\frac{\\delta \\, \\epsilon^{\\beta\\beta}_E \\, M \\, t }{n^{\\beta\\beta}_E} \\frac{N_A \\, \\log(2)}{W}\n",
    "$$\n",
    "\n",
    "Where:\n",
    "\n",
    "  * $\\delta$ is the aceptance of the detector (in our detector is 0.79)\n",
    "  * $\\epsilon^{\\beta\\beta}_E$ is the efficiency of selecting signal events in the E window (in fraction, computed using the mc)\n",
    "  * $M$ the mass of the detector (g)\n",
    "  * $t$ the time of the exposure (y)\n",
    "  * $N_A$ is the Avogadro number\n",
    "  * $W$ is the atomic mass in (g)"
   ]
  },
  {
   "cell_type": "code",
   "execution_count": 51,
   "metadata": {},
   "outputs": [
    {
     "name": "stdout",
     "output_type": "stream",
     "text": [
      "number of bb0nu events in E  : 21.768\n",
      "exposure                     : 1000.00 kg y\n",
      "total signal efficiency      :  0.410\n",
      "bb0nu half-life              : 5.21e+25 y \n"
     ]
    }
   ],
   "source": [
    "from collpars import exposure\n",
    "\n",
    "eff      = collpars.acc_bb * collpars.eff_bb_E # total signal selection efficiency in the E window\n",
    "n_bb_E   = n_est[-1] # estimated number of bb  in E\n",
    "tau      = fn.half_life(n_bb_E, exposure, eff) # tau_1/2\n",
    "\n",
    "print('number of bb0nu events in E  : {:6.3f}'.format(n_bb_E))\n",
    "print('exposure                     : {:6.2f} kg y'.format(exposure))\n",
    "print('total signal efficiency      : {:6.3f}'.format(eff))\n",
    "print('bb0nu half-life              : {:6.2e} y '.format(tau))"
   ]
  }
 ],
 "metadata": {
  "kernelspec": {
   "display_name": "Python 3 (ipykernel)",
   "language": "python",
   "name": "python3"
  },
  "language_info": {
   "codemirror_mode": {
    "name": "ipython",
    "version": 3
   },
   "file_extension": ".py",
   "mimetype": "text/x-python",
   "name": "python",
   "nbconvert_exporter": "python",
   "pygments_lexer": "ipython3",
   "version": "3.7.11"
  },
  "vscode": {
   "interpreter": {
    "hash": "43bf40b08b0c659beee69adf0e375d89f2700363cec8d5fb661c131f1f6d870f"
   }
  }
 },
 "nbformat": 4,
 "nbformat_minor": 2
}
