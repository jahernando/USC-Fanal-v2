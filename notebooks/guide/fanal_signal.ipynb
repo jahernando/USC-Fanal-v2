{
 "cells": [
  {
   "attachments": {},
   "cell_type": "markdown",
   "metadata": {},
   "source": [
    "# Estimate $n_{\\beta\\beta}$\n",
    "\n",
    "Estimate the number of signal events using the extended maximum likelihood fit"
   ]
  },
  {
   "cell_type": "code",
   "execution_count": 1,
   "metadata": {},
   "outputs": [],
   "source": [
    "%matplotlib inline\n",
    "%load_ext autoreload\n",
    "%autoreload 2"
   ]
  },
  {
   "cell_type": "markdown",
   "metadata": {},
   "source": [
    "#### Importing modules"
   ]
  },
  {
   "cell_type": "code",
   "execution_count": 2,
   "metadata": {},
   "outputs": [],
   "source": [
    "import numpy  as np\n",
    "import tables as tb\n",
    "import pandas as pd\n",
    "import matplotlib.pyplot as plt\n",
    "\n",
    "import scipy.constants as constants\n",
    "import scipy.stats     as stats\n",
    "import scipy.optimize  as optimize\n",
    "\n",
    "import warnings\n",
    "warnings.filterwarnings('ignore')"
   ]
  },
  {
   "cell_type": "code",
   "execution_count": 3,
   "metadata": {},
   "outputs": [
    {
     "name": "stdout",
     "output_type": "stream",
     "text": [
      "add path to PYTHONPATH :  /Users/hernando/work/docencia/master/Fisica_Particulas/USC-Fanal-v2/\n"
     ]
    }
   ],
   "source": [
    "# REMEMBER TO ADD Your Fanal FOLDER TO PYTHONPATH\n",
    "import os\n",
    "import sys\n",
    "rootpath = os.getcwd()[:-15]\n",
    "print('add path to PYTHONPATH : ', rootpath)\n",
    "sys.path.insert(0, os.path.abspath(rootpath))"
   ]
  },
  {
   "cell_type": "code",
   "execution_count": 4,
   "metadata": {},
   "outputs": [],
   "source": [
    "import core.pltext  as pltext   # extensions for plotting histograms\n",
    "import core.hfit    as hfit     # extension to fit histograms\n",
    "import core.efit    as efit     # Fit Utilites - Includes Extend Likelihood Fit with composite PDFs\n",
    "import core.utils   as ut       # generic utilities\n",
    "import ana.fanal    as fn       # analysis functions specific to fanal\n",
    "import ana.pltfanal as pltfn    # plotting for fanal\n",
    "import     collpars as collpars # collaboration specific parameters\n",
    "pltext.style()"
   ]
  },
  {
   "cell_type": "markdown",
   "metadata": {},
   "source": [
    "## Indications\n",
    "\n",
    "### Objectives:\n",
    "\n",
    "   * ***Fit the signal energy region***\n",
    "\n",
    "### Tasks\n",
    "\n",
    "   * Open the data file (HDF) and access the simulated data (MC) of 214Bi, 208Tl and bb0nu. \n",
    "\n",
    "   * Generate an experiment with a given number of signal events and a level of background compatible with the one estimated using the blind-data sample (in previous task).\n",
    "\n",
    "   * Estimate the uncertainties in the numbe of evnets\n",
    "   \n",
    "### Notes\n",
    "\n",
    "   * We are going to fit the selected events in the *erange* energy region to the three samples: $\\beta\\beta0\\nu$, $^{214}$Bi and $^{208}$Tl.\n",
    "   \n",
    "   * We use an extended maximum likelihood fit of a composite PDF"
   ]
  },
  {
   "cell_type": "markdown",
   "metadata": {},
   "source": [
    "## Main parameters"
   ]
  },
  {
   "cell_type": "code",
   "execution_count": 10,
   "metadata": {},
   "outputs": [
    {
     "name": "stdout",
     "output_type": "stream",
     "text": [
      "Collaboration             : new_beta\n"
     ]
    }
   ],
   "source": [
    "coll          = collpars.collaboration\n",
    "sel_ntracks   = collpars.sel_ntracks\n",
    "sel_eblob2    = collpars.sel_eblob2\n",
    "sel_erange    = collpars.sel_erange\n",
    "sel_eroi      = collpars.sel_eroi\n",
    "\n",
    "print('Collaboration             : {:s}'.format(coll))\n",
    "#print('number of tracks range    : ({:d}, {:6.2f})'.format(*ntracks_range))\n",
    "#print('Blob-2 energy range       : ({:6.3f}, {:6.3f}) MeV'.format(*eblob2_range))\n",
    "#print('Energy range              : ({:6.3f}, {:6.3f}) MeV'.format(*erange))\n",
    "#print('Energy RoI range          : ({:6.3f}, {:6.3f}) MeV'.format(*eroi))"
   ]
  },
  {
   "cell_type": "code",
   "execution_count": 13,
   "metadata": {},
   "outputs": [
    {
     "name": "stdout",
     "output_type": "stream",
     "text": [
      "ana varnames  :  ['num_tracks', 'blob2_E', 'E']\n",
      "ana varranges :  [(1, 1.1), (0.4, 2.7), (2.4, 2.7)]\n",
      "ref varnames  :  ['num_tracks', 'E']\n",
      "ref varranges :  [(1, 1.1), (2.4, 2.7)]\n"
     ]
    }
   ],
   "source": [
    "# list of the analisys selection variables names and ranges\n",
    "ntracks_range = (sel_ntracks, sel_ntracks + 0.1)\n",
    "eblob2_range  = (sel_eblob2, sel_erange[1]) # MeV\n",
    "\n",
    "varnames  = ['num_tracks', 'blob2_E', 'E']\n",
    "varranges = [ntracks_range, eblob2_range, sel_erange]\n",
    "print('ana varnames  : ', varnames)\n",
    "print('ana varranges : ', varranges)\n",
    "\n",
    "# list of the reference selction variable names and rages to get pdfs for the MC\n",
    "refnames  = ['num_tracks', 'E']\n",
    "refranges = [ntracks_range, sel_erange]\n",
    "print('ref varnames  : ', refnames)\n",
    "print('ref varranges : ', refranges)\n"
   ]
  },
  {
   "cell_type": "code",
   "execution_count": 20,
   "metadata": {},
   "outputs": [
    {
     "name": "stdout",
     "output_type": "stream",
     "text": [
      "Number of bkg events in full data : Bi = 1404.20, Tl = 20659.77.\n"
     ]
    }
   ],
   "source": [
    "# number of  blind events\n",
    "n_Bi_total = collpars.n_Bi_total\n",
    "n_Tl_total = collpars.n_Tl_total\n",
    "\n",
    "eff_Bi_E   = collpars.eff_Bi_E\n",
    "eff_Tl_E   = collpars.eff_Tl_E\n",
    "eff_bb_E   = collpars.eff_bb_E\n",
    "print('Number of bkg events in full data : Bi = {:6.2f}, Tl = {:6.2f}.'.format(n_Bi_total, n_Tl_total))"
   ]
  },
  {
   "cell_type": "markdown",
   "metadata": {},
   "source": [
    "## Access the data"
   ]
  },
  {
   "cell_type": "code",
   "execution_count": 15,
   "metadata": {},
   "outputs": [
    {
     "name": "stdout",
     "output_type": "stream",
     "text": [
      "Data path and filename :  /Users/hernando/work/docencia/master/Fisica_Particulas/USC-Fanal-v2//data/fanal_new_beta.h5\n",
      "MC Sample Bi, number of simulated events = 60184\n",
      "MC Sample Tl, number of simulated events = 687297\n",
      "MC Sample bb, number of simulated events = 47636\n"
     ]
    }
   ],
   "source": [
    "# set the path to the data directory and filenames\n",
    "dirpath = rootpath+'/data/'\n",
    "filename = 'fanal_' + coll + '.h5'\n",
    "print('Data path and filename : ', dirpath + filename)\n",
    "\n",
    "# access the simulated data (DataFrames) for the different samples (Bi, Tl, bb) located in the data file\n",
    "mcbi = pd.read_hdf(dirpath + filename, key = 'mc/bi214')\n",
    "mctl = pd.read_hdf(dirpath + filename, key = 'mc/tl208')\n",
    "mcbb = pd.read_hdf(dirpath + filename, key = 'mc/bb0nu')\n",
    "\n",
    "# set the names of the samples\n",
    "# set the names of the samples\n",
    "mc_samples         = [mcbi, mctl, mcbb] # list of the mc DFs\n",
    "sample_names       = ['Bi', 'Tl', 'bb']\n",
    "sample_names_latex = [ r'$^{214}$Bi', r'$^{208}$Tl', r'$\\beta\\beta0\\nu$',] # str names of the mc samples\n",
    "\n",
    "for i, mc in enumerate(mc_samples):\n",
    "    print('MC Sample {:s}, number of simulated events = {:d}'.format(sample_names[i], len(mc)))"
   ]
  },
  {
   "cell_type": "markdown",
   "metadata": {},
   "source": [
    "## Check method with a mc experiment\n",
    "\n",
    "  * Generate a MC experiments with number of events compatible with estimated number of bkg events and a hipothetical number of signal events.\n",
    "  \n",
    "  * Fit the energy distribution of the selected events to the samples pdfs: bb, Bi. Tl\n",
    "  \n",
    "  * Do a profile scan to estimate the confidence interval and p0-value for this example\n",
    "  \n",
    "### Notes\n",
    "\n",
    "  * There is an appendix with the code step by step."
   ]
  },
  {
   "cell_type": "markdown",
   "metadata": {},
   "source": [
    "### Exercises\n",
    "\n",
    "  * Generate other experiments with different number of signal events to study the performance of the fit"
   ]
  },
  {
   "cell_type": "code",
   "execution_count": 21,
   "metadata": {},
   "outputs": [],
   "source": [
    "def nevts_total(factor = 1.):\n",
    "    n_Bi_RoI    = collpars.n_Bi_RoI\n",
    "    eff_bb_RoI  = collpars.eff_bb_RoI\n",
    "    n_Bi_total  = collpars.n_Bi_total\n",
    "    n_Tl_total  = collpars.n_Tl_total\n",
    "    n_bb_total  = factor * n_Bi_RoI/eff_bb_RoI\n",
    "    nevts           = (n_Bi_total, n_Tl_total, n_bb_total)\n",
    "    return np.array(nevts)\n",
    "\n",
    "def nevts_in_E(nevts_total):\n",
    "    eff_Bi_E    = collpars.eff_Bi_E\n",
    "    eff_Tl_E    = collpars.eff_Tl_E\n",
    "    eff_bb_RoI  = collpars.eff_bb_RoI\n",
    "    nBi, nTl, nbb = nevts_total\n",
    "    nevts       = (nBi * eff_Bi_E, nTl * eff_Tl_E, nbb * eff_bb_E)\n",
    "    return np.array(nevts)"
   ]
  },
  {
   "cell_type": "code",
   "execution_count": 22,
   "metadata": {},
   "outputs": [
    {
     "data": {
      "image/png": "[encoded data removed]",
      "text/plain": [
       "<Figure size 720x576 with 2 Axes>"
      ]
     },
     "metadata": {
      "needs_background": "light"
     },
     "output_type": "display_data"
    }
   ],
   "source": [
    "# set the number of events\n",
    "# expected bkg events are estimated using the fit to the blind data\n",
    "# consider the number of signal events a factor of the expected Bi events \n",
    "factor          = 1.\n",
    "nevts_total     = nevts_total(factor)\n",
    "nevts_E         = nevts_in_E(nevts_total)\n",
    "\n",
    "# define the fit\n",
    "fit             = fn.prepare_fit_ell(mc_samples, nevts_total, varnames, varranges, refnames, refranges)\n",
    "\n",
    "# generate an experiment using the mc samples and a given number of events of each sample\n",
    "mcdata          = fn.generate_mc_experiment(mc_samples, nevts_total)\n",
    "\n",
    "result, values, \\\n",
    "ell, nevts_est  = fit(mcdata)\n",
    "nevts_est = result.x if result.success else nevts_E\n",
    "\n",
    "pltfn.plot_fit_ell(values, nevts_est, ell, parnames = sample_names_latex)"
   ]
  },
  {
   "cell_type": "markdown",
   "metadata": {},
   "source": [
    "## Parameter uncertanties estimation"
   ]
  },
  {
   "cell_type": "code",
   "execution_count": 23,
   "metadata": {},
   "outputs": [
    {
     "data": {
      "image/png": "[encoded data removed]",
      "text/plain": [
       "<Figure size 1296x360 with 3 Axes>"
      ]
     },
     "metadata": {
      "needs_background": "light"
     },
     "output_type": "display_data"
    }
   ],
   "source": [
    "nis, tmus = fn.tmu_scan(values, result.x, ell, sizes = (2., 2., 2.))\n",
    "pltfn.plot_tmu_scan(nis, tmus, titles = sample_names_latex)"
   ]
  },
  {
   "cell_type": "code",
   "execution_count": 25,
   "metadata": {},
   "outputs": [
    {
     "name": "stdout",
     "output_type": "stream",
     "text": [
      "Number of Bi events CI at   68 % CL = (19.34, 32.07)\n",
      "Number of Tl events CI at   68 % CL = (143.49, 167.90)\n",
      "Number of bb events CI at   68 % CL = (17.28, 28.51)\n"
     ]
    }
   ],
   "source": [
    "cl    = 0.68\n",
    "mucis = [efit.tmu_conf_int(ni, tmu, cl) for ni, tmu in zip(nis, tmus)]\n",
    "for i, ci in enumerate(mucis):\n",
    "    print('Number of {:s} events CI at {:4.0f} % CL = ({:5.2f}, {:5.2f})'.format(sample_names[i], 100*cl, *ci))"
   ]
  },
  {
   "cell_type": "code",
   "execution_count": 26,
   "metadata": {},
   "outputs": [
    {
     "name": "stdout",
     "output_type": "stream",
     "text": [
      "Number of Bi events CI at   68 % CL = 25.30  -5.95 + 6.77\n",
      "Number of Tl events CI at   68 % CL = 155.19  -11.69 +12.71\n",
      "Number of bb events CI at   68 % CL = 22.51  -5.23 + 6.00\n"
     ]
    }
   ],
   "source": [
    "for i, ci in enumerate(mucis):\n",
    "    print('Number of {:s} events CI at {:4.0f} % CL = {:5.2f}  {:5.2f} +{:5.2f}'.format(sample_names[i], 100*cl, \n",
    "                                                                                        result.x[i],\n",
    "                                                                                        *(ci - result.x[i])))"
   ]
  },
  {
   "cell_type": "markdown",
   "metadata": {},
   "source": [
    "## Null hypothesis p-value calculation"
   ]
  },
  {
   "cell_type": "code",
   "execution_count": 27,
   "metadata": {},
   "outputs": [
    {
     "name": "stdout",
     "output_type": "stream",
     "text": [
      "H0 p value 9.55e-09, 5.62 sigmas\n"
     ]
    }
   ],
   "source": [
    "q0 = efit.tmu(values, ell, result.x, 0.)\n",
    "z0 = np.sqrt(q0)\n",
    "p0 = 1 - stats.norm.cdf(z0)\n",
    "#p0 = stats.chi2.sf(q0, 1)/2.\n",
    "print('H0 p value {:1.2e}, {:4.2f} sigmas'.format(p0, z0))"
   ]
  },
  {
   "cell_type": "markdown",
   "metadata": {},
   "source": [
    "## Estimate the half-time"
   ]
  },
  {
   "cell_type": "code",
   "execution_count": 29,
   "metadata": {},
   "outputs": [
    {
     "name": "stdout",
     "output_type": "stream",
     "text": [
      "number of bb0nu events in E  : 22.508\n",
      "exposure                     : 1000.00 kg y\n",
      "total signal efficiency      :  0.410\n",
      "bb0nu half-life              : 5.04e+25 y \n"
     ]
    }
   ],
   "source": [
    "from collpars import exposure\n",
    "\n",
    "eff      = collpars.acc_bb * collpars.eff_bb_E\n",
    "n_bb_E   = nevts_est[-1]\n",
    "tau      = fn.half_life(n_bb_E, exposure, eff)\n",
    "\n",
    "print('number of bb0nu events in E  : {:6.3f}'.format(n_bb_E))\n",
    "print('exposure                     : {:6.2f} kg y'.format(exposure))\n",
    "print('total signal efficiency      : {:6.3f}'.format(eff))\n",
    "print('bb0nu half-life              : {:6.2e} y '.format(tau))"
   ]
  },
  {
   "cell_type": "markdown",
   "metadata": {},
   "source": [
    "## Appendix: Step by step"
   ]
  },
  {
   "cell_type": "code",
   "execution_count": 30,
   "metadata": {},
   "outputs": [
    {
     "ename": "TypeError",
     "evalue": "'numpy.ndarray' object is not callable",
     "output_type": "error",
     "traceback": [
      "\u001b[0;31m---------------------------------------------------------------------------\u001b[0m",
      "\u001b[0;31mTypeError\u001b[0m                                 Traceback (most recent call last)",
      "\u001b[0;32m/var/folders/56/_pmdccc97ljb_l3v3s6gkrxm0000gn/T/ipykernel_9907/1026255045.py\u001b[0m in \u001b[0;36m<module>\u001b[0;34m\u001b[0m\n\u001b[1;32m      3\u001b[0m \u001b[0;31m# consider the number of signal events a factor of the expected Bi events\u001b[0m\u001b[0;34m\u001b[0m\u001b[0;34m\u001b[0m\u001b[0;34m\u001b[0m\u001b[0m\n\u001b[1;32m      4\u001b[0m \u001b[0mfactor\u001b[0m          \u001b[0;34m=\u001b[0m \u001b[0;36m1.\u001b[0m\u001b[0;34m\u001b[0m\u001b[0;34m\u001b[0m\u001b[0m\n\u001b[0;32m----> 5\u001b[0;31m \u001b[0mnevts\u001b[0m           \u001b[0;34m=\u001b[0m \u001b[0mnevts_total\u001b[0m\u001b[0;34m(\u001b[0m\u001b[0mfactor\u001b[0m\u001b[0;34m)\u001b[0m\u001b[0;34m\u001b[0m\u001b[0;34m\u001b[0m\u001b[0m\n\u001b[0m\u001b[1;32m      6\u001b[0m \u001b[0;34m\u001b[0m\u001b[0m\n\u001b[1;32m      7\u001b[0m \u001b[0;31m# generate the ELL instace to fit the energy distribution to the energy distribution of the three mc samples\u001b[0m\u001b[0;34m\u001b[0m\u001b[0;34m\u001b[0m\u001b[0;34m\u001b[0m\u001b[0m\n",
      "\u001b[0;31mTypeError\u001b[0m: 'numpy.ndarray' object is not callable"
     ]
    }
   ],
   "source": [
    "# set the number of events\n",
    "# expected bkg events are estimated using the fit to the blind data\n",
    "# consider the number of signal events a factor of the expected Bi events \n",
    "factor          = 1.\n",
    "nevts           = nevts_total(factor)\n",
    "\n",
    "# generate the ELL instace to fit the energy distribution to the energy distribution of the three mc samples\n",
    "ell             = fn.get_ell(mc_samples, refnames, refranges)\n",
    "\n",
    "# expected number of events for each mc sample\n",
    "effs            = [ut.selection_efficiency(mc, varnames, varranges)[0] for mc in mc_samples]\n",
    "nevts_exp       = effs * np.array(nevts)\n",
    "\n",
    "# generate an experiment using the mc samples and a given number of events of each sample\n",
    "mcdata          = fn.generate_mc_experiment(mc_samples, nevts)\n",
    "\n",
    "# select the data\n",
    "datana          = ut.selection_sample(mcdata, varnames, varranges)\n",
    "\n",
    "# fit the energy values of the data \n",
    "values          = datana['E'].values\n",
    "result          = ell.best_estimate(values, *nevts_exp)\n",
    "nevts_est       = result.x\n",
    "\n",
    "# plot the results\n",
    "pltfn.plot_fit_ell(values, nevts_est, ell)\n",
    "\n",
    "# print out\n",
    "print('Total number of events     :', *['{:s} = {:6.2f}, '.format(si, ni) \\\n",
    "                                              for si, ni in zip(samples_name, nevts)])\n",
    "print('Expected number of events  :', *['{:s} = {:6.2f}, '.format(si, ni) \\\n",
    "                                              for si, ni in zip(samples_name, nevts_exp)])\n",
    "\n",
    "print('Fit success ?              :', result.success)\n",
    "print('Estimated number of events :', *['{:s} = {:6.2f}, '.format(si, ni) \\\n",
    "                                              for si, ni in zip(samples_name, nevts_est)])"
   ]
  },
  {
   "cell_type": "code",
   "execution_count": null,
   "metadata": {},
   "outputs": [],
   "source": []
  }
 ],
 "metadata": {
  "kernelspec": {
   "display_name": "Python 3 (ipykernel)",
   "language": "python",
   "name": "python3"
  },
  "language_info": {
   "codemirror_mode": {
    "name": "ipython",
    "version": 3
   },
   "file_extension": ".py",
   "mimetype": "text/x-python",
   "name": "python",
   "nbconvert_exporter": "python",
   "pygments_lexer": "ipython3",
   "version": "3.7.11"
  },
  "vscode": {
   "interpreter": {
    "hash": "43bf40b08b0c659beee69adf0e375d89f2700363cec8d5fb661c131f1f6d870f"
   }
  }
 },
 "nbformat": 4,
 "nbformat_minor": 2
}
