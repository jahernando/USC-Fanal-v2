{
 "cells": [
  {
   "attachments": {},
   "cell_type": "markdown",
   "metadata": {},
   "source": [
    "# Open the box\n"
   ]
  },
  {
   "attachments": {},
   "cell_type": "markdown",
   "metadata": {},
   "source": [
    "## Objetives\n",
    "\n",
    "Access the full data set and estimate the number of signal events\n",
    "\n",
    " * Consider the case of a counting experiment, estimate the number of signal events in the RoI, $n^{\\beta\\beta}_{RoI}$. \n",
    "\n",
    " * Estimate the $n^{\\beta\\beta}_E$ events in the enlarged energy window.\n",
    "\n",
    " In both cases set a limit or a confidence interval for $\\mathcal{T}_{1/2}^{\\beta\\beta0\\nu}$\n",
    "\n",
    " Compute also the p-value of the null hypothesis"
   ]
  },
  {
   "attachments": {},
   "cell_type": "markdown",
   "metadata": {},
   "source": [
    "## Analysis"
   ]
  },
  {
   "cell_type": "code",
   "execution_count": 26,
   "metadata": {},
   "outputs": [
    {
     "name": "stdout",
     "output_type": "stream",
     "text": [
      "The autoreload extension is already loaded. To reload it, use:\n",
      "  %reload_ext autoreload\n"
     ]
    }
   ],
   "source": [
    "%matplotlib inline\n",
    "%load_ext autoreload\n",
    "%autoreload 2"
   ]
  },
  {
   "cell_type": "markdown",
   "metadata": {},
   "source": [
    "#### Importing modules"
   ]
  },
  {
   "cell_type": "code",
   "execution_count": 27,
   "metadata": {},
   "outputs": [],
   "source": [
    "import numpy  as np\n",
    "import tables as tb\n",
    "import pandas as pd\n",
    "import matplotlib.pyplot as plt\n",
    "\n",
    "import scipy.constants as constants\n",
    "import scipy.stats     as stats\n",
    "import scipy.optimize  as optimize\n",
    "\n",
    "import warnings\n",
    "warnings.filterwarnings('ignore')"
   ]
  },
  {
   "cell_type": "code",
   "execution_count": 28,
   "metadata": {},
   "outputs": [
    {
     "name": "stdout",
     "output_type": "stream",
     "text": [
      "add path to PYTHONPATH :  /Users/hernando/work/docencia/master/Fisica_Particulas/USC-Fanal-v2/\n"
     ]
    }
   ],
   "source": [
    "# REMEMBER TO ADD Your Fanal FOLDER TO PYTHONPATH\n",
    "import os\n",
    "import sys\n",
    "rootpath = os.getcwd()[:-15]\n",
    "print('add path to PYTHONPATH : ', rootpath)\n",
    "sys.path.insert(0, os.path.abspath(rootpath))"
   ]
  },
  {
   "cell_type": "code",
   "execution_count": 29,
   "metadata": {},
   "outputs": [],
   "source": [
    "import core.pltext  as pltext   # extensions for plotting histograms\n",
    "import core.hfit    as hfit     # extension to fit histograms\n",
    "import core.efit    as efit     # Fit Utilites - Includes Extend Likelihood Fit with composite PDFs\n",
    "import core.utils   as ut       # generic utilities\n",
    "import ana.fanal    as fn       # analysis functions specific to fanal\n",
    "import     collpars as collpars # collaboration specific parameters\n",
    "pltext.style()"
   ]
  },
  {
   "attachments": {},
   "cell_type": "markdown",
   "metadata": {},
   "source": [
    "### Main Parameters"
   ]
  },
  {
   "cell_type": "code",
   "execution_count": 30,
   "metadata": {},
   "outputs": [
    {
     "name": "stdout",
     "output_type": "stream",
     "text": [
      "Collaboration             : new_beta\n",
      "number of tracks range    :      1\n",
      "Blob-2 energy range       :  0.400  MeV\n",
      "Energy range              : ( 2.400,  2.700) MeV\n",
      "Energy RoI range          : ( 2.430,  2.480) MeV\n"
     ]
    }
   ],
   "source": [
    "coll          = collpars.collaboration\n",
    "sel_ntracks   = collpars.sel_ntracks\n",
    "sel_eblob2    = collpars.sel_eblob2\n",
    "sel_erange    = collpars.sel_erange\n",
    "sel_eroi      = collpars.sel_eroi\n",
    "\n",
    "\n",
    "print('Collaboration             : {:s}'.format(coll))\n",
    "print('number of tracks range    : {:6d}'.format(sel_ntracks))\n",
    "print('Blob-2 energy range       : {:6.3f}  MeV'.format(sel_eblob2))\n",
    "print('Energy range              : ({:6.3f}, {:6.3f}) MeV'.format(*sel_erange))\n",
    "print('Energy RoI range          : ({:6.3f}, {:6.3f}) MeV'.format(*sel_eroi))"
   ]
  },
  {
   "cell_type": "code",
   "execution_count": 31,
   "metadata": {},
   "outputs": [
    {
     "name": "stdout",
     "output_type": "stream",
     "text": [
      "Number Bi events in RoI = 21.765\n",
      "Number Tl events in RoI =  4.008\n",
      "Number Bi events in E   = 25.276\n",
      "Number Tl events in E   = 150.816\n"
     ]
    }
   ],
   "source": [
    "n_Bi_RoI  = collpars.n_Bi_RoI\n",
    "n_Tl_RoI  = collpars.n_Tl_RoI\n",
    "n_Bi_E    = collpars.n_Bi_E\n",
    "n_Tl_E    = collpars.n_Tl_E\n",
    "\n",
    "print('Number Bi events in RoI = {:6.3f}'.format(n_Bi_RoI))\n",
    "print('Number Tl events in RoI = {:6.3f}'.format(n_Tl_RoI))\n",
    "print('Number Bi events in E   = {:6.3f}'.format(n_Bi_E))\n",
    "print('Number Tl events in E   = {:6.3f}'.format(n_Tl_E))"
   ]
  },
  {
   "cell_type": "markdown",
   "metadata": {},
   "source": [
    "## Access the data"
   ]
  },
  {
   "cell_type": "code",
   "execution_count": 32,
   "metadata": {},
   "outputs": [
    {
     "name": "stdout",
     "output_type": "stream",
     "text": [
      "Data path and filename :  /Users/hernando/work/docencia/master/Fisica_Particulas/USC-Fanal-v2//data/fanal_new_beta.h5\n",
      "Total events in data set  = 22063\n"
     ]
    }
   ],
   "source": [
    "# set the path to the data directory and filenames\n",
    "dirpath = rootpath+'/data/'\n",
    "filename = 'fanal_' + coll + '.h5'\n",
    "print('Data path and filename : ', dirpath + filename)\n",
    "\n",
    "mcbi = pd.read_hdf(dirpath + filename, key = 'mc/bi214')\n",
    "mctl = pd.read_hdf(dirpath + filename, key = 'mc/tl208')\n",
    "\n",
    "datab = pd.read_hdf(dirpath + filename, key = 'data/blind')\n",
    "datar = pd.read_hdf(dirpath + filename, key = 'data/roi')\n",
    "data  = pd.concat((datab, datar)) # concatenate blind and roi-data into one data DF\n",
    "\n",
    "print(\"Total events in data set  = {:d}\".format(len(data)))"
   ]
  },
  {
   "cell_type": "code",
   "execution_count": 34,
   "metadata": {},
   "outputs": [
    {
     "data": {
      "image/png": "[encoded data removed]",
      "text/plain": [
       "<Figure size 432x288 with 1 Axes>"
      ]
     },
     "metadata": {
      "needs_background": "light"
     },
     "output_type": "display_data"
    }
   ],
   "source": [
    "mask1 = (data.E >= sel_erange[0]) & (data.E < sel_erange[1])\n",
    "\n",
    "#mask2 = mask1 & (data.num_tracks <= sel_ntracks)\n",
    "#mask3 = mask2 & (data.blob2_E >= sel_eblob2)\n",
    "#mask3 = mask3 & (data.E >= sel_eroi[0]) & (data.E < sel_eroi[1])\n",
    "\n",
    "pltext.hist(data.E[mask1], 100);\n",
    "plt.xlabel(\"Energy (MeV)\");"
   ]
  },
  {
   "cell_type": "code",
   "execution_count": null,
   "metadata": {},
   "outputs": [],
   "source": []
  }
 ],
 "metadata": {
  "kernelspec": {
   "display_name": "Python 3 (ipykernel)",
   "language": "python",
   "name": "python3"
  },
  "language_info": {
   "codemirror_mode": {
    "name": "ipython",
    "version": 3
   },
   "file_extension": ".py",
   "mimetype": "text/x-python",
   "name": "python",
   "nbconvert_exporter": "python",
   "pygments_lexer": "ipython3",
   "version": "3.7.11"
  },
  "vscode": {
   "interpreter": {
    "hash": "43bf40b08b0c659beee69adf0e375d89f2700363cec8d5fb661c131f1f6d870f"
   }
  }
 },
 "nbformat": 4,
 "nbformat_minor": 2
}
