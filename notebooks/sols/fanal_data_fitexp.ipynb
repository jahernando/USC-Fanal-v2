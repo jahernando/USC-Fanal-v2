{
 "cells": [
  {
   "cell_type": "markdown",
   "metadata": {},
   "source": [
    "# Open the box - Estimate $n^{\\beta\\beta}_E$\n"
   ]
  },
  {
   "cell_type": "markdown",
   "metadata": {},
   "source": [
    "## Objetices\n",
    "\n",
    "Access the full data set and estimate the number of signal events\n",
    "\n",
    "Estimate the $n^{\\beta\\beta}_E$ events in the enlarged energy window.\n",
    "\n",
    "Set a limit or a confidence interval for $\\mathcal{T}_{1/2}^{\\beta\\beta0\\nu}$ at 95 % CL\n",
    "\n",
    "Compute the p-value of the null hypothesis"
   ]
  },
  {
   "cell_type": "markdown",
   "metadata": {},
   "source": [
    "## Analysis"
   ]
  },
  {
   "cell_type": "code",
   "execution_count": 1,
   "metadata": {},
   "outputs": [],
   "source": [
    "%matplotlib inline\n",
    "%load_ext autoreload\n",
    "%autoreload 2"
   ]
  },
  {
   "cell_type": "markdown",
   "metadata": {},
   "source": [
    "#### Importing modules"
   ]
  },
  {
   "cell_type": "code",
   "execution_count": 2,
   "metadata": {},
   "outputs": [],
   "source": [
    "import numpy  as np\n",
    "import tables as tb\n",
    "import pandas as pd\n",
    "import matplotlib.pyplot as plt\n",
    "\n",
    "import scipy.constants as constants\n",
    "import scipy.stats     as stats\n",
    "import scipy.optimize  as optimize\n",
    "\n",
    "import warnings\n",
    "warnings.filterwarnings('ignore')"
   ]
  },
  {
   "cell_type": "code",
   "execution_count": 3,
   "metadata": {},
   "outputs": [
    {
     "name": "stdout",
     "output_type": "stream",
     "text": [
      "add path to PYTHONPATH :  /Users/hernando/work/docencia/master/Fisica_Particulas/USC-Fanal-v2\n"
     ]
    }
   ],
   "source": [
    "# REMEMBER TO ADD Your Fanal FOLDER TO PYTHONPATH\n",
    "import os\n",
    "import sys\n",
    "rootpath = os.getcwd()[:-15]\n",
    "print('add path to PYTHONPATH : ', rootpath)\n",
    "sys.path.insert(0, os.path.abspath(rootpath))"
   ]
  },
  {
   "cell_type": "code",
   "execution_count": 4,
   "metadata": {},
   "outputs": [],
   "source": [
    "import core.pltext  as pltext   # extensions for plotting histograms\n",
    "import core.hfit    as hfit     # extension to fit histograms\n",
    "import core.efit    as efit     # Fit Utilites - Includes Extend Likelihood Fit with composite PDFs\n",
    "import core.utils   as ut       # generic utilities\n",
    "import core.confint as confint  # Confidence Intervals \n",
    "import ana.fanal    as fn       # analysis functions specific to fanal\n",
    "import ana.pltfanal as pltfn    # plotting for fanal\n",
    "import notebooks.guide.collpars as collpars # collaboration specific parameters\n",
    "pltext.style()"
   ]
  },
  {
   "cell_type": "markdown",
   "metadata": {},
   "source": [
    "### Main Parameters"
   ]
  },
  {
   "cell_type": "code",
   "execution_count": 5,
   "metadata": {},
   "outputs": [
    {
     "name": "stdout",
     "output_type": "stream",
     "text": [
      "Collaboration             : new_beta\n",
      "number of tracks range    :      1\n",
      "Blob-2 energy range       :  0.400  MeV\n",
      "Energy range              : ( 2.400,  2.700) MeV\n",
      "Energy RoI range          : ( 2.430,  2.480) MeV\n"
     ]
    }
   ],
   "source": [
    "coll          = collpars.collaboration\n",
    "sel_ntracks   = collpars.sel_ntracks\n",
    "sel_eblob2    = collpars.sel_eblob2\n",
    "sel_erange    = collpars.sel_erange\n",
    "sel_eroi      = collpars.sel_eroi\n",
    "\n",
    "print('Collaboration             : {:s}'.format(coll))\n",
    "print('number of tracks range    : {:6d}'.format(sel_ntracks))\n",
    "print('Blob-2 energy range       : {:6.3f}  MeV'.format(sel_eblob2))\n",
    "print('Energy range              : ({:6.3f}, {:6.3f}) MeV'.format(*sel_erange))\n",
    "print('Energy RoI range          : ({:6.3f}, {:6.3f}) MeV'.format(*sel_eroi))"
   ]
  },
  {
   "cell_type": "code",
   "execution_count": 6,
   "metadata": {},
   "outputs": [
    {
     "name": "stdout",
     "output_type": "stream",
     "text": [
      "Number Bi events in RoI = 21.765\n",
      "Number Tl events in RoI =  4.008\n",
      "Number Bi events in E   = 25.276\n",
      "Number Tl events in E   = 150.816\n"
     ]
    }
   ],
   "source": [
    "n_Bi_RoI  = collpars.n_Bi_RoI\n",
    "n_Tl_RoI  = collpars.n_Tl_RoI\n",
    "\n",
    "n_Bi_E    = collpars.n_Bi_E\n",
    "n_Tl_E    = collpars.n_Tl_E\n",
    "\n",
    "print('Number Bi events in RoI = {:6.3f}'.format(n_Bi_RoI))\n",
    "print('Number Tl events in RoI = {:6.3f}'.format(n_Tl_RoI))\n",
    "print('Number Bi events in E   = {:6.3f}'.format(n_Bi_E))\n",
    "print('Number Tl events in E   = {:6.3f}'.format(n_Tl_E))"
   ]
  },
  {
   "cell_type": "markdown",
   "metadata": {},
   "source": [
    "## Access the data"
   ]
  },
  {
   "cell_type": "code",
   "execution_count": 7,
   "metadata": {},
   "outputs": [
    {
     "name": "stdout",
     "output_type": "stream",
     "text": [
      "Data path and filename :  /Users/hernando/work/docencia/master/Fisica_Particulas/USC-Fanal-v2/data/fanal_new_beta.h5\n"
     ]
    }
   ],
   "source": [
    "# set the path to the data directory and filenames\n",
    "dirpath = rootpath+'/data/'\n",
    "filename = 'fanal_' + coll + '.h5'\n",
    "print('Data path and filename : ', dirpath + filename)\n",
    "\n",
    "# access the simulated data (DataFrames) for the different samples (Bi, Tl, bb) located in the data file\n",
    "mcbi = pd.read_hdf(dirpath + filename, key = 'mc/bi214')\n",
    "mctl = pd.read_hdf(dirpath + filename, key = 'mc/tl208')\n",
    "mcbb = pd.read_hdf(dirpath + filename, key = 'mc/bb0nu')\n",
    "\n",
    "# set the names of the samples\n",
    "# set the names of the samples\n",
    "mc_samples         = [mcbi, mctl, mcbb] # list of the mc DFs\n",
    "sample_names       = ['Bi', 'Tl', 'bb']\n",
    "sample_names_latex = [ r'$^{214}$Bi', r'$^{208}$Tl', r'$\\beta\\beta0\\nu$',] # str names of the mc samples"
   ]
  },
  {
   "cell_type": "code",
   "execution_count": 8,
   "metadata": {},
   "outputs": [
    {
     "name": "stdout",
     "output_type": "stream",
     "text": [
      "Total events in data set  = 22063\n"
     ]
    }
   ],
   "source": [
    "datab = pd.read_hdf(dirpath + filename, key = 'data/blind')\n",
    "datar = pd.read_hdf(dirpath + filename, key = 'data/roi')\n",
    "data  = pd.concat((datab, datar)) # concatenate blind and roi-data into one data DF\n",
    "\n",
    "print(\"Total events in data set  = {:d}\".format(len(data)))"
   ]
  },
  {
   "cell_type": "markdown",
   "metadata": {},
   "source": [
    "### Energy distribution for selected events"
   ]
  },
  {
   "cell_type": "code",
   "execution_count": 9,
   "metadata": {},
   "outputs": [
    {
     "name": "stdout",
     "output_type": "stream",
     "text": [
      "Number of expected backgrounds events in E window = 25.773\n",
      "Number of expected total events in E windoes      = 171\n"
     ]
    },
    {
     "data": {
      "image/png": "[encoded data removed]",
      "text/plain": [
       "<Figure size 432x288 with 1 Axes>"
      ]
     },
     "metadata": {
      "needs_background": "light"
     },
     "output_type": "display_data"
    }
   ],
   "source": [
    "mask1 = (data.E >= sel_erange[0]) & (data.E < sel_erange[1])\n",
    "\n",
    "mask2 = mask1 & (data.num_tracks <= sel_ntracks)\n",
    "mask3 = mask2 & (data.blob2_E >= sel_eblob2)\n",
    "\n",
    "pltext.hist(data.E[mask3], 100);\n",
    "plt.xlabel(\"Energy (MeV)\");\n",
    "\n",
    "nobs = sum(mask3)\n",
    "nbkg = n_Bi_RoI + n_Tl_RoI\n",
    "\n",
    "print(\"Number of expected backgrounds events in E window = {:6.3f}\".format(nbkg))\n",
    "print(\"Number of expected total events in E windoes      = {:d}\".format(nobs))"
   ]
  },
  {
   "cell_type": "markdown",
   "metadata": {},
   "source": [
    "### Define the fitter"
   ]
  },
  {
   "cell_type": "code",
   "execution_count": 10,
   "metadata": {},
   "outputs": [
    {
     "name": "stdout",
     "output_type": "stream",
     "text": [
      "ana varnames  :  ['num_tracks', 'blob2_E', 'E']\n",
      "ana varranges :  [(1, 1.1), (0.4, 2.7), (2.4, 2.7)]\n",
      "ref varnames  :  ['num_tracks', 'E']\n",
      "ref varranges :  [(1, 1.1), (2.4, 2.7)]\n"
     ]
    }
   ],
   "source": [
    "# list of the analisys selection variables names and ranges\n",
    "ntracks_range = (sel_ntracks, sel_ntracks + 0.1)\n",
    "eblob2_range  = (sel_eblob2, sel_erange[1]) # MeV\n",
    "\n",
    "varnames  = ['num_tracks', 'blob2_E', 'E']\n",
    "varranges = [ntracks_range, eblob2_range, sel_erange]\n",
    "print('ana varnames  : ', varnames)\n",
    "print('ana varranges : ', varranges)\n",
    "\n",
    "# list of the reference selction variable names and rages to get pdfs for the MC\n",
    "refnames  = ['num_tracks', 'E']\n",
    "refranges = [ntracks_range, sel_erange]\n",
    "print('ref varnames  : ', refnames)\n",
    "print('ref varranges : ', refranges)"
   ]
  },
  {
   "cell_type": "code",
   "execution_count": 11,
   "metadata": {},
   "outputs": [],
   "source": [
    "def nevts_total(factor = 1.):\n",
    "    \"\"\" returns the total number of events (Bi, Tl, bb), \n",
    "    The expected number of bb events in the RoI is a **factor = 1.** of the number of the expected Bi events in RoI\n",
    "    \"\"\"\n",
    "    n_Bi_RoI    = collpars.n_Bi_RoI\n",
    "    eff_bb_RoI  = collpars.eff_bb_RoI\n",
    "    n_Bi_total  = collpars.n_Bi_total\n",
    "    n_Tl_total  = collpars.n_Tl_total\n",
    "    n_bb_total  = factor * n_Bi_RoI/eff_bb_RoI\n",
    "    nevts       = (n_Bi_total, n_Tl_total, n_bb_total)\n",
    "    return np.array(nevts)\n",
    "\n",
    "def nevts_in_E(n_total):\n",
    "    \"\"\" returns the number of expected events in the enlarged energy windows: (Bi, Tl, bb) \n",
    "    given a total number of events (Bi, Tl, bb)\n",
    "    \"\"\"\n",
    "    eff_Bi_E      = collpars.eff_Bi_E\n",
    "    eff_Tl_E      = collpars.eff_Tl_E\n",
    "    eff_bb_E      = collpars.eff_bb_RoI\n",
    "    nBi, nTl, nbb = n_total\n",
    "    nevts         = (nBi * eff_Bi_E, nTl * eff_Tl_E, nbb * eff_bb_E)\n",
    "    return np.array(nevts)"
   ]
  },
  {
   "cell_type": "code",
   "execution_count": 12,
   "metadata": {},
   "outputs": [
    {
     "data": {
      "image/png": "[encoded data removed]",
      "text/plain": [
       "<Figure size 720x576 with 2 Axes>"
      ]
     },
     "metadata": {
      "needs_background": "light"
     },
     "output_type": "display_data"
    }
   ],
   "source": [
    "factor      = 1.\n",
    "n_total     = nevts_total(factor)\n",
    "n_E         = nevts_in_E(n_total)\n",
    "\n",
    "# define the fit\n",
    "fit         = fn.prepare_fit_ell(mc_samples, n_total, varnames, varranges, refnames, refranges)\n",
    "\n",
    "result, values, \\\n",
    "ell, n_est  = fit(data)\n",
    "n_est = result.x if result.success else n_E\n",
    "\n",
    "pltfn.plot_fit_ell(values, n_est, ell, parnames = sample_names_latex)"
   ]
  },
  {
   "cell_type": "code",
   "execution_count": 13,
   "metadata": {},
   "outputs": [
    {
     "name": "stdout",
     "output_type": "stream",
     "text": [
      "Number of Bi total events = 20659.771\n",
      "Number of Tl total events = 41.936\n",
      "Number of Bi expected events in E window = 150.816\n",
      "Number of Tl expected events in E window = 21.765\n",
      "Number of Bi estimated events in E window = 30.723\n",
      "Number of Tl estimated events in E window = 128.844\n",
      "Number of bb estimated events in E window = 11.433\n"
     ]
    }
   ],
   "source": [
    "for i, ni in enumerate(n_total[1:]):\n",
    "    print('Number of {:s} total events = {:6.3f}'.format(sample_names[i], ni))\n",
    "\n",
    "for i, ni in enumerate(n_E[1:]):\n",
    "    print('Number of {:s} expected events in E window = {:6.3f}'.format(sample_names[i], ni))\n",
    "\n",
    "for i, ni in enumerate(n_est):\n",
    "    print('Number of {:s} estimated events in E window = {:6.3f}'.format(sample_names[i], ni))"
   ]
  },
  {
   "cell_type": "code",
   "execution_count": 14,
   "metadata": {},
   "outputs": [
    {
     "data": {
      "image/png": "[encoded data removed]",
      "text/plain": [
       "<Figure size 1296x360 with 3 Axes>"
      ]
     },
     "metadata": {
      "needs_background": "light"
     },
     "output_type": "display_data"
    }
   ],
   "source": [
    "nis, tmus = fn.tmu_scan(values, n_est, ell, sizes = (2., 2., 3.))\n",
    "pltfn.plot_tmu_scan(nis, tmus, titles = sample_names_latex)"
   ]
  },
  {
   "cell_type": "code",
   "execution_count": 15,
   "metadata": {},
   "outputs": [
    {
     "name": "stdout",
     "output_type": "stream",
     "text": [
      "Number of Bi events CI at   95 % CL = (19.64, 41.81)\n",
      "Number of Tl events CI at   95 % CL = (108.00, 151.55)\n",
      "Number of bb events CI at   95 % CL = ( 4.60, 21.58)\n"
     ]
    }
   ],
   "source": [
    "cl    = 0.95\n",
    "mucis = [efit.tmu_conf_int(ni, tmu, cl) for ni, tmu in zip(nis, tmus)]\n",
    "for i, ci in enumerate(mucis):\n",
    "    print('Number of {:s} events CI at {:4.0f} % CL = ({:5.2f}, {:5.2f})'.format(sample_names[i], 100*cl, *ci))"
   ]
  },
  {
   "cell_type": "code",
   "execution_count": 16,
   "metadata": {},
   "outputs": [
    {
     "name": "stdout",
     "output_type": "stream",
     "text": [
      "Number of Bi events CI at   95 % CL = 30.72  -11.09 +11.09\n",
      "Number of Tl events CI at   95 % CL = 128.84  -20.85 +22.70\n",
      "Number of bb events CI at   95 % CL = 11.43  -6.83 +10.14\n"
     ]
    }
   ],
   "source": [
    "for i, ci in enumerate(mucis):\n",
    "    print('Number of {:s} events CI at {:4.0f} % CL = {:5.2f}  {:5.2f} +{:5.2f}'.format(sample_names[i], 100*cl, \n",
    "                                                                                        result.x[i],\n",
    "                                                                                        *(ci - n_est[i])))"
   ]
  },
  {
   "cell_type": "code",
   "execution_count": 17,
   "metadata": {},
   "outputs": [
    {
     "name": "stdout",
     "output_type": "stream",
     "text": [
      "null hypothesis p-value 8.59e-05, 3.76 sigmas\n"
     ]
    }
   ],
   "source": [
    "q0 = efit.tmu(values, ell, n_est, 0, ipos = 2)\n",
    "z0 = np.sqrt(q0)\n",
    "p0 = 1 - stats.norm.cdf(z0)\n",
    "print('null hypothesis p-value {:1.2e}, {:4.2f} sigmas'.format(p0, z0))"
   ]
  },
  {
   "cell_type": "code",
   "execution_count": 18,
   "metadata": {},
   "outputs": [
    {
     "name": "stdout",
     "output_type": "stream",
     "text": [
      "number of bb0nu events in E  : 11.433\n",
      "exposure                     : 1000.00 kg y\n",
      "total signal efficiency      :  0.410\n",
      "bb0nu half-life              : 9.91e+25 y \n",
      "bb0nu half-life 95% CL       : [5.25e+25, 2.46e+26] y \n"
     ]
    }
   ],
   "source": [
    "exposure = collpars.exposure\n",
    "eff      = collpars.acc_bb * collpars.eff_bb_E # total signal selection efficiency in the E window\n",
    "n_bb_E   = n_est[-1] # estimated number of bb  in E\n",
    "tau      = fn.half_life(n_bb_E, exposure, eff) # tau_1/2\n",
    "\n",
    "print('number of bb0nu events in E  : {:6.3f}'.format(n_bb_E))\n",
    "print('exposure                     : {:6.2f} kg y'.format(exposure))\n",
    "print('total signal efficiency      : {:6.3f}'.format(eff))\n",
    "print('bb0nu half-life              : {:6.2e} y '.format(tau))\n",
    "\n",
    "n_bb_ci    = mucis[-1] # nbbs of the CL  \n",
    "utaus = [fn.half_life(n_bb_i, exposure, eff) for n_bb_i in n_bb_ci]\n",
    "utaus.reverse()\n",
    "print('bb0nu half-life {:d}% CL       : [{:6.2e}, {:6.2e}] y '.format(int(100*cl), *utaus))"
   ]
  },
  {
   "cell_type": "markdown",
   "metadata": {},
   "source": [
    "## Write out"
   ]
  },
  {
   "cell_type": "code",
   "execution_count": 19,
   "metadata": {},
   "outputs": [],
   "source": [
    "write = True\n",
    "if (write):\n",
    "    of = open('../guide/collpars.py', 'a')\n",
    "    of.write(\"n_bb_E           = {:6.3f} \\n\".format(n_bb_E))\n",
    "    of.write(\"eff_bb_E_tau     = {:6.4f} \\n\".format(eff))\n",
    "    of.write(\"Tau_fitexp       = {:6.2e} #y \\n\".format(tau))\n",
    "    of.write(\"Tau_fitexp_ci    = [{:6.2e}, {:6.2e}] # y at {:d}% CL \\n\".format(*utaus, int(100*cl)))\n",
    "    of.write(\"pvalue_fitext    = {:6.2e} \\n\".format(p0))\n",
    "    of.close()"
   ]
  },
  {
   "cell_type": "code",
   "execution_count": null,
   "metadata": {},
   "outputs": [],
   "source": []
  }
 ],
 "metadata": {
  "kernelspec": {
   "display_name": "Python 3 (ipykernel)",
   "language": "python",
   "name": "python3"
  },
  "language_info": {
   "codemirror_mode": {
    "name": "ipython",
    "version": 3
   },
   "file_extension": ".py",
   "mimetype": "text/x-python",
   "name": "python",
   "nbconvert_exporter": "python",
   "pygments_lexer": "ipython3",
   "version": "3.7.11"
  },
  "vscode": {
   "interpreter": {
    "hash": "43bf40b08b0c659beee69adf0e375d89f2700363cec8d5fb661c131f1f6d870f"
   }
  }
 },
 "nbformat": 4,
 "nbformat_minor": 2
}
