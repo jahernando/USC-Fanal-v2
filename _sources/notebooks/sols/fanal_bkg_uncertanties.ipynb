{
 "cells": [
  {
   "cell_type": "markdown",
   "metadata": {},
   "source": [
    "# Uncertainties on the number of backgrounds events"
   ]
  },
  {
   "cell_type": "markdown",
   "metadata": {},
   "source": [
    "## Objectives\n",
    "\n",
    " * **Estimate the uncertainties in the number of background events**"
   ]
  },
  {
   "cell_type": "markdown",
   "metadata": {},
   "source": [
    "## Physics\n",
    "\n",
    "We estimate the parameters uncertainty using the log likelihood scan.\n",
    "\n",
    "We have estimated the parameters as the values where the -2 log likelihood has a minimum\n",
    "\n",
    "We estimate the uncertenties at the 68% confidence level using the value where the -2 log likelihood increses by one unit respect the minimum.\n",
    "\n",
    "$$\n",
    "\\Delta - 2 \\log \\mathcal{L}( {\\bf E} | {\\bf n}) = 1\n",
    "$$"
   ]
  },
  {
   "cell_type": "markdown",
   "metadata": {},
   "source": [
    "To be precise, to compute the uncertainty on $n^{Bi}_b$ we scan the likelihood along the $n^{Bi}_b$, but we estimate the other parameter $\\hat{n}^{Tl}_b(n^{Bi}_b)$ as the value that minimizes the -2 log likelihood, $-2 \\log \\mathcal{L}({\\bf E} | {\\bf n})$ for a fix $n^{Bi}_b$."
   ]
  },
  {
   "cell_type": "markdown",
   "metadata": {},
   "source": [
    "## Analysis"
   ]
  },
  {
   "cell_type": "code",
   "execution_count": 1,
   "metadata": {},
   "outputs": [],
   "source": [
    "%matplotlib inline\n",
    "%load_ext autoreload\n",
    "%autoreload 2"
   ]
  },
  {
   "cell_type": "markdown",
   "metadata": {},
   "source": [
    "#### Importing modules"
   ]
  },
  {
   "cell_type": "code",
   "execution_count": 2,
   "metadata": {},
   "outputs": [],
   "source": [
    "import numpy  as np\n",
    "import tables as tb\n",
    "import pandas as pd\n",
    "import matplotlib.pyplot as plt\n",
    "\n",
    "import scipy.stats     as stats  # statistics and Many PDFs \n",
    "#import scipy.optimize  as optimize # Minimice funtions\n",
    "\n",
    "import warnings\n",
    "warnings.filterwarnings('ignore')"
   ]
  },
  {
   "cell_type": "code",
   "execution_count": 3,
   "metadata": {},
   "outputs": [
    {
     "name": "stdout",
     "output_type": "stream",
     "text": [
      "add path to PYTHONPATH :  /Users/hernando/work/docencia/master/Fisica_Particulas/USC-Fanal-v2/\n"
     ]
    }
   ],
   "source": [
    "# REMEMBER TO ADD Your Fanal FOLDER TO PYTHONPATH\n",
    "import os\n",
    "import sys\n",
    "rootpath = os.getcwd()[:-15]\n",
    "print('add path to PYTHONPATH : ', rootpath)\n",
    "sys.path.insert(0, os.path.abspath(rootpath))"
   ]
  },
  {
   "cell_type": "code",
   "execution_count": 4,
   "metadata": {},
   "outputs": [],
   "source": [
    "import core.pltext  as pltext   # extensions for plotting histograms\n",
    "import core.hfit    as hfit     # extension to fit histograms\n",
    "import core.efit    as efit     # Fit Utilites - Includes Extend Likelihood Fit with composite PDFs\n",
    "import core.utils   as ut       # generic utilities\n",
    "import ana.fanal    as fn       # analysis functions specific to fanal\n",
    "import ana.pltfanal as pltfn    # plotting fanal functions\n",
    "import     collpars as collpars # collaboration specific parameters\n",
    "pltext.style()"
   ]
  },
  {
   "cell_type": "markdown",
   "metadata": {},
   "source": [
    "### Parameters"
   ]
  },
  {
   "cell_type": "code",
   "execution_count": 5,
   "metadata": {},
   "outputs": [
    {
     "name": "stdout",
     "output_type": "stream",
     "text": [
      "Collaboration         : new_beta\n",
      "Energy range          : ( 2.400,  2.700) MeV\n",
      "RoI    range          : ( 2.430,  2.480) MeV\n",
      "Bi eff in E range     : 1.8000 %\n",
      "Tl eff in E range     : 0.7300 %\n",
      "Bi eff in RoI         : 1.5500 %\n",
      "Tl eff in RoI         : 0.0194 %\n"
     ]
    }
   ],
   "source": [
    "collaboration = collpars.collaboration\n",
    "sel_erange    = collpars.sel_erange\n",
    "sel_eroi      = collpars.sel_eroi\n",
    "\n",
    "eff_Bi_blind  = collpars.eff_Bi_blind\n",
    "eff_Tl_blind  = collpars.eff_Tl_blind\n",
    "\n",
    "eff_Bi_E      = collpars.eff_Bi_E\n",
    "eff_Tl_E      = collpars.eff_Tl_E\n",
    "eff_Bi_RoI    = collpars.eff_Bi_RoI\n",
    "eff_Tl_RoI    = collpars.eff_Tl_RoI\n",
    "\n",
    "print('Collaboration         : {:s}'.format(collaboration))\n",
    "print('Energy range          : ({:6.3f}, {:6.3f}) MeV'.format(*sel_erange))\n",
    "print('RoI    range          : ({:6.3f}, {:6.3f}) MeV'.format(*sel_eroi))\n",
    "print('Bi eff in E range     : {:6.4f} %'.format(100.*eff_Bi_E))\n",
    "print('Tl eff in E range     : {:6.4f} %'.format(100.*eff_Tl_E))\n",
    "print('Bi eff in RoI         : {:6.4f} %'.format(100.*eff_Bi_RoI))\n",
    "print('Tl eff in RoI         : {:6.4f} %'.format(100.*eff_Tl_RoI))"
   ]
  },
  {
   "cell_type": "code",
   "execution_count": 6,
   "metadata": {},
   "outputs": [
    {
     "name": "stdout",
     "output_type": "stream",
     "text": [
      "Number of bkg events in blind data : Bi = 1102.30, Tl = 14606.46.\n"
     ]
    }
   ],
   "source": [
    "# number of  blind events\n",
    "n_Bi_blind = eff_Bi_blind * collpars.n_Bi_total\n",
    "n_Tl_blind = eff_Tl_blind * collpars.n_Tl_total\n",
    "n_blind    = [n_Bi_blind, n_Tl_blind]\n",
    "print('Number of bkg events in blind data : Bi = {:6.2f}, Tl = {:6.2f}.'.format(*n_blind))"
   ]
  },
  {
   "cell_type": "markdown",
   "metadata": {},
   "source": [
    "## Access the data"
   ]
  },
  {
   "cell_type": "code",
   "execution_count": 7,
   "metadata": {},
   "outputs": [
    {
     "name": "stdout",
     "output_type": "stream",
     "text": [
      "Data path and filename :  /Users/hernando/work/docencia/master/Fisica_Particulas/USC-Fanal-v2//data/fanal_new_beta.h5\n"
     ]
    }
   ],
   "source": [
    "filename = '/data/fanal_' + collaboration + '.h5'\n",
    "print('Data path and filename : ', rootpath + filename)\n",
    "\n",
    "mcbi       = pd.read_hdf(rootpath + filename, key = 'mc/bi214')   # MC Bi\n",
    "mctl       = pd.read_hdf(rootpath + filename, key = 'mc/tl208')   # MC Tl\n",
    "data_blind = pd.read_hdf(rootpath + filename, key = 'data/blind') # blind data\n",
    "\n",
    "mc_samples         = [mcbi, mctl]\n",
    "sample_names       = ['Bi', 'Tl']\n",
    "sample_names_latex = [r'$^{214}$Bi', r'$^{208}$Tl']"
   ]
  },
  {
   "cell_type": "markdown",
   "metadata": {},
   "source": [
    "### Re-do the fit to the blind data"
   ]
  },
  {
   "cell_type": "code",
   "execution_count": 8,
   "metadata": {},
   "outputs": [
    {
     "name": "stdout",
     "output_type": "stream",
     "text": [
      "Initial   number of events : 1102.30,  14606.46, \n",
      "Estimated number of events : 1102.30,  14606.46, \n"
     ]
    },
    {
     "data": {
      "image/png": "[encoded data removed]",
      "text/plain": [
       "<Figure size 720x576 with 2 Axes>"
      ]
     },
     "metadata": {
      "needs_background": "light"
     },
     "output_type": "display_data"
    }
   ],
   "source": [
    "# get the blind mc samples\n",
    "mcs_blind  = [mc[fn.selection_blind(mc)] for mc in mc_samples]\n",
    "\n",
    "varname   = 'E'\n",
    "refnames  = (varname,) \n",
    "refranges = (sel_erange,)\n",
    "\n",
    "fit        = fn.prepare_fit_ell(mcs_blind, n_blind, refnames, refranges)\n",
    "\n",
    "result, enes, ell, _ = fit(data_blind)\n",
    "n_est = result.x\n",
    "\n",
    "print('Initial   number of events :', *['{:6.2f}, '.format(ni) for ni in n_blind])\n",
    "print('Estimated number of events :', *['{:6.2f}, '.format(ni) for ni in n_est])\n",
    "# it also plots the histogram, the fit function, and the pdfs samples\n",
    "pltfn.plot_fit_ell(enes, n_est, ell, parnames = sample_names_latex)"
   ]
  },
  {
   "cell_type": "markdown",
   "metadata": {},
   "source": [
    "### Profile Likelihood Scan\n",
    "\n",
    "We compute the uncertainties usign the log Likelihood scan\n",
    "\n",
    "The uncertainties on $\\mu$, in the gaussian domain, when there are two parameters $\\mu, \\nu$, are defined as the $\\mu$ values where:\n",
    "\n",
    "$$\n",
    "t_\\mu(x) \\equiv \\Delta - 2 \\mathrm{log} \\mathcal{L}(x | \\mu, \\nu) = \n",
    "-2 \\, \\mathrm{log} \\frac{\\mathcal{L}(x | \\mu, \\hat{\\nu}(\\mu))}{\\mathcal{L}(x | \\hat{\\mu}, \\hat{\\nu})}  = 1\n",
    "$$\n"
   ]
  },
  {
   "cell_type": "markdown",
   "metadata": {},
   "source": [
    "In the plot, the cover intervals at 68% CL of a parameter corresponds to the segment defined by the points where the  $\\Delta -2 \\log \\mathcal{L} = 1$ line crosses the likelihood parabola."
   ]
  },
  {
   "cell_type": "code",
   "execution_count": 9,
   "metadata": {},
   "outputs": [
    {
     "data": {
      "image/png": "[encoded data removed]",
      "text/plain": [
       "<Figure size 864x360 with 2 Axes>"
      ]
     },
     "metadata": {
      "needs_background": "light"
     },
     "output_type": "display_data"
    }
   ],
   "source": [
    "nis, tmus = fn.tmu_scan(enes, n_est, ell, sizes = (3., 3.))\n",
    "pltfn.plot_tmu_scan(nis, tmus, titles = sample_names_latex)"
   ]
  },
  {
   "cell_type": "code",
   "execution_count": 10,
   "metadata": {},
   "outputs": [
    {
     "name": "stdout",
     "output_type": "stream",
     "text": [
      "Number of Bi events CI at   68 % CL = (1055.55, 1153.12)\n",
      "Number of Tl events CI at   68 % CL = (14510.27, 14747.05)\n"
     ]
    }
   ],
   "source": [
    "cl    = 0.68\n",
    "mucis = [efit.tmu_conf_int(ni, tmu, cl) for ni, tmu in zip(nis, tmus)]\n",
    "for i, ci in enumerate(mucis):\n",
    "    print('Number of {:s} events CI at {:4.0f} % CL = ({:5.2f}, {:5.2f})'.format(sample_names[i], 100*cl, *ci))"
   ]
  },
  {
   "cell_type": "code",
   "execution_count": 11,
   "metadata": {},
   "outputs": [
    {
     "name": "stdout",
     "output_type": "stream",
     "text": [
      "Number of Bi events CI at   68 % CL = 1102.30  -46.75 +50.82\n",
      "Number of Tl events CI at   68 % CL = 14606.46  -96.19 +140.59\n"
     ]
    }
   ],
   "source": [
    "for i, ci in enumerate(mucis):\n",
    "    print('Number of {:s} events CI at {:4.0f} % CL = {:5.2f}  {:5.2f} +{:5.2f}'.format(sample_names[i], 100*cl, \n",
    "                                                                                        result.x[i],\n",
    "                                                                                        *(ci - result.x[i])))"
   ]
  },
  {
   "cell_type": "markdown",
   "metadata": {},
   "source": [
    "### Computing the uncertainties in the number of Bkg\n",
    "\n",
    " Now the uncertainties in the number of background events in the RoI are:\n",
    "\n",
    " $$\n",
    "\\sigma_{n^k_{RoI}} = \\frac{\\epsilon^k_{RoI}}{\\epsilon^k_b}\\sigma_{n^k_{b}}, \\;\\; k = \\mathrm{Bi}, \\mathrm{Tl}\n",
    " $$\n"
   ]
  },
  {
   "cell_type": "code",
   "execution_count": 12,
   "metadata": {},
   "outputs": [
    {
     "name": "stdout",
     "output_type": "stream",
     "text": [
      "Uncertainty in number of blind Bi events  = 48.785 \n",
      "Uncertainty in number of blind Tl events  = 118.391 \n",
      "Uncertainty in number of total Bi events  = 62.146 \n",
      "Uncertainty in number of total Tl events  = 167.455 \n"
     ]
    }
   ],
   "source": [
    "un_blind   = np.array([np.max(ci) - np.mean(ci) for ci in mucis])\n",
    "effs_blind = np.array((collpars.eff_Bi_blind, collpars.eff_Tl_blind))\n",
    "un_total   = un_blind/effs_blind\n",
    "\n",
    "for i, u in enumerate(un_blind):\n",
    "    print('Uncertainty in number of blind {:s} events  = {:6.3f} '.format(sample_names[i], u))\n",
    "for i, u in enumerate(un_total):\n",
    "    print('Uncertainty in number of total {:s} events  = {:6.3f} '.format(sample_names[i], u))"
   ]
  },
  {
   "cell_type": "code",
   "execution_count": 13,
   "metadata": {},
   "outputs": [
    {
     "name": "stdout",
     "output_type": "stream",
     "text": [
      "Uncertainty in number of Bi events in erange =  1.119 \n",
      "Uncertainty in number of Tl events in erange =  1.222 \n",
      "Uncertainty in number of Bi events in RoI    =  0.963 \n",
      "Uncertainty in number of Tl events in RoI    =  0.032 \n"
     ]
    }
   ],
   "source": [
    "effs_E     = np.array((collpars.eff_Bi_E  , collpars.eff_Tl_E))\n",
    "effs_RoI   = np.array((collpars.eff_Bi_RoI, collpars.eff_Tl_RoI))\n",
    "\n",
    "un_E   = un_total * effs_E\n",
    "un_RoI = un_total * effs_RoI\n",
    "\n",
    "for i, u in enumerate(un_E):\n",
    "    print('Uncertainty in number of {:s} events in erange = {:6.3f} '.format(sample_names[i], u))\n",
    "for i, u in enumerate(un_RoI):\n",
    "    print('Uncertainty in number of {:s} events in RoI    = {:6.3f} '.format(sample_names[i], u))"
   ]
  },
  {
   "cell_type": "markdown",
   "metadata": {},
   "source": [
    "## Write Out"
   ]
  },
  {
   "cell_type": "code",
   "execution_count": 14,
   "metadata": {},
   "outputs": [],
   "source": [
    "write = True\n",
    "\n",
    "if (write):\n",
    "    of = open('collpars.py', 'a')\n",
    "    for i, sample in enumerate(sample_names):\n",
    "        of.write('un_'+sample+'           = {:6.3f}'.format(un_total[i])+'\\n')\n",
    "        of.write('un_'+sample+'_blind     = {:6.3f}'.format(un_blind[i])+'\\n')\n",
    "        of.write('un_'+sample+'_E         = {:6.3f}'.format(un_E[i])  +'\\n')\n",
    "        of.write('un_'+sample+'_RoI       = {:6.3f}'.format(un_RoI[i])  +'\\n')\n",
    "    of.close()"
   ]
  }
 ],
 "metadata": {
  "kernelspec": {
   "display_name": "Python 3 (ipykernel)",
   "language": "python",
   "name": "python3"
  },
  "language_info": {
   "codemirror_mode": {
    "name": "ipython",
    "version": 3
   },
   "file_extension": ".py",
   "mimetype": "text/x-python",
   "name": "python",
   "nbconvert_exporter": "python",
   "pygments_lexer": "ipython3",
   "version": "3.9.13"
  },
  "vscode": {
   "interpreter": {
    "hash": "43bf40b08b0c659beee69adf0e375d89f2700363cec8d5fb661c131f1f6d870f"
   }
  }
 },
 "nbformat": 4,
 "nbformat_minor": 2
}
