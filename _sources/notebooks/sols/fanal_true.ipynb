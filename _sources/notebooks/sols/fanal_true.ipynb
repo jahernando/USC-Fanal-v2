{
 "cells": [
  {
   "attachments": {},
   "cell_type": "markdown",
   "metadata": {},
   "source": [
    "# True number of events"
   ]
  },
  {
   "cell_type": "code",
   "execution_count": 11,
   "metadata": {},
   "outputs": [
    {
     "name": "stdout",
     "output_type": "stream",
     "text": [
      "The autoreload extension is already loaded. To reload it, use:\n",
      "  %reload_ext autoreload\n"
     ]
    }
   ],
   "source": [
    "%matplotlib inline\n",
    "\n",
    "%load_ext autoreload\n",
    "%autoreload 2"
   ]
  },
  {
   "cell_type": "markdown",
   "metadata": {},
   "source": [
    "#### Importing modules"
   ]
  },
  {
   "cell_type": "code",
   "execution_count": 12,
   "metadata": {},
   "outputs": [],
   "source": [
    "import numpy  as np\n",
    "import tables as tb\n",
    "import pandas as pd\n",
    "import matplotlib.pyplot as plt\n",
    "\n",
    "import scipy.constants as constants\n",
    "import scipy.stats     as stats\n",
    "import scipy.optimize  as optimize\n",
    "\n",
    "import warnings\n",
    "warnings.filterwarnings('ignore')"
   ]
  },
  {
   "cell_type": "code",
   "execution_count": 13,
   "metadata": {},
   "outputs": [
    {
     "name": "stdout",
     "output_type": "stream",
     "text": [
      "add path to PYTHONPATH :  /Users/hernando/work/docencia/master/Fisica_Particulas/USC-Fanal-v2\n"
     ]
    }
   ],
   "source": [
    "# REMEMBER TO ADD Your Fanal FOLDER TO PYTHONPATH\n",
    "import os\n",
    "import sys\n",
    "rootpath = os.getcwd()[:-15]\n",
    "print('add path to PYTHONPATH : ', rootpath)\n",
    "sys.path.insert(0, os.path.abspath(rootpath))"
   ]
  },
  {
   "cell_type": "code",
   "execution_count": 14,
   "metadata": {},
   "outputs": [],
   "source": [
    "import core.pltext as pltext\n",
    "#import hipy.efit   as efit\n",
    "import core.utils  as ut\n",
    "\n",
    "import ana.fanal  as fn\n",
    "\n",
    "pltext.style()"
   ]
  },
  {
   "cell_type": "markdown",
   "metadata": {},
   "source": [
    "## Indications\n",
    "\n",
    "\n",
    "### Indications\n",
    "\n",
    "   * Read the MC-true info of the data and check the number of events in each sample\n"
   ]
  },
  {
   "cell_type": "markdown",
   "metadata": {},
   "source": [
    "## True x-check"
   ]
  },
  {
   "cell_type": "code",
   "execution_count": 15,
   "metadata": {},
   "outputs": [],
   "source": [
    "#dirpath = '/Users/hernando/docencia/master/Fisica_Particulas/USC-Fanal/data/'"
   ]
  },
  {
   "cell_type": "code",
   "execution_count": 16,
   "metadata": {},
   "outputs": [
    {
     "name": "stdout",
     "output_type": "stream",
     "text": [
      "Collaboration             : new_beta\n",
      "number of tracks range    :      1\n",
      "Blob-2 energy range       :  0.400  MeV\n",
      "Energy range              : ( 2.400,  2.700) MeV\n",
      "Energy RoI range          : ( 2.430,  2.480) MeV\n"
     ]
    }
   ],
   "source": [
    "import notebooks.guide.collpars as collpars # collaboration specific parameters\n",
    "\n",
    "coll          = collpars.collaboration\n",
    "sel_ntracks   = collpars.sel_ntracks\n",
    "sel_eblob2    = collpars.sel_eblob2\n",
    "sel_erange    = collpars.sel_erange\n",
    "sel_eroi      = collpars.sel_eroi\n",
    "\n",
    "print('Collaboration             : {:s}'.format(coll))\n",
    "print('number of tracks range    : {:6d}'.format(sel_ntracks))\n",
    "print('Blob-2 energy range       : {:6.3f}  MeV'.format(sel_eblob2))\n",
    "print('Energy range              : ({:6.3f}, {:6.3f}) MeV'.format(*sel_erange))\n",
    "print('Energy RoI range          : ({:6.3f}, {:6.3f}) MeV'.format(*sel_eroi))"
   ]
  },
  {
   "cell_type": "code",
   "execution_count": 18,
   "metadata": {},
   "outputs": [
    {
     "name": "stdout",
     "output_type": "stream",
     "text": [
      "Data :  /Users/hernando/work/docencia/master/Fisica_Particulas/USC-Fanal-v2/data/fanal_new_beta.h5\n"
     ]
    }
   ],
   "source": [
    "filename = \"/data/fanal_\"+coll+\".h5\"\n",
    "print('Data : ', rootpath + filename)\n",
    "\n",
    "mdata = pd.read_hdf(rootpath + filename, key = 'mc/dummy')\n"
   ]
  },
  {
   "cell_type": "code",
   "execution_count": 21,
   "metadata": {},
   "outputs": [
    {
     "name": "stdout",
     "output_type": "stream",
     "text": [
      "Total    True events        :  [('bb', 26), ('Bi', 1344), ('Tl', 20693)]\n",
      "Selected True events in E   :  [('bb', 14), ('Bi', 24), ('Tl', 133)]\n",
      "Selected True events in Roi :  [('bb', 14), ('Bi', 21), ('Tl', 1)]\n"
     ]
    },
    {
     "data": {
      "image/png": "[encoded data removed]",
      "text/plain": [
       "<Figure size 432x288 with 1 Axes>"
      ]
     },
     "metadata": {
      "needs_background": "light"
     },
     "output_type": "display_data"
    }
   ],
   "source": [
    "\n",
    "mask1 = (mdata.E >= sel_erange[0]) & (mdata.E < sel_erange[1])\n",
    "mask2 = mask1 & (mdata.num_tracks <= sel_ntracks)\n",
    "mask3 = mask2 & (mdata.blob2_E >= sel_eblob2)\n",
    "mask4 = mask3 & (mdata.E >= sel_eroi[0]) & (mdata.E < sel_eroi[1])\n",
    "\n",
    "pltext.hist(mdata.mc[mask4], 3);\n",
    "\n",
    "sample_names = (\"bb\", \"Bi\", \"Tl\")\n",
    "print('Total    True events        : ', [(sample_names[i], np.sum(mdata.mc == i)) for i in range(3)])\n",
    "print('Selected True events in E   : ', [(sample_names[i], np.sum(mdata[mask3].mc == i)) for i in range(3)])\n",
    "print('Selected True events in Roi : ', [(sample_names[i], np.sum(mdata[mask4].mc == i)) for i in range(3)])\n",
    "\n",
    "\n"
   ]
  },
  {
   "cell_type": "code",
   "execution_count": null,
   "metadata": {},
   "outputs": [],
   "source": []
  }
 ],
 "metadata": {
  "kernelspec": {
   "display_name": "Python 3",
   "language": "python",
   "name": "python3"
  },
  "language_info": {
   "codemirror_mode": {
    "name": "ipython",
    "version": 3
   },
   "file_extension": ".py",
   "mimetype": "text/x-python",
   "name": "python",
   "nbconvert_exporter": "python",
   "pygments_lexer": "ipython3",
   "version": "3.7.11"
  },
  "vscode": {
   "interpreter": {
    "hash": "43bf40b08b0c659beee69adf0e375d89f2700363cec8d5fb661c131f1f6d870f"
   }
  }
 },
 "nbformat": 4,
 "nbformat_minor": 2
}
