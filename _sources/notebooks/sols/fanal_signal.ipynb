{
 "cells": [
  {
   "attachments": {},
   "cell_type": "markdown",
   "metadata": {},
   "source": [
    "# Estimate the number of signal events"
   ]
  },
  {
   "attachments": {},
   "cell_type": "markdown",
   "metadata": {},
   "source": [
    "## Objective\n",
    "\n",
    "* **Estimate the number of signal events** using the extended maximum likelihood fit and **simulated experiments**.\n",
    "\n",
    "* **Estimate the p-value of the null hypothesis** (there is no signal)"
   ]
  },
  {
   "attachments": {},
   "cell_type": "markdown",
   "metadata": {},
   "source": [
    "## Physics\n",
    "\n",
    "We are going to estimate the number of signal events using an extended maximum likelihood fit. \n",
    "\n",
    "Similar to how we computed the number of bkg events in a blind sample, we fit the energy distribution in the energy enlarged window to the energy template distributions of the signal and the backgrounds whose pdfs, $g_k(E), \\;\\; k = \\mathrm{Bi}, \\mathrm{Tl}, \\beta\\beta0\\nu$, we obtain from simulated data.\n",
    "\n",
    "We test the fitting method generating an experiment with a number of background events compatible with our estimations based on the blind data and a guess number of signal events.\n",
    "\n",
    "We can vary the number of signal events to test the performance of the fit.\n",
    "\n",
    "Finally, we test the p-value of the null hypothesis, for a given simulated experiment."
   ]
  },
  {
   "cell_type": "markdown",
   "metadata": {},
   "source": [
    "## Analysis"
   ]
  },
  {
   "cell_type": "markdown",
   "metadata": {},
   "source": [
    "#### Importing modules"
   ]
  },
  {
   "cell_type": "code",
   "execution_count": 1,
   "metadata": {},
   "outputs": [],
   "source": [
    "%matplotlib inline\n",
    "%load_ext autoreload\n",
    "%autoreload 2"
   ]
  },
  {
   "cell_type": "code",
   "execution_count": 2,
   "metadata": {},
   "outputs": [],
   "source": [
    "import numpy  as np\n",
    "import tables as tb\n",
    "import pandas as pd\n",
    "import matplotlib.pyplot as plt\n",
    "\n",
    "import scipy.constants as constants\n",
    "import scipy.stats     as stats\n",
    "import scipy.optimize  as optimize\n",
    "\n",
    "import warnings\n",
    "warnings.filterwarnings('ignore')"
   ]
  },
  {
   "cell_type": "code",
   "execution_count": 3,
   "metadata": {},
   "outputs": [
    {
     "name": "stdout",
     "output_type": "stream",
     "text": [
      "add path to PYTHONPATH :  /Users/hernando/work/docencia/master/Fisica_Particulas/USC-Fanal-v2/\n"
     ]
    }
   ],
   "source": [
    "# REMEMBER TO ADD Your Fanal FOLDER TO PYTHONPATH\n",
    "import os\n",
    "import sys\n",
    "rootpath = os.getcwd()[:-15]\n",
    "print('add path to PYTHONPATH : ', rootpath)\n",
    "sys.path.insert(0, os.path.abspath(rootpath))"
   ]
  },
  {
   "cell_type": "code",
   "execution_count": 4,
   "metadata": {},
   "outputs": [],
   "source": [
    "import core.pltext  as pltext   # extensions for plotting histograms\n",
    "import core.hfit    as hfit     # extension to fit histograms\n",
    "import core.efit    as efit     # Fit Utilites - Includes Extend Likelihood Fit with composite PDFs\n",
    "import core.utils   as ut       # generic utilities\n",
    "import ana.fanal    as fn       # analysis functions specific to fanal\n",
    "import ana.pltfanal as pltfn    # plotting for fanal\n",
    "import     collpars as collpars # collaboration specific parameters\n",
    "pltext.style()"
   ]
  },
  {
   "cell_type": "markdown",
   "metadata": {},
   "source": [
    "### Main parameters"
   ]
  },
  {
   "cell_type": "code",
   "execution_count": 5,
   "metadata": {},
   "outputs": [
    {
     "name": "stdout",
     "output_type": "stream",
     "text": [
      "Collaboration             : new_beta\n",
      "number of tracks range    :      1\n",
      "Blob-2 energy range       :  0.400  MeV\n",
      "Energy range              : ( 2.400,  2.700) MeV\n",
      "Energy RoI range          : ( 2.430,  2.480) MeV\n"
     ]
    }
   ],
   "source": [
    "coll          = collpars.collaboration\n",
    "sel_ntracks   = collpars.sel_ntracks\n",
    "sel_eblob2    = collpars.sel_eblob2\n",
    "sel_erange    = collpars.sel_erange\n",
    "sel_eroi      = collpars.sel_eroi\n",
    "\n",
    "print('Collaboration             : {:s}'.format(coll))\n",
    "print('number of tracks range    : {:6d}'.format(sel_ntracks))\n",
    "print('Blob-2 energy range       : {:6.3f}  MeV'.format(sel_eblob2))\n",
    "print('Energy range              : ({:6.3f}, {:6.3f}) MeV'.format(*sel_erange))\n",
    "print('Energy RoI range          : ({:6.3f}, {:6.3f}) MeV'.format(*sel_eroi))"
   ]
  },
  {
   "cell_type": "code",
   "execution_count": 6,
   "metadata": {},
   "outputs": [
    {
     "name": "stdout",
     "output_type": "stream",
     "text": [
      "ana varnames  :  ['num_tracks', 'blob2_E', 'E']\n",
      "ana varranges :  [(1, 1.1), (0.4, 2.7), (2.4, 2.7)]\n",
      "ref varnames  :  ['num_tracks', 'E']\n",
      "ref varranges :  [(1, 1.1), (2.4, 2.7)]\n"
     ]
    }
   ],
   "source": [
    "# list of the analisys selection variables names and ranges\n",
    "ntracks_range = (sel_ntracks, sel_ntracks + 0.1)\n",
    "eblob2_range  = (sel_eblob2, sel_erange[1]) # MeV\n",
    "\n",
    "varnames  = ['num_tracks', 'blob2_E', 'E']\n",
    "varranges = [ntracks_range, eblob2_range, sel_erange]\n",
    "print('ana varnames  : ', varnames)\n",
    "print('ana varranges : ', varranges)\n",
    "\n",
    "# list of the reference selction variable names and rages to get pdfs for the MC\n",
    "refnames  = ['num_tracks', 'E']\n",
    "refranges = [ntracks_range, sel_erange]\n",
    "print('ref varnames  : ', refnames)\n",
    "print('ref varranges : ', refranges)\n"
   ]
  },
  {
   "cell_type": "code",
   "execution_count": 7,
   "metadata": {},
   "outputs": [
    {
     "name": "stdout",
     "output_type": "stream",
     "text": [
      "Number of bkg events in full data : Bi = 1404.20, Tl = 20659.77.\n"
     ]
    }
   ],
   "source": [
    "# number of  blind events\n",
    "n_Bi_total = collpars.n_Bi_total\n",
    "n_Tl_total = collpars.n_Tl_total\n",
    "\n",
    "eff_Bi_E   = collpars.eff_Bi_E\n",
    "eff_Tl_E   = collpars.eff_Tl_E\n",
    "eff_bb_E   = collpars.eff_bb_E\n",
    "print('Number of bkg events in full data : Bi = {:6.2f}, Tl = {:6.2f}.'.format(n_Bi_total, n_Tl_total))"
   ]
  },
  {
   "cell_type": "markdown",
   "metadata": {},
   "source": [
    "### the data"
   ]
  },
  {
   "cell_type": "code",
   "execution_count": 8,
   "metadata": {},
   "outputs": [
    {
     "name": "stdout",
     "output_type": "stream",
     "text": [
      "Data path and filename :  /Users/hernando/work/docencia/master/Fisica_Particulas/USC-Fanal-v2//data/fanal_new_beta.h5\n",
      "MC Sample Bi, number of simulated events = 60184\n",
      "MC Sample Tl, number of simulated events = 687297\n",
      "MC Sample bb, number of simulated events = 47636\n"
     ]
    }
   ],
   "source": [
    "# set the path to the data directory and filenames\n",
    "dirpath = rootpath+'/data/'\n",
    "filename = 'fanal_' + coll + '.h5'\n",
    "print('Data path and filename : ', dirpath + filename)\n",
    "\n",
    "# access the simulated data (DataFrames) for the different samples (Bi, Tl, bb) located in the data file\n",
    "mcbi = pd.read_hdf(dirpath + filename, key = 'mc/bi214')\n",
    "mctl = pd.read_hdf(dirpath + filename, key = 'mc/tl208')\n",
    "mcbb = pd.read_hdf(dirpath + filename, key = 'mc/bb0nu')\n",
    "\n",
    "# set the names of the samples\n",
    "# set the names of the samples\n",
    "mc_samples         = [mcbi, mctl, mcbb] # list of the mc DFs\n",
    "sample_names       = ['Bi', 'Tl', 'bb']\n",
    "sample_names_latex = [ r'$^{214}$Bi', r'$^{208}$Tl', r'$\\beta\\beta0\\nu$',] # str names of the mc samples\n",
    "\n",
    "for i, mc in enumerate(mc_samples):\n",
    "    print('MC Sample {:s}, number of simulated events = {:d}'.format(sample_names[i], len(mc)))"
   ]
  },
  {
   "attachments": {},
   "cell_type": "markdown",
   "metadata": {},
   "source": [
    "## Check the method to extract $n^{\\beta\\beta}_E$\n",
    "\n",
    "  * We generate a MC experiments with number of events compatible with the estimated number of bkg events and an hipothetical number of signal events.\n",
    "  \n",
    "  * We fit the energy distribution of the selected events to the samples pdfs: Bi, Tl, bb\n",
    "  \n",
    "  * We do a profile scan to estimate the confidence interval \n",
    "  \n",
    "  * We computeh the p0-value using the ration of the likelihood of the best estimation and the case where we estimate only the bkg events forcing the signal to be null."
   ]
  },
  {
   "cell_type": "markdown",
   "metadata": {},
   "source": [
    "**Exercise**\n",
    "\n",
    "  * Generate other experiments with different number of signal events to study the performance of the fit"
   ]
  },
  {
   "cell_type": "code",
   "execution_count": 9,
   "metadata": {},
   "outputs": [],
   "source": [
    "def nevts_total(factor = 1.):\n",
    "    \"\"\" returns the total number of events (Bi, Tl, bb), \n",
    "    The expected number of bb events in the RoI is a **factor = 1.** of the number of the expected Bi events in RoI\n",
    "    \"\"\"\n",
    "    n_Bi_RoI    = collpars.n_Bi_RoI\n",
    "    eff_bb_RoI  = collpars.eff_bb_RoI\n",
    "    n_Bi_total  = collpars.n_Bi_total\n",
    "    n_Tl_total  = collpars.n_Tl_total\n",
    "    n_bb_total  = factor * n_Bi_RoI/eff_bb_RoI\n",
    "    nevts       = (n_Bi_total, n_Tl_total, n_bb_total)\n",
    "    return np.array(nevts)\n",
    "\n",
    "def nevts_in_E(n_total):\n",
    "    \"\"\" returns the number of expected events in the enlarged energy windows: (Bi, Tl, bb) \n",
    "    given a total number of events (Bi, Tl, bb)\n",
    "    \"\"\"\n",
    "    eff_Bi_E      = collpars.eff_Bi_E\n",
    "    eff_Tl_E      = collpars.eff_Tl_E\n",
    "    eff_bb_E      = collpars.eff_bb_E\n",
    "    nBi, nTl, nbb = n_total\n",
    "    nevts         = (nBi * eff_Bi_E, nTl * eff_Tl_E, nbb * eff_bb_E)\n",
    "    return np.array(nevts)"
   ]
  },
  {
   "cell_type": "markdown",
   "metadata": {},
   "source": [
    "#### Simulate & Fit the data of an experiment\n",
    "\n",
    "The simulated experiment expect the same number of bkg events that our experiment and a certain number of signal events"
   ]
  },
  {
   "cell_type": "code",
   "execution_count": 10,
   "metadata": {},
   "outputs": [
    {
     "data": {
      "image/png": "[encoded data removed]",
      "text/plain": [
       "<Figure size 720x576 with 2 Axes>"
      ]
     },
     "metadata": {
      "needs_background": "light"
     },
     "output_type": "display_data"
    }
   ],
   "source": [
    "# set the number of events\n",
    "factor      = 1.\n",
    "n_total     = nevts_total(factor)\n",
    "n_E         = nevts_in_E(n_total)\n",
    "\n",
    "# define the fit\n",
    "fit         = fn.prepare_fit_ell(mc_samples, n_total, varnames, varranges, refnames, refranges)\n",
    "\n",
    "# generate an experiment using the mc samples and a given number of events of each sample\n",
    "mcdata      = fn.generate_mc_experiment(mc_samples, n_total)\n",
    "\n",
    "result, values, \\\n",
    "ell, n_est  = fit(mcdata)\n",
    "n_est = result.x if result.success else n_E\n",
    "\n",
    "pltfn.plot_fit_ell(values, n_est, ell, parnames = sample_names_latex)"
   ]
  },
  {
   "cell_type": "code",
   "execution_count": 11,
   "metadata": {},
   "outputs": [
    {
     "name": "stdout",
     "output_type": "stream",
     "text": [
      "Number of Bi total events = 1404.203\n",
      "Number of Tl total events = 20659.771\n",
      "Number of bb total events = 41.936\n",
      "Number of Bi expected events in E window = 25.276\n",
      "Number of Tl expected events in E window = 150.816\n",
      "Number of bb expected events in E window = 21.765\n",
      "Number of Bi estimated events in E window = 22.950\n",
      "Number of Tl estimated events in E window = 167.889\n",
      "Number of bb estimated events in E window = 19.160\n"
     ]
    }
   ],
   "source": [
    "for i, ni in enumerate(n_total):\n",
    "    print('Number of {:s} total events = {:6.3f}'.format(sample_names[i], ni))\n",
    "\n",
    "for i, ni in enumerate(n_E):\n",
    "    print('Number of {:s} expected events in E window = {:6.3f}'.format(sample_names[i], ni))\n",
    "\n",
    "for i, ni in enumerate(n_est):\n",
    "    print('Number of {:s} estimated events in E window = {:6.3f}'.format(sample_names[i], ni))"
   ]
  },
  {
   "cell_type": "markdown",
   "metadata": {},
   "source": [
    "## Parameter uncertanties estimation\n",
    "\n",
    "\n",
    "We perform a likelihood scan to estimate the parameter uncerstainties\n",
    "\n",
    "We estimate the 60% C.L intervals"
   ]
  },
  {
   "cell_type": "code",
   "execution_count": 12,
   "metadata": {},
   "outputs": [
    {
     "data": {
      "image/png": "[encoded data removed]",
      "text/plain": [
       "<Figure size 1296x360 with 3 Axes>"
      ]
     },
     "metadata": {
      "needs_background": "light"
     },
     "output_type": "display_data"
    }
   ],
   "source": [
    "nis, tmus = fn.tmu_scan(values, n_est, ell, sizes = (2., 2., 2.))\n",
    "pltfn.plot_tmu_scan(nis, tmus, titles = sample_names_latex)"
   ]
  },
  {
   "cell_type": "code",
   "execution_count": 13,
   "metadata": {},
   "outputs": [
    {
     "name": "stdout",
     "output_type": "stream",
     "text": [
      "Number of Bi events CI at   68 % CL = (17.28, 29.40)\n",
      "Number of Tl events CI at   68 % CL = (155.73, 181.11)\n",
      "Number of bb events CI at   68 % CL = (13.98, 25.06)\n"
     ]
    }
   ],
   "source": [
    "cl    = 0.68\n",
    "mucis = [efit.tmu_conf_int(ni, tmu, cl) for ni, tmu in zip(nis, tmus)]\n",
    "for i, ci in enumerate(mucis):\n",
    "    print('Number of {:s} events CI at {:4.0f} % CL = ({:5.2f}, {:5.2f})'.format(sample_names[i], 100*cl, *ci))"
   ]
  },
  {
   "cell_type": "code",
   "execution_count": 14,
   "metadata": {},
   "outputs": [
    {
     "name": "stdout",
     "output_type": "stream",
     "text": [
      "Number of Bi events CI at   68 % CL = 22.95  -5.67 + 6.45\n",
      "Number of Tl events CI at   68 % CL = 167.89  -12.16 +13.22\n",
      "Number of bb events CI at   68 % CL = 19.16  -5.18 + 5.90\n"
     ]
    }
   ],
   "source": [
    "for i, ci in enumerate(mucis):\n",
    "    print('Number of {:s} events CI at {:4.0f} % CL = {:5.2f}  {:5.2f} +{:5.2f}'.format(sample_names[i], 100*cl, \n",
    "                                                                                        result.x[i],\n",
    "                                                                                        *(ci - result.x[i])))"
   ]
  },
  {
   "cell_type": "markdown",
   "metadata": {},
   "source": [
    "### Compute the p-value in the case of no-signal\n",
    "\n",
    "We compute the p-value of the null hypothesis (that there is no signal)"
   ]
  },
  {
   "cell_type": "code",
   "execution_count": 15,
   "metadata": {},
   "outputs": [
    {
     "name": "stdout",
     "output_type": "stream",
     "text": [
      "null hypothesis p-value 2.32e-07, 5.04 sigmas\n"
     ]
    }
   ],
   "source": [
    "# test the 0 value in the 2-position of the parameters (that is the number of bb events)\n",
    "q0 = efit.tmu(values, ell, result.x, 0, ipos = 2)\n",
    "z0 = np.sqrt(q0)\n",
    "p0 = 1 - stats.norm.cdf(z0)\n",
    "#p0 = stats.chi2.sf(q0, 1)/2.\n",
    "print('null hypothesis p-value {:1.2e}, {:4.2f} sigmas'.format(p0, z0))"
   ]
  },
  {
   "cell_type": "markdown",
   "metadata": {},
   "source": [
    "### Estimate the half-time of the simulated experiment\n",
    "\n",
    "We estimate the value of the half-time, $\\mathcal{T}_{1/2}^{\\beta\\beta0\\nu}$.\n",
    "\n",
    "We use as inputs:\n",
    "\n",
    " * the estimated number of signal events in the enlarged energy windows (from the fit)   \n",
    " * the total efficiency of selecting signal events\n",
    " * the exposure (kg y)"
   ]
  },
  {
   "cell_type": "markdown",
   "metadata": {},
   "source": [
    "\n",
    "\n",
    "The formula relating is:\n",
    "\n",
    "$$\n",
    "\\mathcal{T}_{1/2}^{\\beta\\beta2\\nu} = \\frac{\\delta \\, \\epsilon^{\\beta\\beta}_E \\, M \\, t }{n^{\\beta\\beta}_E} \\frac{N_A \\, \\log(2)}{W}\n",
    "$$\n",
    "\n",
    "Where:\n",
    "\n",
    "  * $\\delta$ abundance of the $^{136}\\mathrm{Xe}$ isotope (in our detector is 0.9)\n",
    "  * $\\epsilon^{\\beta\\beta}_E$ is the efficiency of selecting signal events in the E window (in fraction, computed using the mc)\n",
    "  * $M$ the mass of the detector (g)\n",
    "  * $t$ the time of the exposure (y)\n",
    "  * $N_A$ is the Avogadro number\n",
    "  * $W$ is the atomic mass in (g)"
   ]
  },
  {
   "cell_type": "code",
   "execution_count": 16,
   "metadata": {},
   "outputs": [
    {
     "name": "stdout",
     "output_type": "stream",
     "text": [
      "number of bb0nu events in E  : 19.160\n",
      "exposure                     : 1000.00 kg y\n",
      "total signal efficiency      :  0.410\n",
      "bb0nu half-life              : 5.92e+25 y \n",
      "bb0nu half-life 68% CL       : [4.52e+25, 8.11e+25] y \n"
     ]
    }
   ],
   "source": [
    "from collpars import exposure\n",
    "\n",
    "eff      = collpars.acc_bb * collpars.eff_bb_E # total signal selection efficiency in the E window\n",
    "n_bb_E   = n_est[-1] # estimated number of bb  in E\n",
    "tau      = fn.half_life(n_bb_E, exposure, eff) # tau_1/2\n",
    "\n",
    "print('number of bb0nu events in E  : {:6.3f}'.format(n_bb_E))\n",
    "print('exposure                     : {:6.2f} kg y'.format(exposure))\n",
    "print('total signal efficiency      : {:6.3f}'.format(eff))\n",
    "print('bb0nu half-life              : {:6.2e} y '.format(tau))\n",
    "\n",
    "n_bb_ci    = mucis[-1] # nbbs of the CL  \n",
    "utaus = [fn.half_life(n_bb_i, exposure, eff) for n_bb_i in n_bb_ci]\n",
    "utaus.reverse()\n",
    "print('bb0nu half-life {:d}% CL       : [{:6.2e}, {:6.2e}] y '.format(int(100*cl), *utaus))"
   ]
  }
 ],
 "metadata": {
  "kernelspec": {
   "display_name": "Python 3 (ipykernel)",
   "language": "python",
   "name": "python3"
  },
  "language_info": {
   "codemirror_mode": {
    "name": "ipython",
    "version": 3
   },
   "file_extension": ".py",
   "mimetype": "text/x-python",
   "name": "python",
   "nbconvert_exporter": "python",
   "pygments_lexer": "ipython3",
   "version": "3.7.11"
  },
  "vscode": {
   "interpreter": {
    "hash": "43bf40b08b0c659beee69adf0e375d89f2700363cec8d5fb661c131f1f6d870f"
   }
  }
 },
 "nbformat": 4,
 "nbformat_minor": 2
}
