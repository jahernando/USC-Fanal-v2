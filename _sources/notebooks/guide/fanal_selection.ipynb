{
 "cells": [
  {
   "cell_type": "markdown",
   "metadata": {},
   "source": [
    "# Signal Selection"
   ]
  },
  {
   "cell_type": "markdown",
   "metadata": {},
   "source": [
    "## Objectives:\n",
    "\n",
    "   * Define a selection (a set of cuts on a list of variables) on simulated data samples to select $\\beta\\beta0\\nu$ events and reject background, $^{214}\\mathrm{Bi}$, $^{208}\\mathrm{Tl}$, events."
   ]
  },
  {
   "cell_type": "markdown",
   "metadata": {},
   "source": [
    "## Physics\n",
    "\n",
    "Using simulated data (signal and backgrounds) we define a selection to enhance the signal content in our data.\n",
    "\n",
    "For every decay in the detector a collection of variables are provide, for example, the number of tracks in the event, or the energy of the event.\n",
    "\n",
    "We define a set of cuts on tohose variables to reduce the background and enhance the signal. \n",
    "\n",
    "We define an energy region of interest (RoI) where to perform a counting experiment."
   ]
  },
  {
   "cell_type": "markdown",
   "metadata": {},
   "source": [
    "### The detector\n",
    "\n",
    "The detector of our data is a variation of the NEXT experiment, where $\\beta\\beta0\\nu$ decays are detected in a Time Projection Chamber with chas:\n",
    "\n",
    "  1) excellent energy resolution $<1$ \\% FWHM\n",
    "\n",
    "  2) tracking capabilities ($\\beta\\beta0\\nu$) events are a unique track that is made of two electrons, of approximatelly 10 cm. The detector reconstruct the track in 3D, and is able to identify the extremes of the track. "
   ]
  },
  {
   "cell_type": "markdown",
   "metadata": {},
   "source": [
    "### The selection analysis\n",
    "\n",
    "The main background are electrons produced in the $^{214}\\mathrm{Bi}$ Photopeak or $^{216}\\mathrm{Tl}$, while the signal is only one track composed with two electrons $\\beta\\beta0\\nu$\n",
    "\n",
    "#### The main variables\n",
    "\n",
    "The data is presented in a *panda* *DataFrame*, each row contains the information of one events\n",
    "\n",
    "The relevant variables for an event are:\n",
    "\n",
    "        * num_tracks, the number of tracks or separeted depositions in the detector\n",
    "\n",
    "        * E, energy (MeV) of the event\n",
    "\n",
    "        * eblob2, energy (keV) on the extreme of the track with the lowest energy"
   ]
  },
  {
   "cell_type": "markdown",
   "metadata": {},
   "source": [
    "###### Other variables\n",
    "\n",
    "Other variables in the event are\n",
    "\n",
    "        * length, the length of the track (mm)\n",
    "\n",
    "        * num_voxels, the number of voxels (hits) of the event\n",
    "\n",
    "        * eblob1, energy (keV) on the extreme of the track with the largest energy  "
   ]
  },
  {
   "cell_type": "markdown",
   "metadata": {},
   "source": [
    "### The selection analysis\n",
    "\n",
    "The main background are electrons produced in the $^{214}\\mathrm{Bi}$ Photopeak or $^{216}\\mathrm{Tl}$, while the signal is only one track composed with two electrons $\\beta\\beta0\\nu$\n",
    "\n",
    "The typical selection requires the following cuts:\n",
    "\n",
    "\n",
    "#### Number of tracks\n",
    "\n",
    "Electrons radiate photons by bremsstrahlung that can produce other electrons. Each secondary electron can generate a track in the detector. In general, the signal has only one track while the backgrounds events produce more tracks. \n",
    "\n",
    "We select events with only one track:\n",
    "\n",
    "    * num_tracks == 1"
   ]
  },
  {
   "cell_type": "markdown",
   "metadata": {},
   "source": [
    "\n",
    "#### Energy range\n",
    "\n",
    "The relevant energy range is ( 2.400,  2.700) MeV, where the $^{216}\\mathrm{Bi}$, $\\beta\\beta0\\nu$ and $^{216}\\mathrm{Tl}$ peaks are\n",
    "\n",
    "We require an energy region for the events with one track:\n",
    "\n",
    "    * (E >= 2.400) & (E < 2.700)"
   ]
  },
  {
   "cell_type": "markdown",
   "metadata": {},
   "source": [
    "\n",
    "#### Energy of the 2nd blob\n",
    "\n",
    "An electron at the of if its track deposits more energy in a Bragg peak (or blob). In the case of the signal, both extremes of the treck are blobs, while for the background, which is made of single electrons, only on of the extremes is a real blob and the other, the start of the electron track, should have much less energy.\n",
    "\n",
    "We require an energy in the extreme with the lowest energy (or *second blob*) is above an energy threshold, 400 keV\n",
    "\n",
    "    * eblob2 > 400 "
   ]
  },
  {
   "cell_type": "markdown",
   "metadata": {},
   "source": [
    "#### Energy Region of Interest, RoI \n",
    "\n",
    "Finally we select a narrow energy windows where most of the signal events are. \n",
    "\n",
    "We requiere that the energy of the tracks in ( 2.430,  2.480) MeV (the values could change for your detector)\n",
    "\n",
    "    * (E >= 2.430) & ( E < 2.480)"
   ]
  },
  {
   "cell_type": "markdown",
   "metadata": {},
   "source": []
  },
  {
   "cell_type": "markdown",
   "metadata": {},
   "source": [
    "## Selection"
   ]
  },
  {
   "cell_type": "code",
   "execution_count": 1,
   "metadata": {},
   "outputs": [],
   "source": [
    "%matplotlib inline\n",
    "%load_ext autoreload\n",
    "%autoreload 2"
   ]
  },
  {
   "cell_type": "markdown",
   "metadata": {},
   "source": [
    "#### Importing modules"
   ]
  },
  {
   "cell_type": "code",
   "execution_count": 2,
   "metadata": {},
   "outputs": [],
   "source": [
    "import numpy  as np\n",
    "import tables as tb\n",
    "import pandas as pd\n",
    "import matplotlib.pyplot as plt\n",
    "\n",
    "import scipy.constants as constants\n",
    "\n",
    "import warnings\n",
    "warnings.filterwarnings('ignore')"
   ]
  },
  {
   "cell_type": "code",
   "execution_count": 3,
   "metadata": {},
   "outputs": [
    {
     "name": "stdout",
     "output_type": "stream",
     "text": [
      "add path to PYTHONPATH :  /Users/hernando/work/docencia/master/Fisica_Particulas/USC-Fanal-v2/\n"
     ]
    }
   ],
   "source": [
    "# REMEMBER TO ADD Your Fanal FOLDER TO PYTHONPATH\n",
    "import os\n",
    "import sys\n",
    "rootpath = os.getcwd()[:-15]\n",
    "print('add path to PYTHONPATH : ', rootpath)\n",
    "sys.path.insert(0, os.path.abspath(rootpath))"
   ]
  },
  {
   "cell_type": "code",
   "execution_count": 4,
   "metadata": {},
   "outputs": [],
   "source": [
    "import core.pltext  as pltext   # extensions for plotting histograms\n",
    "import core.hfit    as hfit     # extension to fit histograms\n",
    "import core.utils   as ut       # generic utilities\n",
    "import ana.fanal    as fn       # analysis functions specific to fanal\n",
    "pltext.style()"
   ]
  },
  {
   "cell_type": "markdown",
   "metadata": {},
   "source": [
    "### Main parameters"
   ]
  },
  {
   "cell_type": "markdown",
   "metadata": {},
   "source": [
    "In the next cell we define the main parameters of the selection"
   ]
  },
  {
   "cell_type": "code",
   "execution_count": 5,
   "metadata": {},
   "outputs": [
    {
     "name": "stdout",
     "output_type": "stream",
     "text": [
      "Collaboration             : new_beta\n",
      "number of tracks range    :      1\n",
      "Blob-2 energy range       :  0.400  MeV\n",
      "Energy range              : ( 2.400,  2.700) MeV\n",
      "Energy RoI range          : ( 2.430,  2.480) MeV\n"
     ]
    }
   ],
   "source": [
    "coll          = 'new_beta'\n",
    "sel_ntracks  = 1\n",
    "sel_eblob2   = 0.400 # MeV\n",
    "sel_erange   = ( 2.400,  2.700) # MeV\n",
    "sel_eroi     = ( 2.430,  2.480) # MeV\n",
    "\n",
    "print('Collaboration             : {:s}'.format(coll))\n",
    "print('number of tracks range    : {:6d}'.format(sel_ntracks))\n",
    "print('Blob-2 energy range       : {:6.3f}  MeV'.format(sel_eblob2))\n",
    "print('Energy range              : ({:6.3f}, {:6.3f}) MeV'.format(*sel_erange))\n",
    "print('Energy RoI range          : ({:6.3f}, {:6.3f}) MeV'.format(*sel_eroi))"
   ]
  },
  {
   "cell_type": "markdown",
   "metadata": {},
   "source": [
    "## Access the data"
   ]
  },
  {
   "cell_type": "markdown",
   "metadata": {},
   "source": [
    "In the next cell we read the data (in a *h5* format), and access the simulated data of the backgrounds and the signal. \n",
    "\n",
    "We output the number of events in the simulated samples"
   ]
  },
  {
   "cell_type": "code",
   "execution_count": 6,
   "metadata": {},
   "outputs": [
    {
     "name": "stdout",
     "output_type": "stream",
     "text": [
      "Data path and filename :  /Users/hernando/work/docencia/master/Fisica_Particulas/USC-Fanal-v2//data/fanal_new_beta.h5\n",
      "MC Sample Bi, number of simulated events = 60184\n",
      "MC Sample Tl, number of simulated events = 687297\n",
      "MC Sample bb, number of simulated events = 47636\n"
     ]
    }
   ],
   "source": [
    "# set the path to the data directory and filenames\n",
    "dirpath = rootpath+'/data/'\n",
    "filename = 'fanal_' + coll + '.h5'\n",
    "print('Data path and filename : ', dirpath + filename)\n",
    "\n",
    "# access the simulated data (DataFrames) for the different samples (Bi, Tl, bb) located in the data file\n",
    "mcbi = pd.read_hdf(dirpath + filename, key = 'mc/bi214')\n",
    "mctl = pd.read_hdf(dirpath + filename, key = 'mc/tl208')\n",
    "mcbb = pd.read_hdf(dirpath + filename, key = 'mc/bb0nu')\n",
    "\n",
    "# set the names of the samples\n",
    "mc_samples         = [mcbi, mctl, mcbb] # list of the mc DFs\n",
    "sample_names       = ['Bi', 'Tl', 'bb']\n",
    "sample_names_latex = [ r'$^{214}$Bi', r'$^{208}$Tl', r'$\\beta\\beta0\\nu$',] # str names of the mc samples\n",
    "\n",
    "for i, mc in enumerate(mc_samples):\n",
    "    print('MC Sample {:s}, number of simulated events = {:d}'.format(sample_names[i], len(mc)))"
   ]
  },
  {
   "cell_type": "markdown",
   "metadata": {},
   "source": [
    "## inspect the variables\n",
    "\n"
   ]
  },
  {
   "cell_type": "markdown",
   "metadata": {},
   "source": [
    "The next cell shows the some events of the simulated $\\beta\\beta0\\nu$ data"
   ]
  },
  {
   "cell_type": "code",
   "execution_count": 7,
   "metadata": {},
   "outputs": [
    {
     "data": {
      "text/html": [
       "<div>\n",
       "<style scoped>\n",
       "    .dataframe tbody tr th:only-of-type {\n",
       "        vertical-align: middle;\n",
       "    }\n",
       "\n",
       "    .dataframe tbody tr th {\n",
       "        vertical-align: top;\n",
       "    }\n",
       "\n",
       "    .dataframe thead th {\n",
       "        text-align: right;\n",
       "    }\n",
       "</style>\n",
       "<table border=\"1\" class=\"dataframe\">\n",
       "  <thead>\n",
       "    <tr style=\"text-align: right;\">\n",
       "      <th></th>\n",
       "      <th>mcE</th>\n",
       "      <th>E</th>\n",
       "      <th>num_tracks</th>\n",
       "      <th>num_voxels</th>\n",
       "      <th>track0_E</th>\n",
       "      <th>track0_voxels</th>\n",
       "      <th>track0_length</th>\n",
       "      <th>blob1_E</th>\n",
       "      <th>blob2_E</th>\n",
       "      <th>track1_E</th>\n",
       "      <th>track1_voxels</th>\n",
       "      <th>track1_length</th>\n",
       "    </tr>\n",
       "  </thead>\n",
       "  <tbody>\n",
       "    <tr>\n",
       "      <th>0</th>\n",
       "      <td>2.457830</td>\n",
       "      <td>2.471280</td>\n",
       "      <td>1.0</td>\n",
       "      <td>17</td>\n",
       "      <td>2.471280</td>\n",
       "      <td>17.0</td>\n",
       "      <td>32.944061</td>\n",
       "      <td>NaN</td>\n",
       "      <td>NaN</td>\n",
       "      <td>NaN</td>\n",
       "      <td>NaN</td>\n",
       "      <td>NaN</td>\n",
       "    </tr>\n",
       "    <tr>\n",
       "      <th>1</th>\n",
       "      <td>1.627345</td>\n",
       "      <td>1.629487</td>\n",
       "      <td>1.0</td>\n",
       "      <td>13</td>\n",
       "      <td>1.629487</td>\n",
       "      <td>13.0</td>\n",
       "      <td>37.781500</td>\n",
       "      <td>0.841852</td>\n",
       "      <td>0.695263</td>\n",
       "      <td>NaN</td>\n",
       "      <td>NaN</td>\n",
       "      <td>NaN</td>\n",
       "    </tr>\n",
       "    <tr>\n",
       "      <th>2</th>\n",
       "      <td>2.457830</td>\n",
       "      <td>2.462075</td>\n",
       "      <td>1.0</td>\n",
       "      <td>14</td>\n",
       "      <td>2.462075</td>\n",
       "      <td>14.0</td>\n",
       "      <td>59.881962</td>\n",
       "      <td>0.961564</td>\n",
       "      <td>0.803745</td>\n",
       "      <td>NaN</td>\n",
       "      <td>NaN</td>\n",
       "      <td>NaN</td>\n",
       "    </tr>\n",
       "    <tr>\n",
       "      <th>3</th>\n",
       "      <td>2.457830</td>\n",
       "      <td>2.460759</td>\n",
       "      <td>1.0</td>\n",
       "      <td>21</td>\n",
       "      <td>2.460759</td>\n",
       "      <td>21.0</td>\n",
       "      <td>96.354208</td>\n",
       "      <td>1.005637</td>\n",
       "      <td>0.890549</td>\n",
       "      <td>NaN</td>\n",
       "      <td>NaN</td>\n",
       "      <td>NaN</td>\n",
       "    </tr>\n",
       "    <tr>\n",
       "      <th>4</th>\n",
       "      <td>2.457830</td>\n",
       "      <td>2.457934</td>\n",
       "      <td>2.0</td>\n",
       "      <td>20</td>\n",
       "      <td>2.428695</td>\n",
       "      <td>19.0</td>\n",
       "      <td>77.856795</td>\n",
       "      <td>NaN</td>\n",
       "      <td>NaN</td>\n",
       "      <td>0.029239</td>\n",
       "      <td>1.0</td>\n",
       "      <td>0.000000</td>\n",
       "    </tr>\n",
       "    <tr>\n",
       "      <th>...</th>\n",
       "      <td>...</td>\n",
       "      <td>...</td>\n",
       "      <td>...</td>\n",
       "      <td>...</td>\n",
       "      <td>...</td>\n",
       "      <td>...</td>\n",
       "      <td>...</td>\n",
       "      <td>...</td>\n",
       "      <td>...</td>\n",
       "      <td>...</td>\n",
       "      <td>...</td>\n",
       "      <td>...</td>\n",
       "    </tr>\n",
       "    <tr>\n",
       "      <th>59993</th>\n",
       "      <td>2.457830</td>\n",
       "      <td>2.460685</td>\n",
       "      <td>1.0</td>\n",
       "      <td>16</td>\n",
       "      <td>2.460685</td>\n",
       "      <td>16.0</td>\n",
       "      <td>81.789893</td>\n",
       "      <td>1.051982</td>\n",
       "      <td>0.844432</td>\n",
       "      <td>NaN</td>\n",
       "      <td>NaN</td>\n",
       "      <td>NaN</td>\n",
       "    </tr>\n",
       "    <tr>\n",
       "      <th>59994</th>\n",
       "      <td>2.457830</td>\n",
       "      <td>2.461850</td>\n",
       "      <td>2.0</td>\n",
       "      <td>21</td>\n",
       "      <td>2.320462</td>\n",
       "      <td>19.0</td>\n",
       "      <td>74.822016</td>\n",
       "      <td>NaN</td>\n",
       "      <td>NaN</td>\n",
       "      <td>0.141387</td>\n",
       "      <td>2.0</td>\n",
       "      <td>17.020782</td>\n",
       "    </tr>\n",
       "    <tr>\n",
       "      <th>59996</th>\n",
       "      <td>2.457830</td>\n",
       "      <td>2.453377</td>\n",
       "      <td>1.0</td>\n",
       "      <td>22</td>\n",
       "      <td>2.453377</td>\n",
       "      <td>22.0</td>\n",
       "      <td>72.873822</td>\n",
       "      <td>0.902138</td>\n",
       "      <td>0.473505</td>\n",
       "      <td>NaN</td>\n",
       "      <td>NaN</td>\n",
       "      <td>NaN</td>\n",
       "    </tr>\n",
       "    <tr>\n",
       "      <th>59997</th>\n",
       "      <td>2.457830</td>\n",
       "      <td>2.455108</td>\n",
       "      <td>1.0</td>\n",
       "      <td>22</td>\n",
       "      <td>2.455108</td>\n",
       "      <td>22.0</td>\n",
       "      <td>35.444050</td>\n",
       "      <td>NaN</td>\n",
       "      <td>NaN</td>\n",
       "      <td>NaN</td>\n",
       "      <td>NaN</td>\n",
       "      <td>NaN</td>\n",
       "    </tr>\n",
       "    <tr>\n",
       "      <th>59998</th>\n",
       "      <td>2.457830</td>\n",
       "      <td>2.460071</td>\n",
       "      <td>3.0</td>\n",
       "      <td>26</td>\n",
       "      <td>2.400454</td>\n",
       "      <td>24.0</td>\n",
       "      <td>59.119357</td>\n",
       "      <td>NaN</td>\n",
       "      <td>NaN</td>\n",
       "      <td>0.029808</td>\n",
       "      <td>1.0</td>\n",
       "      <td>0.000000</td>\n",
       "    </tr>\n",
       "  </tbody>\n",
       "</table>\n",
       "<p>47636 rows × 12 columns</p>\n",
       "</div>"
      ],
      "text/plain": [
       "            mcE         E  num_tracks  num_voxels  track0_E  track0_voxels  \\\n",
       "0      2.457830  2.471280         1.0          17  2.471280           17.0   \n",
       "1      1.627345  1.629487         1.0          13  1.629487           13.0   \n",
       "2      2.457830  2.462075         1.0          14  2.462075           14.0   \n",
       "3      2.457830  2.460759         1.0          21  2.460759           21.0   \n",
       "4      2.457830  2.457934         2.0          20  2.428695           19.0   \n",
       "...         ...       ...         ...         ...       ...            ...   \n",
       "59993  2.457830  2.460685         1.0          16  2.460685           16.0   \n",
       "59994  2.457830  2.461850         2.0          21  2.320462           19.0   \n",
       "59996  2.457830  2.453377         1.0          22  2.453377           22.0   \n",
       "59997  2.457830  2.455108         1.0          22  2.455108           22.0   \n",
       "59998  2.457830  2.460071         3.0          26  2.400454           24.0   \n",
       "\n",
       "       track0_length   blob1_E   blob2_E  track1_E  track1_voxels  \\\n",
       "0          32.944061       NaN       NaN       NaN            NaN   \n",
       "1          37.781500  0.841852  0.695263       NaN            NaN   \n",
       "2          59.881962  0.961564  0.803745       NaN            NaN   \n",
       "3          96.354208  1.005637  0.890549       NaN            NaN   \n",
       "4          77.856795       NaN       NaN  0.029239            1.0   \n",
       "...              ...       ...       ...       ...            ...   \n",
       "59993      81.789893  1.051982  0.844432       NaN            NaN   \n",
       "59994      74.822016       NaN       NaN  0.141387            2.0   \n",
       "59996      72.873822  0.902138  0.473505       NaN            NaN   \n",
       "59997      35.444050       NaN       NaN       NaN            NaN   \n",
       "59998      59.119357       NaN       NaN  0.029808            1.0   \n",
       "\n",
       "       track1_length  \n",
       "0                NaN  \n",
       "1                NaN  \n",
       "2                NaN  \n",
       "3                NaN  \n",
       "4           0.000000  \n",
       "...              ...  \n",
       "59993            NaN  \n",
       "59994      17.020782  \n",
       "59996            NaN  \n",
       "59997            NaN  \n",
       "59998       0.000000  \n",
       "\n",
       "[47636 rows x 12 columns]"
      ]
     },
     "execution_count": 7,
     "metadata": {},
     "output_type": "execute_result"
    }
   ],
   "source": [
    "# print the some contents of the DataFrame of the bb mc sample\n",
    "mcbb"
   ]
  },
  {
   "cell_type": "code",
   "execution_count": 8,
   "metadata": {},
   "outputs": [
    {
     "name": "stdout",
     "output_type": "stream",
     "text": [
      "variable : mcE\n",
      "variable : E\n",
      "variable : num_tracks\n",
      "variable : num_voxels\n",
      "variable : track0_E\n",
      "variable : track0_voxels\n",
      "variable : track0_length\n",
      "variable : blob1_E\n",
      "variable : blob2_E\n",
      "variable : track1_E\n",
      "variable : track1_voxels\n",
      "variable : track1_length\n"
     ]
    }
   ],
   "source": [
    "# list the variables\n",
    "for label in mcbb.columns:\n",
    "    print('variable : {:s}'.format(label))"
   ]
  },
  {
   "cell_type": "markdown",
   "metadata": {},
   "source": [
    "### The distribution of the selection variables \n",
    "\n",
    "We plot the variables of the analysis for the different MC samples."
   ]
  },
  {
   "cell_type": "code",
   "execution_count": 9,
   "metadata": {},
   "outputs": [
    {
     "data": {
      "image/png": "[encoded data removed]",
      "text/plain": [
       "<Figure size 864x720 with 4 Axes>"
      ]
     },
     "metadata": {
      "needs_background": "light"
     },
     "output_type": "display_data"
    }
   ],
   "source": [
    "def plt_fanal_mc(bins = 100):\n",
    "    \"\"\" Plot the relevant analysis variables, for the different mc samples\n",
    "    \"\"\"\n",
    "\n",
    "    subplot = pltext.canvas(4)\n",
    "\n",
    "    subplot(1)\n",
    "    for i, mc in enumerate(mc_samples):\n",
    "        sel  = (mc.E >= sel_erange[0]) & (mc.E < sel_erange[1])\n",
    "        pltext.hist(mc.num_tracks[sel], int(bins/2), label = sample_names_latex[i],\n",
    "                    density = True, range = (0, 15), lw = 2)\n",
    "        plt.xlabel('number of tracks'); plt.title('E in range')\n",
    "\n",
    "    subplot(2)\n",
    "    for i, mc in enumerate(mc_samples):\n",
    "        sel  = (mc.E >= sel_erange[0]) & (mc.E < sel_erange[1]) & (mc.num_tracks <= sel_ntracks)\n",
    "        pltext.hist(mc.blob2_E[sel], bins,  label = sample_names_latex[i],\n",
    "                    density = True, lw = 2)\n",
    "        plt.xlabel('Energy blob2 (MeV)'); plt.title('E in range & 1 track')\n",
    "        \n",
    "    subplot(3)\n",
    "    for i, mc in enumerate(mc_samples):\n",
    "        sel = (mc.E >= sel_erange[0]) & (mc.E < sel_erange[1]) & (mc.num_tracks <= sel_ntracks)\n",
    "        # sel = ut.in_range(mc.E, erange) equivalent using in_range method of utils\n",
    "        pltext.hist(mc.E[sel], bins, label = sample_names_latex[i],\n",
    "                    density = True, lw = 2)\n",
    "        plt.xlabel('Energy (MeV)'); plt.title('E in range & 1 track');\n",
    "\n",
    "    subplot(4)\n",
    "    for i, mc in enumerate(mc_samples):\n",
    "        sel  = (mc.E >= sel_eroi[0]) & (mc.E < sel_eroi[1]) & (mc.num_tracks <= sel_ntracks) & (mc.blob2_E >= sel_eblob2)\n",
    "        pltext.hist(mc.E[sel], bins,  label = sample_names_latex[i], density = True, lw = 2)\n",
    "        plt.xlabel('Energy  (MeV)'); plt.title('E in RoI & 1 track & blob2 cut') \n",
    "    \n",
    "    plt.tight_layout();\n",
    "    return\n",
    "\n",
    "plt_fanal_mc()"
   ]
  },
  {
   "cell_type": "markdown",
   "metadata": {},
   "source": [
    "**Exercise**: Study the variables and decide wich ones have the larges discrimination power between signal and background."
   ]
  },
  {
   "cell_type": "markdown",
   "metadata": {},
   "source": [
    "## Efficiencies\n",
    "\n",
    "We compute the efficiency of each of the selection cut and the efficiency of the selection for the bkg and the signal\n",
    "\n",
    "In the example, only the efficiency for the signal is printed and plotted.\n",
    "\n",
    "**Explore** Inspect what is the meaning of *mask* in the following cells\n",
    "\n",
    "**Exercise** Compute the efficiencies for the background"
   ]
  },
  {
   "cell_type": "code",
   "execution_count": 10,
   "metadata": {},
   "outputs": [
    {
     "name": "stdout",
     "output_type": "stream",
     "text": [
      "Efficiencies Bi :   1 track = 0.14504,   E blob2 = 0.01929,   E = 0.01799,   RoI = 0.01550, \n",
      "Efficiencies Tl :   1 track = 0.04630,   E blob2 = 0.00734,   E = 0.00730,   RoI = 0.00019, \n",
      "Efficiencies bb :   1 track = 0.71757,   E blob2 = 0.57719,   E = 0.51906,   RoI = 0.51885, \n"
     ]
    }
   ],
   "source": [
    "# names in the plot\n",
    "sample_efficiencies = []\n",
    "\n",
    "def efficiency(mask):\n",
    "    return float(sum(mask)/len(mask))\n",
    "\n",
    "for mc in mc_samples:\n",
    "\n",
    "    mask1 = mc.num_tracks <= sel_ntracks\n",
    "    eff1  = efficiency(mask1)\n",
    "    \n",
    "    mask2 = mask1 & (mc.blob2_E > sel_eblob2)\n",
    "    eff2  = efficiency(mask2)\n",
    "    \n",
    "    mask3 = mask2 & (mc.E >= sel_erange[0]) & (mc.E < sel_erange[1])\n",
    "    eff3  = efficiency(mask3)\n",
    "\n",
    "    mask4 = mask3 & (mc.E >= sel_eroi[0]) & (mc.E < sel_eroi[1])\n",
    "    eff4  = efficiency(mask4)\n",
    "    \n",
    "    sample_efficiencies.append((eff1, eff2, eff3, eff4))\n",
    "    \n",
    "sel_names  = [\"1 track\", \"E blob2\", \"E\", \"RoI\"]\n",
    "\n",
    "for i, ieffs in enumerate(sample_efficiencies):\n",
    "    print('Efficiencies ' + sample_names[i], ': ', \\\n",
    "          *[' {:s} = {:6.5f}, '.format(s, eff) for s, eff in zip(sel_names, ieffs)])"
   ]
  },
  {
   "cell_type": "code",
   "execution_count": 11,
   "metadata": {},
   "outputs": [
    {
     "data": {
      "image/png": "[encoded data removed]",
      "text/plain": [
       "<Figure size 576x432 with 1 Axes>"
      ]
     },
     "metadata": {
      "needs_background": "light"
     },
     "output_type": "display_data"
    }
   ],
   "source": [
    "subplot = pltext.canvas(1, 1, 6, 8)\n",
    "subplot(1)\n",
    "for sample, efficiencies in zip(sample_names_latex, sample_efficiencies):\n",
    "    plt.plot(sel_names, efficiencies, marker = 'o', label = sample, lw = 2)\n",
    "plt.grid(which = 'both'); plt.yscale('log'); plt.legend();\n",
    "plt.title('efficiencies vs cut');"
   ]
  },
  {
   "cell_type": "markdown",
   "metadata": {},
   "source": [
    "### Write out\n",
    "\n",
    "We write the relevant python variables into a file *collpars.py*, which contains the relevant parameters of the analysis and which will be used in the following notebooks.\n",
    "\n",
    "WE write out into the parameter file:\n",
    "\n",
    "  * The selection cuts\n",
    "  * The efficiencies of the selection for each sample"
   ]
  },
  {
   "cell_type": "code",
   "execution_count": 12,
   "metadata": {},
   "outputs": [],
   "source": [
    "write = True\n",
    "if (write):\n",
    "    of = open('collpars.py', 'a')\n",
    "    of.write('collaboration   = \"' + coll + '\"\\n')\n",
    "    of.write('sel_ntracks     = ' + str(sel_ntracks) + '\\n')\n",
    "    of.write('sel_eblob2      = ' + str(sel_eblob2) + ' # MeV\\n')\n",
    "    of.write('sel_erange      = ' + str(sel_erange) + ' # MeV\\n')\n",
    "    of.write('sel_eroi        = ' + str(sel_eroi)   + ' # MeV\\n')\n",
    "    for sample, efficiencies in zip(sample_names, sample_efficiencies):\n",
    "        of.write('eff_'+sample+'_E        = {:1.2e}'.format(efficiencies[-2])+'\\n')\n",
    "        of.write('eff_'+sample+'_RoI      = {:1.2e}'.format(efficiencies[-1])+'\\n')\n",
    "#    for i, sample in enumerate(tsamples):\n",
    "#        sigma = resolutions[i][0]\n",
    "#        of.write('sigma_'+sample+'        = {:1.2e} # keV'.format(sigma)+'\\n')\n",
    "    of.close()"
   ]
  },
  {
   "cell_type": "code",
   "execution_count": null,
   "metadata": {},
   "outputs": [],
   "source": []
  }
 ],
 "metadata": {
  "kernelspec": {
   "display_name": "Python 3 (ipykernel)",
   "language": "python",
   "name": "python3"
  },
  "language_info": {
   "codemirror_mode": {
    "name": "ipython",
    "version": 3
   },
   "file_extension": ".py",
   "mimetype": "text/x-python",
   "name": "python",
   "nbconvert_exporter": "python",
   "pygments_lexer": "ipython3",
   "version": "3.7.11"
  },
  "vscode": {
   "interpreter": {
    "hash": "43bf40b08b0c659beee69adf0e375d89f2700363cec8d5fb661c131f1f6d870f"
   }
  }
 },
 "nbformat": 4,
 "nbformat_minor": 2
}
